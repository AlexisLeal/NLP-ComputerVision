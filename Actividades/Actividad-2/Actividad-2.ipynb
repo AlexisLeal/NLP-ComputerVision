{
 "cells": [
  {
   "cell_type": "code",
   "execution_count": 1,
   "metadata": {
    "collapsed": true
   },
   "outputs": [],
   "source": [
    "\n",
    "from sklearn import datasets\n",
    "import pandas as pd\n",
    "from sklearn.model_selection import train_test_split\n",
    "from sklearn import preprocessing\n",
    "from sklearn.discriminant_analysis import LinearDiscriminantAnalysis\n",
    "import matplotlib.pyplot as plt\n",
    "from sklearn.naive_bayes import GaussianNB"
   ]
  },
  {
   "cell_type": "code",
   "execution_count": 2,
   "outputs": [],
   "source": [
    "Wine = datasets.load_wine()"
   ],
   "metadata": {
    "collapsed": false
   }
  },
  {
   "cell_type": "code",
   "execution_count": 3,
   "outputs": [
    {
     "data": {
      "text/plain": "{'data': array([[1.423e+01, 1.710e+00, 2.430e+00, ..., 1.040e+00, 3.920e+00,\n         1.065e+03],\n        [1.320e+01, 1.780e+00, 2.140e+00, ..., 1.050e+00, 3.400e+00,\n         1.050e+03],\n        [1.316e+01, 2.360e+00, 2.670e+00, ..., 1.030e+00, 3.170e+00,\n         1.185e+03],\n        ...,\n        [1.327e+01, 4.280e+00, 2.260e+00, ..., 5.900e-01, 1.560e+00,\n         8.350e+02],\n        [1.317e+01, 2.590e+00, 2.370e+00, ..., 6.000e-01, 1.620e+00,\n         8.400e+02],\n        [1.413e+01, 4.100e+00, 2.740e+00, ..., 6.100e-01, 1.600e+00,\n         5.600e+02]]),\n 'target': array([0, 0, 0, 0, 0, 0, 0, 0, 0, 0, 0, 0, 0, 0, 0, 0, 0, 0, 0, 0, 0, 0,\n        0, 0, 0, 0, 0, 0, 0, 0, 0, 0, 0, 0, 0, 0, 0, 0, 0, 0, 0, 0, 0, 0,\n        0, 0, 0, 0, 0, 0, 0, 0, 0, 0, 0, 0, 0, 0, 0, 1, 1, 1, 1, 1, 1, 1,\n        1, 1, 1, 1, 1, 1, 1, 1, 1, 1, 1, 1, 1, 1, 1, 1, 1, 1, 1, 1, 1, 1,\n        1, 1, 1, 1, 1, 1, 1, 1, 1, 1, 1, 1, 1, 1, 1, 1, 1, 1, 1, 1, 1, 1,\n        1, 1, 1, 1, 1, 1, 1, 1, 1, 1, 1, 1, 1, 1, 1, 1, 1, 1, 1, 1, 2, 2,\n        2, 2, 2, 2, 2, 2, 2, 2, 2, 2, 2, 2, 2, 2, 2, 2, 2, 2, 2, 2, 2, 2,\n        2, 2, 2, 2, 2, 2, 2, 2, 2, 2, 2, 2, 2, 2, 2, 2, 2, 2, 2, 2, 2, 2,\n        2, 2]),\n 'frame': None,\n 'target_names': array(['class_0', 'class_1', 'class_2'], dtype='<U7'),\n 'DESCR': '.. _wine_dataset:\\n\\nWine recognition dataset\\n------------------------\\n\\n**Data Set Characteristics:**\\n\\n    :Number of Instances: 178\\n    :Number of Attributes: 13 numeric, predictive attributes and the class\\n    :Attribute Information:\\n \\t\\t- Alcohol\\n \\t\\t- Malic acid\\n \\t\\t- Ash\\n\\t\\t- Alcalinity of ash  \\n \\t\\t- Magnesium\\n\\t\\t- Total phenols\\n \\t\\t- Flavanoids\\n \\t\\t- Nonflavanoid phenols\\n \\t\\t- Proanthocyanins\\n\\t\\t- Color intensity\\n \\t\\t- Hue\\n \\t\\t- OD280/OD315 of diluted wines\\n \\t\\t- Proline\\n\\n    - class:\\n            - class_0\\n            - class_1\\n            - class_2\\n\\t\\t\\n    :Summary Statistics:\\n    \\n    ============================= ==== ===== ======= =====\\n                                   Min   Max   Mean     SD\\n    ============================= ==== ===== ======= =====\\n    Alcohol:                      11.0  14.8    13.0   0.8\\n    Malic Acid:                   0.74  5.80    2.34  1.12\\n    Ash:                          1.36  3.23    2.36  0.27\\n    Alcalinity of Ash:            10.6  30.0    19.5   3.3\\n    Magnesium:                    70.0 162.0    99.7  14.3\\n    Total Phenols:                0.98  3.88    2.29  0.63\\n    Flavanoids:                   0.34  5.08    2.03  1.00\\n    Nonflavanoid Phenols:         0.13  0.66    0.36  0.12\\n    Proanthocyanins:              0.41  3.58    1.59  0.57\\n    Colour Intensity:              1.3  13.0     5.1   2.3\\n    Hue:                          0.48  1.71    0.96  0.23\\n    OD280/OD315 of diluted wines: 1.27  4.00    2.61  0.71\\n    Proline:                       278  1680     746   315\\n    ============================= ==== ===== ======= =====\\n\\n    :Missing Attribute Values: None\\n    :Class Distribution: class_0 (59), class_1 (71), class_2 (48)\\n    :Creator: R.A. Fisher\\n    :Donor: Michael Marshall (MARSHALL%PLU@io.arc.nasa.gov)\\n    :Date: July, 1988\\n\\nThis is a copy of UCI ML Wine recognition datasets.\\nhttps://archive.ics.uci.edu/ml/machine-learning-databases/wine/wine.data\\n\\nThe data is the results of a chemical analysis of wines grown in the same\\nregion in Italy by three different cultivators. There are thirteen different\\nmeasurements taken for different constituents found in the three types of\\nwine.\\n\\nOriginal Owners: \\n\\nForina, M. et al, PARVUS - \\nAn Extendible Package for Data Exploration, Classification and Correlation. \\nInstitute of Pharmaceutical and Food Analysis and Technologies,\\nVia Brigata Salerno, 16147 Genoa, Italy.\\n\\nCitation:\\n\\nLichman, M. (2013). UCI Machine Learning Repository\\n[https://archive.ics.uci.edu/ml]. Irvine, CA: University of California,\\nSchool of Information and Computer Science. \\n\\n.. topic:: References\\n\\n  (1) S. Aeberhard, D. Coomans and O. de Vel, \\n  Comparison of Classifiers in High Dimensional Settings, \\n  Tech. Rep. no. 92-02, (1992), Dept. of Computer Science and Dept. of  \\n  Mathematics and Statistics, James Cook University of North Queensland. \\n  (Also submitted to Technometrics). \\n\\n  The data was used with many others for comparing various \\n  classifiers. The classes are separable, though only RDA \\n  has achieved 100% correct classification. \\n  (RDA : 100%, QDA 99.4%, LDA 98.9%, 1NN 96.1% (z-transformed data)) \\n  (All results using the leave-one-out technique) \\n\\n  (2) S. Aeberhard, D. Coomans and O. de Vel, \\n  \"THE CLASSIFICATION PERFORMANCE OF RDA\" \\n  Tech. Rep. no. 92-01, (1992), Dept. of Computer Science and Dept. of \\n  Mathematics and Statistics, James Cook University of North Queensland. \\n  (Also submitted to Journal of Chemometrics).\\n',\n 'feature_names': ['alcohol',\n  'malic_acid',\n  'ash',\n  'alcalinity_of_ash',\n  'magnesium',\n  'total_phenols',\n  'flavanoids',\n  'nonflavanoid_phenols',\n  'proanthocyanins',\n  'color_intensity',\n  'hue',\n  'od280/od315_of_diluted_wines',\n  'proline']}"
     },
     "execution_count": 3,
     "metadata": {},
     "output_type": "execute_result"
    }
   ],
   "source": [
    "Wine"
   ],
   "metadata": {
    "collapsed": false
   }
  },
  {
   "cell_type": "code",
   "execution_count": 4,
   "outputs": [],
   "source": [
    "#Mostramos la data de en forma de data set\n",
    "df = pd.DataFrame(Wine.data,columns=Wine.feature_names)\n",
    "df['label'] = Wine.target"
   ],
   "metadata": {
    "collapsed": false
   }
  },
  {
   "cell_type": "code",
   "execution_count": 5,
   "outputs": [
    {
     "data": {
      "text/plain": "   alcohol  malic_acid   ash  alcalinity_of_ash  magnesium  total_phenols  \\\n0    14.23        1.71  2.43               15.6      127.0           2.80   \n1    13.20        1.78  2.14               11.2      100.0           2.65   \n2    13.16        2.36  2.67               18.6      101.0           2.80   \n3    14.37        1.95  2.50               16.8      113.0           3.85   \n4    13.24        2.59  2.87               21.0      118.0           2.80   \n\n   flavanoids  nonflavanoid_phenols  proanthocyanins  color_intensity   hue  \\\n0        3.06                  0.28             2.29             5.64  1.04   \n1        2.76                  0.26             1.28             4.38  1.05   \n2        3.24                  0.30             2.81             5.68  1.03   \n3        3.49                  0.24             2.18             7.80  0.86   \n4        2.69                  0.39             1.82             4.32  1.04   \n\n   od280/od315_of_diluted_wines  proline  label  \n0                          3.92   1065.0      0  \n1                          3.40   1050.0      0  \n2                          3.17   1185.0      0  \n3                          3.45   1480.0      0  \n4                          2.93    735.0      0  ",
      "text/html": "<div>\n<style scoped>\n    .dataframe tbody tr th:only-of-type {\n        vertical-align: middle;\n    }\n\n    .dataframe tbody tr th {\n        vertical-align: top;\n    }\n\n    .dataframe thead th {\n        text-align: right;\n    }\n</style>\n<table border=\"1\" class=\"dataframe\">\n  <thead>\n    <tr style=\"text-align: right;\">\n      <th></th>\n      <th>alcohol</th>\n      <th>malic_acid</th>\n      <th>ash</th>\n      <th>alcalinity_of_ash</th>\n      <th>magnesium</th>\n      <th>total_phenols</th>\n      <th>flavanoids</th>\n      <th>nonflavanoid_phenols</th>\n      <th>proanthocyanins</th>\n      <th>color_intensity</th>\n      <th>hue</th>\n      <th>od280/od315_of_diluted_wines</th>\n      <th>proline</th>\n      <th>label</th>\n    </tr>\n  </thead>\n  <tbody>\n    <tr>\n      <th>0</th>\n      <td>14.23</td>\n      <td>1.71</td>\n      <td>2.43</td>\n      <td>15.6</td>\n      <td>127.0</td>\n      <td>2.80</td>\n      <td>3.06</td>\n      <td>0.28</td>\n      <td>2.29</td>\n      <td>5.64</td>\n      <td>1.04</td>\n      <td>3.92</td>\n      <td>1065.0</td>\n      <td>0</td>\n    </tr>\n    <tr>\n      <th>1</th>\n      <td>13.20</td>\n      <td>1.78</td>\n      <td>2.14</td>\n      <td>11.2</td>\n      <td>100.0</td>\n      <td>2.65</td>\n      <td>2.76</td>\n      <td>0.26</td>\n      <td>1.28</td>\n      <td>4.38</td>\n      <td>1.05</td>\n      <td>3.40</td>\n      <td>1050.0</td>\n      <td>0</td>\n    </tr>\n    <tr>\n      <th>2</th>\n      <td>13.16</td>\n      <td>2.36</td>\n      <td>2.67</td>\n      <td>18.6</td>\n      <td>101.0</td>\n      <td>2.80</td>\n      <td>3.24</td>\n      <td>0.30</td>\n      <td>2.81</td>\n      <td>5.68</td>\n      <td>1.03</td>\n      <td>3.17</td>\n      <td>1185.0</td>\n      <td>0</td>\n    </tr>\n    <tr>\n      <th>3</th>\n      <td>14.37</td>\n      <td>1.95</td>\n      <td>2.50</td>\n      <td>16.8</td>\n      <td>113.0</td>\n      <td>3.85</td>\n      <td>3.49</td>\n      <td>0.24</td>\n      <td>2.18</td>\n      <td>7.80</td>\n      <td>0.86</td>\n      <td>3.45</td>\n      <td>1480.0</td>\n      <td>0</td>\n    </tr>\n    <tr>\n      <th>4</th>\n      <td>13.24</td>\n      <td>2.59</td>\n      <td>2.87</td>\n      <td>21.0</td>\n      <td>118.0</td>\n      <td>2.80</td>\n      <td>2.69</td>\n      <td>0.39</td>\n      <td>1.82</td>\n      <td>4.32</td>\n      <td>1.04</td>\n      <td>2.93</td>\n      <td>735.0</td>\n      <td>0</td>\n    </tr>\n  </tbody>\n</table>\n</div>"
     },
     "execution_count": 5,
     "metadata": {},
     "output_type": "execute_result"
    }
   ],
   "source": [
    "df.head()"
   ],
   "metadata": {
    "collapsed": false
   }
  },
  {
   "cell_type": "code",
   "execution_count": 6,
   "outputs": [
    {
     "data": {
      "text/plain": "          alcohol  malic_acid         ash  alcalinity_of_ash   magnesium  \\\ncount  178.000000  178.000000  178.000000         178.000000  178.000000   \nmean    13.000618    2.336348    2.366517          19.494944   99.741573   \nstd      0.811827    1.117146    0.274344           3.339564   14.282484   \nmin     11.030000    0.740000    1.360000          10.600000   70.000000   \n25%     12.362500    1.602500    2.210000          17.200000   88.000000   \n50%     13.050000    1.865000    2.360000          19.500000   98.000000   \n75%     13.677500    3.082500    2.557500          21.500000  107.000000   \nmax     14.830000    5.800000    3.230000          30.000000  162.000000   \n\n       total_phenols  flavanoids  nonflavanoid_phenols  proanthocyanins  \\\ncount     178.000000  178.000000            178.000000       178.000000   \nmean        2.295112    2.029270              0.361854         1.590899   \nstd         0.625851    0.998859              0.124453         0.572359   \nmin         0.980000    0.340000              0.130000         0.410000   \n25%         1.742500    1.205000              0.270000         1.250000   \n50%         2.355000    2.135000              0.340000         1.555000   \n75%         2.800000    2.875000              0.437500         1.950000   \nmax         3.880000    5.080000              0.660000         3.580000   \n\n       color_intensity         hue  od280/od315_of_diluted_wines      proline  \\\ncount       178.000000  178.000000                    178.000000   178.000000   \nmean          5.058090    0.957449                      2.611685   746.893258   \nstd           2.318286    0.228572                      0.709990   314.907474   \nmin           1.280000    0.480000                      1.270000   278.000000   \n25%           3.220000    0.782500                      1.937500   500.500000   \n50%           4.690000    0.965000                      2.780000   673.500000   \n75%           6.200000    1.120000                      3.170000   985.000000   \nmax          13.000000    1.710000                      4.000000  1680.000000   \n\n            label  \ncount  178.000000  \nmean     0.938202  \nstd      0.775035  \nmin      0.000000  \n25%      0.000000  \n50%      1.000000  \n75%      2.000000  \nmax      2.000000  ",
      "text/html": "<div>\n<style scoped>\n    .dataframe tbody tr th:only-of-type {\n        vertical-align: middle;\n    }\n\n    .dataframe tbody tr th {\n        vertical-align: top;\n    }\n\n    .dataframe thead th {\n        text-align: right;\n    }\n</style>\n<table border=\"1\" class=\"dataframe\">\n  <thead>\n    <tr style=\"text-align: right;\">\n      <th></th>\n      <th>alcohol</th>\n      <th>malic_acid</th>\n      <th>ash</th>\n      <th>alcalinity_of_ash</th>\n      <th>magnesium</th>\n      <th>total_phenols</th>\n      <th>flavanoids</th>\n      <th>nonflavanoid_phenols</th>\n      <th>proanthocyanins</th>\n      <th>color_intensity</th>\n      <th>hue</th>\n      <th>od280/od315_of_diluted_wines</th>\n      <th>proline</th>\n      <th>label</th>\n    </tr>\n  </thead>\n  <tbody>\n    <tr>\n      <th>count</th>\n      <td>178.000000</td>\n      <td>178.000000</td>\n      <td>178.000000</td>\n      <td>178.000000</td>\n      <td>178.000000</td>\n      <td>178.000000</td>\n      <td>178.000000</td>\n      <td>178.000000</td>\n      <td>178.000000</td>\n      <td>178.000000</td>\n      <td>178.000000</td>\n      <td>178.000000</td>\n      <td>178.000000</td>\n      <td>178.000000</td>\n    </tr>\n    <tr>\n      <th>mean</th>\n      <td>13.000618</td>\n      <td>2.336348</td>\n      <td>2.366517</td>\n      <td>19.494944</td>\n      <td>99.741573</td>\n      <td>2.295112</td>\n      <td>2.029270</td>\n      <td>0.361854</td>\n      <td>1.590899</td>\n      <td>5.058090</td>\n      <td>0.957449</td>\n      <td>2.611685</td>\n      <td>746.893258</td>\n      <td>0.938202</td>\n    </tr>\n    <tr>\n      <th>std</th>\n      <td>0.811827</td>\n      <td>1.117146</td>\n      <td>0.274344</td>\n      <td>3.339564</td>\n      <td>14.282484</td>\n      <td>0.625851</td>\n      <td>0.998859</td>\n      <td>0.124453</td>\n      <td>0.572359</td>\n      <td>2.318286</td>\n      <td>0.228572</td>\n      <td>0.709990</td>\n      <td>314.907474</td>\n      <td>0.775035</td>\n    </tr>\n    <tr>\n      <th>min</th>\n      <td>11.030000</td>\n      <td>0.740000</td>\n      <td>1.360000</td>\n      <td>10.600000</td>\n      <td>70.000000</td>\n      <td>0.980000</td>\n      <td>0.340000</td>\n      <td>0.130000</td>\n      <td>0.410000</td>\n      <td>1.280000</td>\n      <td>0.480000</td>\n      <td>1.270000</td>\n      <td>278.000000</td>\n      <td>0.000000</td>\n    </tr>\n    <tr>\n      <th>25%</th>\n      <td>12.362500</td>\n      <td>1.602500</td>\n      <td>2.210000</td>\n      <td>17.200000</td>\n      <td>88.000000</td>\n      <td>1.742500</td>\n      <td>1.205000</td>\n      <td>0.270000</td>\n      <td>1.250000</td>\n      <td>3.220000</td>\n      <td>0.782500</td>\n      <td>1.937500</td>\n      <td>500.500000</td>\n      <td>0.000000</td>\n    </tr>\n    <tr>\n      <th>50%</th>\n      <td>13.050000</td>\n      <td>1.865000</td>\n      <td>2.360000</td>\n      <td>19.500000</td>\n      <td>98.000000</td>\n      <td>2.355000</td>\n      <td>2.135000</td>\n      <td>0.340000</td>\n      <td>1.555000</td>\n      <td>4.690000</td>\n      <td>0.965000</td>\n      <td>2.780000</td>\n      <td>673.500000</td>\n      <td>1.000000</td>\n    </tr>\n    <tr>\n      <th>75%</th>\n      <td>13.677500</td>\n      <td>3.082500</td>\n      <td>2.557500</td>\n      <td>21.500000</td>\n      <td>107.000000</td>\n      <td>2.800000</td>\n      <td>2.875000</td>\n      <td>0.437500</td>\n      <td>1.950000</td>\n      <td>6.200000</td>\n      <td>1.120000</td>\n      <td>3.170000</td>\n      <td>985.000000</td>\n      <td>2.000000</td>\n    </tr>\n    <tr>\n      <th>max</th>\n      <td>14.830000</td>\n      <td>5.800000</td>\n      <td>3.230000</td>\n      <td>30.000000</td>\n      <td>162.000000</td>\n      <td>3.880000</td>\n      <td>5.080000</td>\n      <td>0.660000</td>\n      <td>3.580000</td>\n      <td>13.000000</td>\n      <td>1.710000</td>\n      <td>4.000000</td>\n      <td>1680.000000</td>\n      <td>2.000000</td>\n    </tr>\n  </tbody>\n</table>\n</div>"
     },
     "execution_count": 6,
     "metadata": {},
     "output_type": "execute_result"
    }
   ],
   "source": [
    "#Obtenemos informacion importante del data set\n",
    "df.describe()"
   ],
   "metadata": {
    "collapsed": false
   }
  },
  {
   "cell_type": "code",
   "execution_count": 7,
   "outputs": [
    {
     "data": {
      "text/plain": "(178, 14)"
     },
     "execution_count": 7,
     "metadata": {},
     "output_type": "execute_result"
    }
   ],
   "source": [
    "df.shape"
   ],
   "metadata": {
    "collapsed": false
   }
  },
  {
   "cell_type": "markdown",
   "source": [
    "Analisis de datos"
   ],
   "metadata": {
    "collapsed": false
   }
  },
  {
   "cell_type": "code",
   "execution_count": 8,
   "outputs": [
    {
     "data": {
      "text/plain": "0    59\n1    71\n2    48\nName: label, dtype: int64"
     },
     "execution_count": 8,
     "metadata": {},
     "output_type": "execute_result"
    }
   ],
   "source": [
    "df_label = df.label.astype('int64').astype('category').copy()\n",
    "frecuencia=df_label.value_counts()\n",
    "frecuencia.sort_index()"
   ],
   "metadata": {
    "collapsed": false
   }
  },
  {
   "cell_type": "code",
   "execution_count": 9,
   "outputs": [
    {
     "data": {
      "text/plain": "<Axes: >"
     },
     "execution_count": 9,
     "metadata": {},
     "output_type": "execute_result"
    },
    {
     "data": {
      "text/plain": "<Figure size 640x480 with 1 Axes>",
      "image/png": "[encoded data removed]"
     },
     "metadata": {},
     "output_type": "display_data"
    }
   ],
   "source": [
    "frecuencia.plot(kind='bar')"
   ],
   "metadata": {
    "collapsed": false
   }
  },
  {
   "cell_type": "code",
   "execution_count": 10,
   "outputs": [
    {
     "data": {
      "text/plain": "array([[<Axes: title={'center': 'alcohol'}>,\n        <Axes: title={'center': 'magnesium'}>],\n       [<Axes: title={'center': 'color_intensity'}>, <Axes: >]],\n      dtype=object)"
     },
     "execution_count": 10,
     "metadata": {},
     "output_type": "execute_result"
    },
    {
     "data": {
      "text/plain": "<Figure size 640x480 with 4 Axes>",
      "image/png": "[encoded data removed]"
     },
     "metadata": {},
     "output_type": "display_data"
    }
   ],
   "source": [
    "df[['alcohol','magnesium','color_intensity']].hist()"
   ],
   "metadata": {
    "collapsed": false
   }
  },
  {
   "cell_type": "markdown",
   "source": [
    "Normalizar datos"
   ],
   "metadata": {
    "collapsed": false
   }
  },
  {
   "cell_type": "code",
   "execution_count": 11,
   "outputs": [
    {
     "data": {
      "text/plain": "['alcohol',\n 'malic_acid',\n 'ash',\n 'alcalinity_of_ash',\n 'magnesium',\n 'total_phenols',\n 'flavanoids',\n 'nonflavanoid_phenols',\n 'proanthocyanins',\n 'color_intensity',\n 'hue',\n 'od280/od315_of_diluted_wines',\n 'proline',\n 'label']"
     },
     "execution_count": 11,
     "metadata": {},
     "output_type": "execute_result"
    }
   ],
   "source": [
    "#Realizamos una copia de los datos esto es importante por el concepto de valor y referencia\n",
    "list_FN = Wine.feature_names.copy()\n",
    "list_FN.append('label')\n",
    "list_FN "
   ],
   "metadata": {
    "collapsed": false
   }
  },
  {
   "cell_type": "code",
   "execution_count": 12,
   "outputs": [],
   "source": [
    "datos = df.values.copy()\n",
    "min_max_scaler = preprocessing.MinMaxScaler()\n",
    "datos_scaled = min_max_scaler.fit_transform(datos)\n",
    "df_Normalizado = pd.DataFrame(datos_scaled,columns=list_FN)"
   ],
   "metadata": {
    "collapsed": false
   }
  },
  {
   "cell_type": "code",
   "execution_count": 13,
   "outputs": [
    {
     "data": {
      "text/plain": "      alcohol  malic_acid       ash  alcalinity_of_ash  magnesium  \\\n0    0.842105    0.191700  0.572193           0.257732   0.619565   \n1    0.571053    0.205534  0.417112           0.030928   0.326087   \n2    0.560526    0.320158  0.700535           0.412371   0.336957   \n3    0.878947    0.239130  0.609626           0.319588   0.467391   \n4    0.581579    0.365613  0.807487           0.536082   0.521739   \n..        ...         ...       ...                ...        ...   \n173  0.705263    0.970356  0.582888           0.510309   0.271739   \n174  0.623684    0.626482  0.598930           0.639175   0.347826   \n175  0.589474    0.699605  0.481283           0.484536   0.543478   \n176  0.563158    0.365613  0.540107           0.484536   0.543478   \n177  0.815789    0.664032  0.737968           0.716495   0.282609   \n\n     total_phenols  flavanoids  nonflavanoid_phenols  proanthocyanins  \\\n0         0.627586    0.573840              0.283019         0.593060   \n1         0.575862    0.510549              0.245283         0.274448   \n2         0.627586    0.611814              0.320755         0.757098   \n3         0.989655    0.664557              0.207547         0.558360   \n4         0.627586    0.495781              0.490566         0.444795   \n..             ...         ...                   ...              ...   \n173       0.241379    0.056962              0.735849         0.205047   \n174       0.282759    0.086498              0.566038         0.315457   \n175       0.210345    0.073840              0.566038         0.296530   \n176       0.231034    0.071730              0.754717         0.331230   \n177       0.368966    0.088608              0.811321         0.296530   \n\n     color_intensity       hue  od280/od315_of_diluted_wines   proline  label  \n0           0.372014  0.455285                      0.970696  0.561341    0.0  \n1           0.264505  0.463415                      0.780220  0.550642    0.0  \n2           0.375427  0.447154                      0.695971  0.646933    0.0  \n3           0.556314  0.308943                      0.798535  0.857347    0.0  \n4           0.259386  0.455285                      0.608059  0.325963    0.0  \n..               ...       ...                           ...       ...    ...  \n173         0.547782  0.130081                      0.172161  0.329529    1.0  \n174         0.513652  0.178862                      0.106227  0.336662    1.0  \n175         0.761092  0.089431                      0.106227  0.397290    1.0  \n176         0.684300  0.097561                      0.128205  0.400856    1.0  \n177         0.675768  0.105691                      0.120879  0.201141    1.0  \n\n[178 rows x 14 columns]",
      "text/html": "<div>\n<style scoped>\n    .dataframe tbody tr th:only-of-type {\n        vertical-align: middle;\n    }\n\n    .dataframe tbody tr th {\n        vertical-align: top;\n    }\n\n    .dataframe thead th {\n        text-align: right;\n    }\n</style>\n<table border=\"1\" class=\"dataframe\">\n  <thead>\n    <tr style=\"text-align: right;\">\n      <th></th>\n      <th>alcohol</th>\n      <th>malic_acid</th>\n      <th>ash</th>\n      <th>alcalinity_of_ash</th>\n      <th>magnesium</th>\n      <th>total_phenols</th>\n      <th>flavanoids</th>\n      <th>nonflavanoid_phenols</th>\n      <th>proanthocyanins</th>\n      <th>color_intensity</th>\n      <th>hue</th>\n      <th>od280/od315_of_diluted_wines</th>\n      <th>proline</th>\n      <th>label</th>\n    </tr>\n  </thead>\n  <tbody>\n    <tr>\n      <th>0</th>\n      <td>0.842105</td>\n      <td>0.191700</td>\n      <td>0.572193</td>\n      <td>0.257732</td>\n      <td>0.619565</td>\n      <td>0.627586</td>\n      <td>0.573840</td>\n      <td>0.283019</td>\n      <td>0.593060</td>\n      <td>0.372014</td>\n      <td>0.455285</td>\n      <td>0.970696</td>\n      <td>0.561341</td>\n      <td>0.0</td>\n    </tr>\n    <tr>\n      <th>1</th>\n      <td>0.571053</td>\n      <td>0.205534</td>\n      <td>0.417112</td>\n      <td>0.030928</td>\n      <td>0.326087</td>\n      <td>0.575862</td>\n      <td>0.510549</td>\n      <td>0.245283</td>\n      <td>0.274448</td>\n      <td>0.264505</td>\n      <td>0.463415</td>\n      <td>0.780220</td>\n      <td>0.550642</td>\n      <td>0.0</td>\n    </tr>\n    <tr>\n      <th>2</th>\n      <td>0.560526</td>\n      <td>0.320158</td>\n      <td>0.700535</td>\n      <td>0.412371</td>\n      <td>0.336957</td>\n      <td>0.627586</td>\n      <td>0.611814</td>\n      <td>0.320755</td>\n      <td>0.757098</td>\n      <td>0.375427</td>\n      <td>0.447154</td>\n      <td>0.695971</td>\n      <td>0.646933</td>\n      <td>0.0</td>\n    </tr>\n    <tr>\n      <th>3</th>\n      <td>0.878947</td>\n      <td>0.239130</td>\n      <td>0.609626</td>\n      <td>0.319588</td>\n      <td>0.467391</td>\n      <td>0.989655</td>\n      <td>0.664557</td>\n      <td>0.207547</td>\n      <td>0.558360</td>\n      <td>0.556314</td>\n      <td>0.308943</td>\n      <td>0.798535</td>\n      <td>0.857347</td>\n      <td>0.0</td>\n    </tr>\n    <tr>\n      <th>4</th>\n      <td>0.581579</td>\n      <td>0.365613</td>\n      <td>0.807487</td>\n      <td>0.536082</td>\n      <td>0.521739</td>\n      <td>0.627586</td>\n      <td>0.495781</td>\n      <td>0.490566</td>\n      <td>0.444795</td>\n      <td>0.259386</td>\n      <td>0.455285</td>\n      <td>0.608059</td>\n      <td>0.325963</td>\n      <td>0.0</td>\n    </tr>\n    <tr>\n      <th>...</th>\n      <td>...</td>\n      <td>...</td>\n      <td>...</td>\n      <td>...</td>\n      <td>...</td>\n      <td>...</td>\n      <td>...</td>\n      <td>...</td>\n      <td>...</td>\n      <td>...</td>\n      <td>...</td>\n      <td>...</td>\n      <td>...</td>\n      <td>...</td>\n    </tr>\n    <tr>\n      <th>173</th>\n      <td>0.705263</td>\n      <td>0.970356</td>\n      <td>0.582888</td>\n      <td>0.510309</td>\n      <td>0.271739</td>\n      <td>0.241379</td>\n      <td>0.056962</td>\n      <td>0.735849</td>\n      <td>0.205047</td>\n      <td>0.547782</td>\n      <td>0.130081</td>\n      <td>0.172161</td>\n      <td>0.329529</td>\n      <td>1.0</td>\n    </tr>\n    <tr>\n      <th>174</th>\n      <td>0.623684</td>\n      <td>0.626482</td>\n      <td>0.598930</td>\n      <td>0.639175</td>\n      <td>0.347826</td>\n      <td>0.282759</td>\n      <td>0.086498</td>\n      <td>0.566038</td>\n      <td>0.315457</td>\n      <td>0.513652</td>\n      <td>0.178862</td>\n      <td>0.106227</td>\n      <td>0.336662</td>\n      <td>1.0</td>\n    </tr>\n    <tr>\n      <th>175</th>\n      <td>0.589474</td>\n      <td>0.699605</td>\n      <td>0.481283</td>\n      <td>0.484536</td>\n      <td>0.543478</td>\n      <td>0.210345</td>\n      <td>0.073840</td>\n      <td>0.566038</td>\n      <td>0.296530</td>\n      <td>0.761092</td>\n      <td>0.089431</td>\n      <td>0.106227</td>\n      <td>0.397290</td>\n      <td>1.0</td>\n    </tr>\n    <tr>\n      <th>176</th>\n      <td>0.563158</td>\n      <td>0.365613</td>\n      <td>0.540107</td>\n      <td>0.484536</td>\n      <td>0.543478</td>\n      <td>0.231034</td>\n      <td>0.071730</td>\n      <td>0.754717</td>\n      <td>0.331230</td>\n      <td>0.684300</td>\n      <td>0.097561</td>\n      <td>0.128205</td>\n      <td>0.400856</td>\n      <td>1.0</td>\n    </tr>\n    <tr>\n      <th>177</th>\n      <td>0.815789</td>\n      <td>0.664032</td>\n      <td>0.737968</td>\n      <td>0.716495</td>\n      <td>0.282609</td>\n      <td>0.368966</td>\n      <td>0.088608</td>\n      <td>0.811321</td>\n      <td>0.296530</td>\n      <td>0.675768</td>\n      <td>0.105691</td>\n      <td>0.120879</td>\n      <td>0.201141</td>\n      <td>1.0</td>\n    </tr>\n  </tbody>\n</table>\n<p>178 rows × 14 columns</p>\n</div>"
     },
     "execution_count": 13,
     "metadata": {},
     "output_type": "execute_result"
    }
   ],
   "source": [
    "df_Normalizado"
   ],
   "metadata": {
    "collapsed": false
   }
  },
  {
   "cell_type": "code",
   "execution_count": 14,
   "outputs": [],
   "source": [
    "x = df_Normalizado.iloc[:,df_Normalizado.columns != 'label'].values.copy()\n",
    "y = df['label'].values.copy()"
   ],
   "metadata": {
    "collapsed": false
   }
  },
  {
   "cell_type": "code",
   "execution_count": 15,
   "outputs": [
    {
     "data": {
      "text/plain": "array([[0.84210526, 0.1916996 , 0.57219251, ..., 0.45528455, 0.97069597,\n        0.56134094],\n       [0.57105263, 0.2055336 , 0.4171123 , ..., 0.46341463, 0.78021978,\n        0.55064194],\n       [0.56052632, 0.3201581 , 0.70053476, ..., 0.44715447, 0.6959707 ,\n        0.64693295],\n       ...,\n       [0.58947368, 0.69960474, 0.48128342, ..., 0.08943089, 0.10622711,\n        0.39728959],\n       [0.56315789, 0.36561265, 0.54010695, ..., 0.09756098, 0.12820513,\n        0.40085592],\n       [0.81578947, 0.66403162, 0.73796791, ..., 0.10569106, 0.12087912,\n        0.20114123]])"
     },
     "execution_count": 15,
     "metadata": {},
     "output_type": "execute_result"
    }
   ],
   "source": [
    "x"
   ],
   "metadata": {
    "collapsed": false
   }
  },
  {
   "cell_type": "code",
   "execution_count": 16,
   "outputs": [
    {
     "data": {
      "text/plain": "array([0, 0, 0, 0, 0, 0, 0, 0, 0, 0, 0, 0, 0, 0, 0, 0, 0, 0, 0, 0, 0, 0,\n       0, 0, 0, 0, 0, 0, 0, 0, 0, 0, 0, 0, 0, 0, 0, 0, 0, 0, 0, 0, 0, 0,\n       0, 0, 0, 0, 0, 0, 0, 0, 0, 0, 0, 0, 0, 0, 0, 1, 1, 1, 1, 1, 1, 1,\n       1, 1, 1, 1, 1, 1, 1, 1, 1, 1, 1, 1, 1, 1, 1, 1, 1, 1, 1, 1, 1, 1,\n       1, 1, 1, 1, 1, 1, 1, 1, 1, 1, 1, 1, 1, 1, 1, 1, 1, 1, 1, 1, 1, 1,\n       1, 1, 1, 1, 1, 1, 1, 1, 1, 1, 1, 1, 1, 1, 1, 1, 1, 1, 1, 1, 2, 2,\n       2, 2, 2, 2, 2, 2, 2, 2, 2, 2, 2, 2, 2, 2, 2, 2, 2, 2, 2, 2, 2, 2,\n       2, 2, 2, 2, 2, 2, 2, 2, 2, 2, 2, 2, 2, 2, 2, 2, 2, 2, 2, 2, 2, 2,\n       2, 2])"
     },
     "execution_count": 16,
     "metadata": {},
     "output_type": "execute_result"
    }
   ],
   "source": [
    "y"
   ],
   "metadata": {
    "collapsed": false
   }
  },
  {
   "cell_type": "code",
   "execution_count": 17,
   "outputs": [
    {
     "data": {
      "text/plain": "array([[-4.70024401,  1.97913835],\n       [-4.30195811,  1.17041286],\n       [-3.42071952,  1.42910139],\n       [-4.20575366,  4.00287148],\n       [-1.50998168,  0.4512239 ],\n       [-4.51868934,  3.21313756],\n       [-4.52737794,  3.26912179],\n       [-4.14834781,  3.10411765],\n       [-3.86082876,  1.95338263],\n       [-3.36662444,  1.67864327],\n       [-4.80587907,  2.23536271],\n       [-3.42807646,  2.17510939],\n       [-3.66610246,  2.26248961],\n       [-5.58824635,  2.05478773],\n       [-5.50131449,  3.61304865],\n       [-3.18475189,  2.88952528],\n       [-3.28936988,  2.76584266],\n       [-2.99809262,  1.42511132],\n       [-5.24640372,  3.70982655],\n       [-3.13653106,  1.97689922],\n       [-3.57747791,  0.5624599 ],\n       [-1.69077135,  0.91342136],\n       [-4.83515033,  0.9147628 ],\n       [-3.09588961,  0.61735888],\n       [-3.32164716,  0.29847734],\n       [-2.14482223,  0.16369247],\n       [-3.9824285 ,  2.17515679],\n       [-2.68591432,  1.21850924],\n       [-3.56309464,  1.03817651],\n       [-3.17301573,  1.37789624],\n       [-2.99626797,  1.32419896],\n       [-3.56866244,  2.34065478],\n       [-3.38506383,  0.20123426],\n       [-3.5275375 ,  1.71592739],\n       [-2.85190852,  1.47070771],\n       [-2.79411996,  0.23793093],\n       [-2.75808511,  1.56970421],\n       [-2.17734477,  1.01036455],\n       [-3.02926382, -0.23509583],\n       [-3.27105228,  2.6040459 ],\n       [-2.92065533,  0.25523343],\n       [-2.23721062,  0.91946116],\n       [-4.69972568,  2.56075339],\n       [-1.23036133,  0.42259515],\n       [-2.58203904, -0.35029195],\n       [-2.58312049,  2.87686572],\n       [-3.88887889,  2.05160408],\n       [-3.44975356,  0.95183917],\n       [-2.34223331,  1.4325895 ],\n       [-3.52062596,  2.08155356],\n       [-3.21840912,  0.8791287 ],\n       [-4.38214896,  2.16471573],\n       [-4.36311727,  2.27182928],\n       [-3.51917293,  3.00737373],\n       [-3.12277475,  1.59356669],\n       [-1.8024054 ,  1.33006156],\n       [-2.87378754,  1.72989942],\n       [-3.61690518,  2.29115753],\n       [-3.73868551,  2.46011803],\n       [ 1.58618749, -2.42384416],\n       [ 0.79967216, -1.39406461],\n       [ 2.38015446, -1.45188659],\n       [-0.45917726, -1.19045365],\n       [-0.50726885, -3.16662403],\n       [ 0.39398359, -2.7798417 ],\n       [-0.92256616, -1.38872368],\n       [-1.95549377, -2.69360629],\n       [-0.34732815, -2.59289903],\n       [ 0.20371212,  0.01962135],\n       [-0.24831914, -2.7561761 ],\n       [ 1.17987999, -0.90034277],\n       [-1.07718925, -1.82670118],\n       [ 0.64100179, -1.44531367],\n       [-1.74684421, -1.78455859],\n       [-0.34721117, -1.48810682],\n       [ 1.14274222, -3.089249  ],\n       [ 0.18665882, -2.67317096],\n       [ 0.900525  , -1.81942357],\n       [-0.70709551, -2.12304449],\n       [-0.59562833, -2.48962245],\n       [-0.55761818, -4.65303778],\n       [-1.80430417, -1.48714945],\n       [ 0.23077079, -2.84287547],\n       [ 2.03482711, -0.79032003],\n       [-0.62113021, -1.69689588],\n       [-1.03372742, -2.44143762],\n       [ 0.76598781, -3.44641402],\n       [ 0.35042568, -3.22935698],\n       [ 0.15324508, -2.11287767],\n       [-0.14962842, -2.9919321 ],\n       [ 0.48079504, -2.54002408],\n       [ 1.39689016, -2.54082291],\n       [ 0.91972331, -2.24859665],\n       [-0.59102937, -2.93845393],\n       [ 0.49411386, -2.93631076],\n       [-1.62614426, -2.02049545],\n       [ 2.00044562, -0.63448464],\n       [-1.00534818, -3.33112586],\n       [-2.07121314, -2.7144542 ],\n       [-1.6381589 , -3.87739654],\n       [-1.0589434 , -2.99987263],\n       [ 0.02594549, -2.35411388],\n       [-0.21887407, -1.64289601],\n       [ 1.3643764 , -3.81747174],\n       [-1.12901245, -2.32685245],\n       [-0.21263094, -2.99677582],\n       [-0.77946884, -2.47277392],\n       [ 0.61546732, -2.17823987],\n       [ 0.22550192, -3.79734159],\n       [-2.03869851, -2.18532522],\n       [ 0.79274716, -3.66157598],\n       [ 0.30229545, -2.79527873],\n       [-0.50664882, -1.09527341],\n       [ 0.99837397, -3.44598675],\n       [-0.21954922, -2.79759769],\n       [-0.37131517, -6.00561031],\n       [ 0.05545894, -3.4784697 ],\n       [-0.09137874, -3.61977733],\n       [ 1.79755252, -0.85012177],\n       [-0.17405009, -2.63224971],\n       [-1.17870281, -2.20519226],\n       [-3.2105439 , -2.90531169],\n       [ 0.62605202, -1.99570866],\n       [ 0.03366613, -1.38435976],\n       [-0.6993008 , -2.45943957],\n       [-0.72061079, -3.2466652 ],\n       [-0.51933512, -2.86969325],\n       [ 1.17030045, -3.31947864],\n       [ 0.10824791, -3.79876143],\n       [ 1.12319783, -1.28784815],\n       [ 2.24632419,  0.18734787],\n       [ 3.28527755,  0.69608625],\n       [ 4.07236441,  0.14425752],\n       [ 3.86691235,  0.53503357],\n       [ 3.45088333, -0.21734536],\n       [ 3.71583899,  0.5651013 ],\n       [ 3.9222051 ,  0.89352622],\n       [ 4.8516102 ,  0.31406852],\n       [ 3.54993389,  0.9159633 ],\n       [ 3.76889174,  0.22554113],\n       [ 2.6694225 ,  1.14109076],\n       [ 2.32491492,  1.9484833 ],\n       [ 3.17712883,  1.05985317],\n       [ 2.88964418,  1.15705922],\n       [ 3.78325562,  2.00739304],\n       [ 3.04411324,  0.9812437 ],\n       [ 4.70697017,  1.81778277],\n       [ 4.85021393,  2.20818213],\n       [ 4.98359184,  2.0349552 ],\n       [ 4.86968293,  1.80832861],\n       [ 4.5986919 ,  1.87224228],\n       [ 5.67447884,  1.82580271],\n       [ 5.32986123,  0.58218515],\n       [ 5.03401031,  2.27732076],\n       [ 4.52080087, -0.0067342 ],\n       [ 5.0978371 ,  2.0016203 ],\n       [ 5.04368277,  2.5119033 ],\n       [ 4.86980829,  1.09158074],\n       [ 5.61316558,  2.98439332],\n       [ 5.67046737,  2.27306996],\n       [ 5.37413513,  0.76247223],\n       [ 3.09975377,  1.94106484],\n       [ 3.35888137,  0.54868961],\n       [ 3.04007194,  1.45698898],\n       [ 4.94861303,  2.18992458],\n       [ 4.54504458,  1.21989845],\n       [ 5.27255844,  2.71623061],\n       [ 5.13016117,  2.29172536],\n       [ 4.30468082,  2.39112531],\n       [ 5.08336782,  3.15766665],\n       [ 4.06743571,  0.31892192],\n       [ 5.74212961,  1.46708165],\n       [ 4.4820514 ,  3.30708382],\n       [ 4.29150758,  3.39033191],\n       [ 4.50329623,  2.08354592],\n       [ 5.04747033,  3.19623136],\n       [ 4.27615505,  2.43138798],\n       [ 5.5380861 ,  3.04205709]])"
     },
     "execution_count": 17,
     "metadata": {},
     "output_type": "execute_result"
    }
   ],
   "source": [
    "# Apply LDA\n",
    "lda = LinearDiscriminantAnalysis(n_components=2)\n",
    "X_transformed = lda.fit_transform(x, y)\n",
    "X_transformed"
   ],
   "metadata": {
    "collapsed": false
   }
  },
  {
   "cell_type": "code",
   "execution_count": 18,
   "outputs": [
    {
     "data": {
      "text/plain": "array([-4.70024401, -4.30195811, -3.42071952, -4.20575366, -1.50998168,\n       -4.51868934, -4.52737794, -4.14834781, -3.86082876, -3.36662444,\n       -4.80587907, -3.42807646, -3.66610246, -5.58824635, -5.50131449,\n       -3.18475189, -3.28936988, -2.99809262, -5.24640372, -3.13653106,\n       -3.57747791, -1.69077135, -4.83515033, -3.09588961, -3.32164716,\n       -2.14482223, -3.9824285 , -2.68591432, -3.56309464, -3.17301573,\n       -2.99626797, -3.56866244, -3.38506383, -3.5275375 , -2.85190852,\n       -2.79411996, -2.75808511, -2.17734477, -3.02926382, -3.27105228,\n       -2.92065533, -2.23721062, -4.69972568, -1.23036133, -2.58203904,\n       -2.58312049, -3.88887889, -3.44975356, -2.34223331, -3.52062596,\n       -3.21840912, -4.38214896, -4.36311727, -3.51917293, -3.12277475,\n       -1.8024054 , -2.87378754, -3.61690518, -3.73868551])"
     },
     "execution_count": 18,
     "metadata": {},
     "output_type": "execute_result"
    }
   ],
   "source": [
    "X_transformed[y == 0, 0]"
   ],
   "metadata": {
    "collapsed": false
   }
  },
  {
   "cell_type": "code",
   "execution_count": 19,
   "outputs": [
    {
     "data": {
      "text/plain": "<Figure size 640x480 with 1 Axes>",
      "image/png": "[encoded data removed]"
     },
     "metadata": {},
     "output_type": "display_data"
    }
   ],
   "source": [
    "# Plot the transformed data\n",
    "# [y == 0, 0] el primero cero es la etiqueta y el segundo cero es el indice\n",
    "# #Esta línea se usa para obtener las coordenadas en dos dimensiones para los puntos pertenecientes a la clase 0. X_transformed[y == 0, 0] selecciona todos los valores en la primera columna (índice 0) de los datos transformados X_transformed para los puntos con etiqueta 0 (es decir, y == 0). De manera similar, X_transformed[y == 0, 1] selecciona todos los valores en la segunda columna (índice 1) de los datos transformados para los puntos con etiqueta 0. Estos valores se usan como coordenadas x e y en el gráfico, respectivamente.\n",
    "# Las otras líneas similares con y == 1 y y == 2 se usan para obtener las coordenadas para los puntos pertenecientes a las otras dos clases.\n",
    "plt.scatter(X_transformed[y == 0, 0], X_transformed[y == 0, 1], color='red', label='Class 0')\n",
    "plt.scatter(X_transformed[y == 1, 0], X_transformed[y == 1, 1], color='blue', label='Class 1')\n",
    "plt.scatter(X_transformed[y == 2, 0], X_transformed[y == 2, 1], color='green', label='Class 2')\n",
    "plt.legend()\n",
    "plt.show()"
   ],
   "metadata": {
    "collapsed": false
   }
  },
  {
   "cell_type": "markdown",
   "source": [],
   "metadata": {
    "collapsed": false
   }
  },
  {
   "cell_type": "code",
   "execution_count": 20,
   "outputs": [],
   "source": [
    "df_VariablesIndepedientes = df_Normalizado.loc[:, df.columns != 'label'].values.copy()\n",
    "df_VaraibleDependiente = y.copy()"
   ],
   "metadata": {
    "collapsed": false
   }
  },
  {
   "cell_type": "code",
   "execution_count": 21,
   "outputs": [
    {
     "data": {
      "text/plain": "array([0, 0, 0, 0, 0, 0, 0, 0, 0, 0, 0, 0, 0, 0, 0, 0, 0, 0, 0, 0, 0, 0,\n       0, 0, 0, 0, 0, 0, 0, 0, 0, 0, 0, 0, 0, 0, 0, 0, 0, 0, 0, 0, 0, 0,\n       0, 0, 0, 0, 0, 0, 0, 0, 0, 0, 0, 0, 0, 0, 0, 1, 1, 1, 1, 1, 1, 1,\n       1, 1, 1, 1, 1, 1, 1, 1, 1, 1, 1, 1, 1, 1, 1, 1, 1, 1, 1, 1, 1, 1,\n       1, 1, 1, 1, 1, 1, 1, 1, 1, 1, 1, 1, 1, 1, 1, 1, 1, 1, 1, 1, 1, 1,\n       1, 1, 1, 1, 1, 1, 1, 1, 1, 1, 1, 1, 1, 1, 1, 1, 1, 1, 1, 1, 2, 2,\n       2, 2, 2, 2, 2, 2, 2, 2, 2, 2, 2, 2, 2, 2, 2, 2, 2, 2, 2, 2, 2, 2,\n       2, 2, 2, 2, 2, 2, 2, 2, 2, 2, 2, 2, 2, 2, 2, 2, 2, 2, 2, 2, 2, 2,\n       2, 2])"
     },
     "execution_count": 21,
     "metadata": {},
     "output_type": "execute_result"
    }
   ],
   "source": [
    "df_VaraibleDependiente"
   ],
   "metadata": {
    "collapsed": false
   }
  },
  {
   "cell_type": "code",
   "execution_count": 22,
   "outputs": [
    {
     "data": {
      "text/plain": "array([[0.84210526, 0.1916996 , 0.57219251, ..., 0.45528455, 0.97069597,\n        0.56134094],\n       [0.57105263, 0.2055336 , 0.4171123 , ..., 0.46341463, 0.78021978,\n        0.55064194],\n       [0.56052632, 0.3201581 , 0.70053476, ..., 0.44715447, 0.6959707 ,\n        0.64693295],\n       ...,\n       [0.58947368, 0.69960474, 0.48128342, ..., 0.08943089, 0.10622711,\n        0.39728959],\n       [0.56315789, 0.36561265, 0.54010695, ..., 0.09756098, 0.12820513,\n        0.40085592],\n       [0.81578947, 0.66403162, 0.73796791, ..., 0.10569106, 0.12087912,\n        0.20114123]])"
     },
     "execution_count": 22,
     "metadata": {},
     "output_type": "execute_result"
    }
   ],
   "source": [
    "df_VariablesIndepedientes"
   ],
   "metadata": {
    "collapsed": false
   }
  },
  {
   "cell_type": "code",
   "execution_count": 23,
   "outputs": [],
   "source": [
    "X_train, X_test, y_train, y_test = train_test_split(df_VariablesIndepedientes, df_VaraibleDependiente, test_size=0.3,random_state=109)"
   ],
   "metadata": {
    "collapsed": false
   }
  },
  {
   "cell_type": "code",
   "execution_count": 24,
   "outputs": [
    {
     "data": {
      "text/plain": "GaussianNB()",
      "text/html": "<style>#sk-container-id-1 {color: black;background-color: white;}#sk-container-id-1 pre{padding: 0;}#sk-container-id-1 div.sk-toggleable {background-color: white;}#sk-container-id-1 label.sk-toggleable__label {cursor: pointer;display: block;width: 100%;margin-bottom: 0;padding: 0.3em;box-sizing: border-box;text-align: center;}#sk-container-id-1 label.sk-toggleable__label-arrow:before {content: \"▸\";float: left;margin-right: 0.25em;color: #696969;}#sk-container-id-1 label.sk-toggleable__label-arrow:hover:before {color: black;}#sk-container-id-1 div.sk-estimator:hover label.sk-toggleable__label-arrow:before {color: black;}#sk-container-id-1 div.sk-toggleable__content {max-height: 0;max-width: 0;overflow: hidden;text-align: left;background-color: #f0f8ff;}#sk-container-id-1 div.sk-toggleable__content pre {margin: 0.2em;color: black;border-radius: 0.25em;background-color: #f0f8ff;}#sk-container-id-1 input.sk-toggleable__control:checked~div.sk-toggleable__content {max-height: 200px;max-width: 100%;overflow: auto;}#sk-container-id-1 input.sk-toggleable__control:checked~label.sk-toggleable__label-arrow:before {content: \"▾\";}#sk-container-id-1 div.sk-estimator input.sk-toggleable__control:checked~label.sk-toggleable__label {background-color: #d4ebff;}#sk-container-id-1 div.sk-label input.sk-toggleable__control:checked~label.sk-toggleable__label {background-color: #d4ebff;}#sk-container-id-1 input.sk-hidden--visually {border: 0;clip: rect(1px 1px 1px 1px);clip: rect(1px, 1px, 1px, 1px);height: 1px;margin: -1px;overflow: hidden;padding: 0;position: absolute;width: 1px;}#sk-container-id-1 div.sk-estimator {font-family: monospace;background-color: #f0f8ff;border: 1px dotted black;border-radius: 0.25em;box-sizing: border-box;margin-bottom: 0.5em;}#sk-container-id-1 div.sk-estimator:hover {background-color: #d4ebff;}#sk-container-id-1 div.sk-parallel-item::after {content: \"\";width: 100%;border-bottom: 1px solid gray;flex-grow: 1;}#sk-container-id-1 div.sk-label:hover label.sk-toggleable__label {background-color: #d4ebff;}#sk-container-id-1 div.sk-serial::before {content: \"\";position: absolute;border-left: 1px solid gray;box-sizing: border-box;top: 0;bottom: 0;left: 50%;z-index: 0;}#sk-container-id-1 div.sk-serial {display: flex;flex-direction: column;align-items: center;background-color: white;padding-right: 0.2em;padding-left: 0.2em;position: relative;}#sk-container-id-1 div.sk-item {position: relative;z-index: 1;}#sk-container-id-1 div.sk-parallel {display: flex;align-items: stretch;justify-content: center;background-color: white;position: relative;}#sk-container-id-1 div.sk-item::before, #sk-container-id-1 div.sk-parallel-item::before {content: \"\";position: absolute;border-left: 1px solid gray;box-sizing: border-box;top: 0;bottom: 0;left: 50%;z-index: -1;}#sk-container-id-1 div.sk-parallel-item {display: flex;flex-direction: column;z-index: 1;position: relative;background-color: white;}#sk-container-id-1 div.sk-parallel-item:first-child::after {align-self: flex-end;width: 50%;}#sk-container-id-1 div.sk-parallel-item:last-child::after {align-self: flex-start;width: 50%;}#sk-container-id-1 div.sk-parallel-item:only-child::after {width: 0;}#sk-container-id-1 div.sk-dashed-wrapped {border: 1px dashed gray;margin: 0 0.4em 0.5em 0.4em;box-sizing: border-box;padding-bottom: 0.4em;background-color: white;}#sk-container-id-1 div.sk-label label {font-family: monospace;font-weight: bold;display: inline-block;line-height: 1.2em;}#sk-container-id-1 div.sk-label-container {text-align: center;}#sk-container-id-1 div.sk-container {/* jupyter's `normalize.less` sets `[hidden] { display: none; }` but bootstrap.min.css set `[hidden] { display: none !important; }` so we also need the `!important` here to be able to override the default hidden behavior on the sphinx rendered scikit-learn.org. See: https://github.com/scikit-learn/scikit-learn/issues/21755 */display: inline-block !important;position: relative;}#sk-container-id-1 div.sk-text-repr-fallback {display: none;}</style><div id=\"sk-container-id-1\" class=\"sk-top-container\"><div class=\"sk-text-repr-fallback\"><pre>GaussianNB()</pre><b>In a Jupyter environment, please rerun this cell to show the HTML representation or trust the notebook. <br />On GitHub, the HTML representation is unable to render, please try loading this page with nbviewer.org.</b></div><div class=\"sk-container\" hidden><div class=\"sk-item\"><div class=\"sk-estimator sk-toggleable\"><input class=\"sk-toggleable__control sk-hidden--visually\" id=\"sk-estimator-id-1\" type=\"checkbox\" checked><label for=\"sk-estimator-id-1\" class=\"sk-toggleable__label sk-toggleable__label-arrow\">GaussianNB</label><div class=\"sk-toggleable__content\"><pre>GaussianNB()</pre></div></div></div></div></div>"
     },
     "execution_count": 24,
     "metadata": {},
     "output_type": "execute_result"
    }
   ],
   "source": [
    "modelo_naivebayes=GaussianNB()\n",
    "modelo_naivebayes.fit(X_train,y_train)"
   ],
   "metadata": {
    "collapsed": false
   }
  },
  {
   "cell_type": "code",
   "execution_count": 25,
   "outputs": [
    {
     "name": "stdout",
     "output_type": "stream",
     "text": [
      "[0 0 1 2 0 1 0 0 1 0 2 2 2 2 0 1 1 0 0 1 2 1 0 2 0 0 1 2 0 1 2 1 1 0 1 1 0\n",
      " 2 2 0 2 1 0 0 0 2 2 0 1 1 2 0 0 2]\n"
     ]
    }
   ],
   "source": [
    "y_pred = modelo_naivebayes.predict(X_test)\n",
    "print(y_pred)"
   ],
   "metadata": {
    "collapsed": false
   }
  },
  {
   "cell_type": "code",
   "execution_count": 26,
   "outputs": [
    {
     "name": "stdout",
     "output_type": "stream",
     "text": [
      "0.9074074074074074\n"
     ]
    }
   ],
   "source": [
    "from sklearn import metrics\n",
    "print(metrics.accuracy_score(y_test,y_pred))"
   ],
   "metadata": {
    "collapsed": false
   }
  }
 ],
 "metadata": {
  "kernelspec": {
   "display_name": "Python 3",
   "language": "python",
   "name": "python3"
  },
  "language_info": {
   "codemirror_mode": {
    "name": "ipython",
    "version": 2
   },
   "file_extension": ".py",
   "mimetype": "text/x-python",
   "name": "python",
   "nbconvert_exporter": "python",
   "pygments_lexer": "ipython2",
   "version": "2.7.6"
  }
 },
 "nbformat": 4,
 "nbformat_minor": 0
}
