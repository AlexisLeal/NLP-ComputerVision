{
  "nbformat": 4,
  "nbformat_minor": 0,
  "metadata": {
    "colab": {
      "provenance": []
    },
    "kernelspec": {
      "name": "python3",
      "display_name": "Python 3"
    },
    "language_info": {
      "name": "python"
    }
  },
  "cells": [
    {
      "cell_type": "markdown",
      "source": [
        "Nombre: Jessica Méndez\n",
        "\n",
        "Materia: PLN, Visión y Ética Computacional\n",
        "\n",
        "02 de Febrero de 2023\n",
        "\n",
        "\n",
        "---\n",
        "\n",
        "\n",
        "\n",
        "---"
      ],
      "metadata": {
        "id": "oQx0mr6IimRG"
      }
    },
    {
      "cell_type": "markdown",
      "source": [
        "**Tecmilenio y la creadora del presente notebook, no guarda relación alguna con las marcas mencionadas como ejemplo. Las marcas son propiedad de sus titulares conforme a la legislación aplicable, se utilizan con fines académicos y didácticos, por lo que no existen fines de lucro, relación publicitaria o de patrocinio.\n",
        "\n",
        "---\n"
      ],
      "metadata": {
        "id": "CnaoAZSUiqdD"
      }
    },
    {
      "cell_type": "markdown",
      "source": [
        "# Instalación de Paquetes"
      ],
      "metadata": {
        "id": "RY-Aa17ukJqR"
      }
    },
    {
      "cell_type": "code",
      "source": [
        "!pip install NLTK"
      ],
      "metadata": {
        "colab": {
          "base_uri": "https://localhost:8080/"
        },
        "id": "F9-vMT5zkI43",
        "outputId": "be6ab61d-2b28-4fa4-8557-592d9c41aff7"
      },
      "execution_count": null,
      "outputs": [
        {
          "output_type": "stream",
          "name": "stdout",
          "text": [
            "Looking in indexes: https://pypi.org/simple, https://us-python.pkg.dev/colab-wheels/public/simple/\n",
            "Requirement already satisfied: NLTK in /usr/local/lib/python3.8/dist-packages (3.7)\n",
            "Requirement already satisfied: click in /usr/local/lib/python3.8/dist-packages (from NLTK) (7.1.2)\n",
            "Requirement already satisfied: tqdm in /usr/local/lib/python3.8/dist-packages (from NLTK) (4.64.1)\n",
            "Requirement already satisfied: joblib in /usr/local/lib/python3.8/dist-packages (from NLTK) (1.2.0)\n",
            "Requirement already satisfied: regex>=2021.8.3 in /usr/local/lib/python3.8/dist-packages (from NLTK) (2022.6.2)\n"
          ]
        }
      ]
    },
    {
      "cell_type": "markdown",
      "source": [
        "# Bibliotecas a usar"
      ],
      "metadata": {
        "id": "4Ax41GS4I2W0"
      }
    },
    {
      "cell_type": "code",
      "source": [
        "import nltk\n",
        "import random\n",
        "from nltk.corpus import names\n",
        "from nltk.corpus import movie_reviews\n",
        "\n",
        "\n",
        " \n",
        "nltk.download('names')\n",
        "nltk.download('movie_reviews')"
      ],
      "metadata": {
        "colab": {
          "base_uri": "https://localhost:8080/"
        },
        "id": "CUUfYyFqISRg",
        "outputId": "3fe865aa-3cc9-438a-ee7e-8992972721a3"
      },
      "execution_count": null,
      "outputs": [
        {
          "output_type": "stream",
          "name": "stderr",
          "text": [
            "[nltk_data] Downloading package names to /root/nltk_data...\n",
            "[nltk_data]   Unzipping corpora/names.zip.\n",
            "[nltk_data] Downloading package movie_reviews to /root/nltk_data...\n",
            "[nltk_data]   Unzipping corpora/movie_reviews.zip.\n"
          ]
        },
        {
          "output_type": "execute_result",
          "data": {
            "text/plain": [
              "True"
            ]
          },
          "metadata": {},
          "execution_count": 2
        }
      ]
    },
    {
      "cell_type": "markdown",
      "source": [
        "# Entrenamiento de un clasificador bayesiano\n",
        "\n",
        "## El proceso de clasificación de textos incluye los siguientes pasos:\n",
        "\n",
        "**Preparación de los datos:** en este paso se selecciona el conjunto de datos con el que se trabajará y se realiza un preprocesamiento básico al texto para después separarlo en el conjunto de entrenamiento y de prueba.\n",
        "\n",
        "**Extracción de características**: el texto se transforma en elementos característicos que se usarán en el proceso de clasificación.\n",
        "\n",
        "**Entrenamiento del modelo:** el clasificador se entrena con los datos etiquetados.\n",
        "\n",
        "**Evaluación del modelo**: el clasificador se evalúa y, en caso de ser necesario, se realizan ajustes para mejorar el resultado.\n",
        "\n",
        "\n",
        "El primer ejemplo trata de clasificar nombres de personas según el género. Se utilizará la librería NLTK (Bird, Klein y Loper, 2009) y el corpus names. En la figura 2 se muestra la descarga de los datos y una breve exploración sobre ellos. En total hay 7,944 nombres clasificados como masculinos o femeninos."
      ],
      "metadata": {
        "id": "CHzWxragQpNX"
      }
    },
    {
      "cell_type": "code",
      "source": [
        "nombres = ([(nombre,'male') for nombre in names.words('male.txt')]+[(nombre,'female') for nombre in names.words('female.txt')])\n",
        "random.shuffle(nombres)"
      ],
      "metadata": {
        "id": "UCUUbyq6lEQm"
      },
      "execution_count": null,
      "outputs": []
    },
    {
      "cell_type": "code",
      "source": [
        "print('Total de nombres:', len(nombres), '\\nEjemplo de nombre femenino :', nombres[0], '\\nEjemplo de nombre masculino', nombres[7000])"
      ],
      "metadata": {
        "colab": {
          "base_uri": "https://localhost:8080/"
        },
        "id": "RjLap7fXlzoy",
        "outputId": "dbb545c8-df16-4058-a30f-056c9756a580"
      },
      "execution_count": null,
      "outputs": [
        {
          "output_type": "stream",
          "name": "stdout",
          "text": [
            "Total de nombres: 7944 \n",
            "Ejemplo de nombre femenino : ('Gloriane', 'female') \n",
            "Ejemplo de nombre masculino ('Brunhilde', 'female')\n"
          ]
        }
      ]
    },
    {
      "cell_type": "markdown",
      "source": [
        "Para la **extracción** de características se ha decidido considerar solo la última letra del nombre, ya que en el idioma inglés los nombres que terminan con la letra k, o, r, s y t son más probables de pertenecer al género masculino y aquellos que terminan con a, e, i al femenino. Se implementó una función para extraer la última letra de cada instancia del conjunto de datos como se observa en la figura 3."
      ],
      "metadata": {
        "id": "WpOZOlzuQ3bZ"
      }
    },
    {
      "cell_type": "code",
      "source": [
        "def caracteristica_genero(word):\n",
        "  return {'Ultima leta': word[-1]}"
      ],
      "metadata": {
        "id": "JWGq8orFmcVq"
      },
      "execution_count": null,
      "outputs": []
    },
    {
      "cell_type": "code",
      "source": [
        "caracteristica_genero('Carlo')"
      ],
      "metadata": {
        "colab": {
          "base_uri": "https://localhost:8080/"
        },
        "id": "5ebBGGxumo8k",
        "outputId": "661b0e85-1774-4f68-a003-8da79b5a7ff1"
      },
      "execution_count": null,
      "outputs": [
        {
          "output_type": "execute_result",
          "data": {
            "text/plain": [
              "{'Ultima leta': 'o'}"
            ]
          },
          "metadata": {},
          "execution_count": 6
        }
      ]
    },
    {
      "cell_type": "markdown",
      "source": [
        "Para entrenar al modelo, separamos el total de los datos en los conjuntos de entrenamiento y de prueba, siguiendo la recomendación del 70% de los datos al conjunto de entrenamiento y 30% al de prueba. Dado que el total de registros es de 7,944, el 70% corresponde aproximadamente a 5,560 y el complemento deberá ser aproximadamente el 30%.\n",
        "\n",
        "Con el conjunto de entrenamiento se entrena al clasificador y en este caso se utilizará el NaiveBayesClassifier de NLTK. El proceso se describe en la figura 4."
      ],
      "metadata": {
        "id": "fg_qn6bLRCG0"
      }
    },
    {
      "cell_type": "code",
      "source": [
        "caract_conjunto = [(caracteristica_genero(n), g) for (n,g) in nombres]"
      ],
      "metadata": {
        "id": "F6ZGQPCqms1a"
      },
      "execution_count": null,
      "outputs": []
    },
    {
      "cell_type": "code",
      "source": [
        "caract_conjunto[:5]"
      ],
      "metadata": {
        "colab": {
          "base_uri": "https://localhost:8080/"
        },
        "id": "C4szkclYm4bJ",
        "outputId": "7be13acc-9736-4c21-b1ea-f5ac6a814ce4"
      },
      "execution_count": null,
      "outputs": [
        {
          "output_type": "execute_result",
          "data": {
            "text/plain": [
              "[({'Ultima leta': 'e'}, 'female'),\n",
              " ({'Ultima leta': 'n'}, 'male'),\n",
              " ({'Ultima leta': 'l'}, 'male'),\n",
              " ({'Ultima leta': 'l'}, 'female'),\n",
              " ({'Ultima leta': 'y'}, 'female')]"
            ]
          },
          "metadata": {},
          "execution_count": 8
        }
      ]
    },
    {
      "cell_type": "code",
      "source": [
        "train_set, test_set = caract_conjunto[:5560], caract_conjunto[5560:]"
      ],
      "metadata": {
        "id": "419sOWh_uwbG"
      },
      "execution_count": null,
      "outputs": []
    },
    {
      "cell_type": "code",
      "source": [
        "classifier = nltk.NaiveBayesClassifier.train(train_set)"
      ],
      "metadata": {
        "id": "Brf_3yVWu40K"
      },
      "execution_count": null,
      "outputs": []
    },
    {
      "cell_type": "code",
      "source": [
        "classifier.classify(caracteristica_genero('Neo'))"
      ],
      "metadata": {
        "colab": {
          "base_uri": "https://localhost:8080/",
          "height": 35
        },
        "id": "MWRpuv7Yu8vi",
        "outputId": "b9897307-ad13-4978-c32b-113e940737f6"
      },
      "execution_count": null,
      "outputs": [
        {
          "output_type": "execute_result",
          "data": {
            "text/plain": [
              "'male'"
            ],
            "application/vnd.google.colaboratory.intrinsic+json": {
              "type": "string"
            }
          },
          "metadata": {},
          "execution_count": 11
        }
      ]
    },
    {
      "cell_type": "code",
      "source": [
        "classifier.classify(caracteristica_genero('Trinity'))"
      ],
      "metadata": {
        "colab": {
          "base_uri": "https://localhost:8080/",
          "height": 35
        },
        "id": "KLG76TSsvhPm",
        "outputId": "4e8a4e9d-7906-4dd6-9319-3bad301ce250"
      },
      "execution_count": null,
      "outputs": [
        {
          "output_type": "execute_result",
          "data": {
            "text/plain": [
              "'female'"
            ],
            "application/vnd.google.colaboratory.intrinsic+json": {
              "type": "string"
            }
          },
          "metadata": {},
          "execution_count": 12
        }
      ]
    },
    {
      "cell_type": "markdown",
      "source": [
        "Código original de la página [Learning to Classify Text](https://www.nltk.org/book_1ed/ch06.html)"
      ],
      "metadata": {
        "id": "XVtPJV2dAvX7"
      }
    },
    {
      "cell_type": "code",
      "source": [
        "from nltk.corpus import names\n",
        "import random\n",
        "names = ([(name, 'male') for name in names.words('male.txt')] +\n",
        "          [(name, 'female') for name in names.words('female.txt')])\n",
        "import random\n",
        "random.shuffle(names)\n",
        "\n",
        "def gender_features(word):\n",
        "  return {'last_letter': word[-1]}\n",
        "gender_features('Shrek')\n",
        "\n",
        "\n",
        "\n",
        " \t\n",
        "featuresets = [(gender_features(n), g) for (n,g) in names]\n",
        "train_set, test_set = featuresets[500:], featuresets[:500]\n",
        "classifier = nltk.NaiveBayesClassifier.train(train_set)"
      ],
      "metadata": {
        "id": "YkrLlUOPr57t"
      },
      "execution_count": null,
      "outputs": []
    },
    {
      "cell_type": "code",
      "source": [
        "classifier.classify(gender_features('Albert'))"
      ],
      "metadata": {
        "colab": {
          "base_uri": "https://localhost:8080/",
          "height": 35
        },
        "id": "SNI2mGC5nWcY",
        "outputId": "572dc992-5445-4ba1-c514-f2d3bc63e839"
      },
      "execution_count": null,
      "outputs": [
        {
          "output_type": "execute_result",
          "data": {
            "text/plain": [
              "'male'"
            ],
            "application/vnd.google.colaboratory.intrinsic+json": {
              "type": "string"
            }
          },
          "metadata": {},
          "execution_count": 14
        }
      ]
    },
    {
      "cell_type": "code",
      "source": [
        "classifier.classify(gender_features('Jane'))"
      ],
      "metadata": {
        "colab": {
          "base_uri": "https://localhost:8080/",
          "height": 35
        },
        "id": "-PxoWmkZsQLJ",
        "outputId": "f7984c22-2758-4ce8-b62c-dfbaed1ea353"
      },
      "execution_count": null,
      "outputs": [
        {
          "output_type": "execute_result",
          "data": {
            "text/plain": [
              "'female'"
            ],
            "application/vnd.google.colaboratory.intrinsic+json": {
              "type": "string"
            }
          },
          "metadata": {},
          "execution_count": 15
        }
      ]
    },
    {
      "cell_type": "code",
      "source": [
        "classifier.classify(gender_features('Carmen'))"
      ],
      "metadata": {
        "colab": {
          "base_uri": "https://localhost:8080/",
          "height": 35
        },
        "id": "PvDk1QXBA7uY",
        "outputId": "71d00555-e48f-483f-8886-41980517140f"
      },
      "execution_count": null,
      "outputs": [
        {
          "output_type": "execute_result",
          "data": {
            "text/plain": [
              "'male'"
            ],
            "application/vnd.google.colaboratory.intrinsic+json": {
              "type": "string"
            }
          },
          "metadata": {},
          "execution_count": 16
        }
      ]
    },
    {
      "cell_type": "markdown",
      "source": [
        "Después de entrenar al clasificador se evalúan los resultados. En este ejemplo, el clasificador tuvo una exactitud del 73.8%. Nota que este proceso de evaluación se hace sobre el conjunto de pruebas. En la figura 5 también se pueden observar cuáles fueron las cinco características más importantes para clasificar los nombres. La lista desplegada muestra que los nombres del conjunto de entrenamiento que terminan en a aparecieron 34 veces más en la categoría femenino que masculino. De forma similar, los nombres que terminan en k aparecieron 32.0\n",
        " veces más en la categoría femenino que en masculino."
      ],
      "metadata": {
        "id": "mOE0OQFQRHDH"
      }
    },
    {
      "cell_type": "code",
      "source": [
        "print(nltk.classify.accuracy(classifier, test_set))"
      ],
      "metadata": {
        "colab": {
          "base_uri": "https://localhost:8080/"
        },
        "id": "vNWl31BfBSHy",
        "outputId": "156d42bf-351d-4d3d-e2b0-1fa3e22d6771"
      },
      "execution_count": null,
      "outputs": [
        {
          "output_type": "stream",
          "name": "stdout",
          "text": [
            "0.738\n"
          ]
        }
      ]
    },
    {
      "cell_type": "code",
      "source": [
        "classifier.show_most_informative_features(5)"
      ],
      "metadata": {
        "colab": {
          "base_uri": "https://localhost:8080/"
        },
        "id": "8iKzgQ68Bf-K",
        "outputId": "bfb8191e-fe90-4da9-8f5e-30ecdf9088cd"
      },
      "execution_count": null,
      "outputs": [
        {
          "output_type": "stream",
          "name": "stdout",
          "text": [
            "Most Informative Features\n",
            "             last_letter = 'a'            female : male   =     38.1 : 1.0\n",
            "             last_letter = 'k'              male : female =     32.0 : 1.0\n",
            "             last_letter = 'f'              male : female =     26.8 : 1.0\n",
            "             last_letter = 'p'              male : female =     11.3 : 1.0\n",
            "             last_letter = 'v'              male : female =     10.6 : 1.0\n"
          ]
        }
      ]
    },
    {
      "cell_type": "markdown",
      "source": [
        "El ejemplo siguiente utilizará un clasificador bayesiano para adivinar la categoría de una crítica de películas. Se utilizará el corpus movie_reviews de NLTK.\n",
        "\n",
        "En la figura 6 se muestra el procedimiento para descargar el corpus, así como una crítica, cuya clasificación es negativa (nota la palabra “neg” al final del registro)."
      ],
      "metadata": {
        "id": "p9cngoZkRYVr"
      }
    },
    {
      "cell_type": "code",
      "source": [
        "documentos = [(list(movie_reviews.words(fileid)), category)\n",
        "         for category in movie_reviews.categories()\n",
        "         for fileid in movie_reviews.fileids(category)]\n",
        "random.shuffle(documentos)\n",
        "print(documentos[5])"
      ],
      "metadata": {
        "colab": {
          "base_uri": "https://localhost:8080/"
        },
        "id": "J3vN8XoQB0X6",
        "outputId": "267ae6dd-f05a-43e9-8e04-f050d19cd9e2"
      },
      "execution_count": null,
      "outputs": [
        {
          "output_type": "stream",
          "name": "stdout",
          "text": [
            "(['notting', 'hill', \"'\", 's', 'trailer', 'is', 'awful', ':', 'a', 'laughless', ',', 'schmaltzy', 'montage', '.', 'the', 'movie', 'was', 'desperately', 'marketed', 'to', 'the', 'anti', '-', 'phantom', 'menace', 'crowd', ',', 'the', 'same', 'lovelorn', 'females', 'who', 'ignored', 'the', 'love', 'letter', '.', 'and', 'it', 'apparently', 'worked', '.', 'perhaps', 'the', 'presence', 'of', 'julia', 'roberts', '-', 'whose', 'allure', 'beyond', 'those', 'perfect', 'teeth', 'still', 'escapes', 'me', '-', 'had', 'a', 'lot', 'to', 'do', 'with', 'notting', 'hill', \"'\", 's', 'opening', 'weekend', 'success', ',', 'but', 'the', 'film', \"'\", 's', 'staying', 'power', 'is', 'based', 'on', 'word', 'of', 'mouth', '.', 'allow', 'me', 'to', 'spread', 'some', 'more', 'good', 'buzz', 'for', 'notting', 'hill', '.', 'grant', 'stars', 'as', 'william', 'thacker', ',', 'a', 'travel', '-', 'bookstore', 'owner', 'who', 'works', 'and', 'resides', 'in', 'a', 'tiny', 'english', 'district', 'called', 'notting', 'hill', '.', 'into', 'his', 'shop', 'one', 'day', 'wanders', 'famous', 'actress', 'anna', 'scott', '(', 'roberts', ')', '.', 'a', 'common', 'thief', ',', 'some', 'spilled', 'orange', 'juice', ',', 'and', 'some', 'stilted', 'conversation', 'leads', 'to', 'their', 'first', ',', 'highly', 'impetuous', '(', 'or', 'is', 'that', 'improbable', '?', ')', ',', 'kiss', '.', 'days', 'later', ',', 'william', 'sneaks', 'into', 'her', 'hotel', 'suite', 'under', 'the', 'guise', 'of', 'a', 'magazine', 'journalist', ',', 'and', 'so', 'begins', 'a', 'passionate', ',', 'albeit', 'surreptitious', ',', 'affair', '.', '(', 'aside', ':', 'notting', 'hill', \"'\", 's', 'portrayal', 'of', 'press', 'junkets', 'is', 'deadly', 'accurate', '.', ')', 'only', 'anna', \"'\", 's', 'celebrity', '-', 'or', 'william', \"'\", 's', 'lack', 'thereof', '-', 'threatens', 'to', 'drive', 'a', 'wedge', 'between', 'them', '.', 'richard', 'curtis', 'has', 'tapped', 'into', 'fantasy', 'we', 'all', 'have', 'considered', ',', 'and', 'for', 'at', 'least', 'its', 'first', 'half', '-', 'hour', 'the', 'picture', \"'\", 's', '\"', 'beauty', 'and', 'the', 'beast', '\"', '-', 'like', 'scenario', 'is', '(', 'romantic', ')', 'escapism', 'of', 'the', 'highest', 'order', '.', 'as', 'with', 'groundhog', 'day', 'or', 'pleasantville', ',', 'while', 'watching', 'the', 'high', '-', 'concept', 'comedy', 'notting', 'hill', 'one', 'constantly', 'imagines', 'him', '/', 'herself', 'in', 'the', 'lead', ';', 'it', \"'\", 's', 'william', \"'\", 's', 'ordinaryness', 'that', 'entices', 'the', 'spoiled', 'and', 'bored', 'anna', '.', 'curtis', '(', 'who', 'previously', 'penned', 'four', 'weddings', 'and', 'a', 'funeral', ')', 'is', 'also', 'smart', 'enough', 'to', 'know', 'that', 'the', 'unlikely', 'couple', \"'\", 's', 'situation', 'is', 'not', 'enough', 'to', 'fuel', 'two', 'hours', \"'\", 'worth', 'of', 'entertainment', ',', 'so', 'some', 'of', 'notting', 'hill', \"'\", 's', 'finest', 'moments', 'revolve', 'around', 'william', \"'\", 's', 'eccentric', 'friends', 'and', 'family', '.', 'by', 'now', ',', 'dear', 'reader', ',', 'you', \"'\", 've', 'probably', 'heard', 'a', 'lot', 'about', 'rhys', 'ifans', \"'\", 'performance', 'as', 'william', \"'\", 's', 'imbecilic', 'welsh', 'flatmate', '.', 'yes', ',', 'he', \"'\", 's', 'a', 'crowd', 'pleaser', ',', 'a', 'walking', 'sight', 'gag', ',', 'but', 'his', 'character', 'is', 'not', 'nearly', 'as', 'involving', 'as', 'the', 'wheelchair', '-', 'bound', '(', 'and', 'appropriately', 'named', ')', 'bella', '(', 'mckee', ',', 'the', 'anguished', 'waitress', 'of', 'naked', ')', 'or', 'max', '(', 'tom', 'mcinnerny', ')', ',', 'her', 'lousy', 'chef', 'of', 'a', 'husband', '.', 'in', 'the', 'movie', \"'\", 's', 'best', 'sequence', ',', 'william', ',', 'anna', ',', 'and', 'company', 'sit', 'around', 'bloated', 'from', 'max', \"'\", 's', 'latest', 'concoction', 'and', 'hold', 'a', 'contest', ':', 'the', 'last', 'brownie', 'on', 'the', 'table', 'goes', 'to', 'the', 'diner', 'with', 'the', 'saddest', 'life', '.', 'the', 'scene', 'ends', 'only', 'as', 'a', 'british', 'writer', 'would', 'end', 'it', '.', 'if', 'anything', ',', 'fantastic', 'bits', 'like', 'these', 'dull', 'the', 'main', 'plot', \"'\", 's', 'dramatic', 'impact', '.', 'roberts', 'and', 'grant', ',', 'especially', ',', 'are', 'appealing', ',', 'but', 'their', 'relationship', 'is', 'convolutedly', 'interrupted', 'too', 'many', 'times', '(', 'four', 'weddings', \"'\", 'suffered', 'similar', 'flaws', ')', ',', 'and', 'william', 'and', 'anna', 'ultimately', 'only', 'have', 'one', 'thing', 'in', 'common', ':', 'they', \"'\", 're', 'lonely', '.', '(', 'worth', 'noting', 'in', 'roberts', \"'\", 'and', 'grant', \"'\", 's', 'favour', ':', 'the', 'ubiquitous', '\"', 'i', \"'\", 'm', 'just', 'a', 'girl', ',', 'standing', 'across', 'from', 'a', 'boy', ',', 'asking', 'him', 'to', 'love', 'her', '\"', 'episode', 'is', 'not', 'nearly', 'so', 'syrupy', 'as', 'it', 'appears', 'in', 'clips', ',', 'and', 'it', 'features', 'some', 'of', 'the', 'best', 'emoting', 'either', 'actor', 'has', 'ever', 'done', '.', ')', 'notting', 'hill', 'is', 'nonetheless', 'enjoyable', ';', 'on', 'the', 'visual', 'side', 'of', 'things', ',', 'i', 'especially', 'appreciated', 'michell', \"'\", 's', 'playful', 'changing', '-', 'of', '-', 'the', '-', 'seasons', 'number', '.', 'if', 'only', '(', 'and', 'this', 'is', 'a', 'surprisinly', 'minor', 'gripe', ')', 'he', 'had', 'lopped', 'off', 'the', 'egregious', 'epilogue', ';', 'for', 'a', 'story', 'that', 'thrives', 'on', 'what', 'we', 'bring', 'to', 'it', ',', 'the', 'filmmakers', 'work', 'too', 'hard', 'to', 'tidy', 'things', 'up', ',', 'leaving', 'our', 'imaginations', 'in', 'the', 'lurch', '.'], 'pos')\n"
          ]
        }
      ]
    },
    {
      "cell_type": "markdown",
      "source": [
        "El procedimiento de extracción de características se muestra a continuación."
      ],
      "metadata": {
        "id": "G8cJb2vzRdrP"
      }
    },
    {
      "cell_type": "code",
      "source": [
        "palabras = nltk.FreqDist(w.lower() for w in movie_reviews.words())\n",
        "caract_palabras = list(palabras.keys())[:2000]"
      ],
      "metadata": {
        "id": "8Y88qX9UCrWM"
      },
      "execution_count": null,
      "outputs": []
    },
    {
      "cell_type": "code",
      "source": [
        "def caract_revision(document):\n",
        "  document_words = set (document)\n",
        "  features = {}\n",
        "  for word in caract_palabras:\n",
        "    features['contiene(%s)' % word] = (word in document_words)\n",
        "  return features"
      ],
      "metadata": {
        "id": "AcMpYaaaDi-M"
      },
      "execution_count": null,
      "outputs": []
    },
    {
      "cell_type": "code",
      "source": [
        "print(caract_revision(movie_reviews.words('pos/cv957_8737.txt')))"
      ],
      "metadata": {
        "colab": {
          "base_uri": "https://localhost:8080/"
        },
        "id": "_xqtoeKTD7ZC",
        "outputId": "b398026f-3a1e-4d0a-cc45-466e48fd39da"
      },
      "execution_count": null,
      "outputs": [
        {
          "output_type": "stream",
          "name": "stdout",
          "text": [
            "{'contiene(plot)': True, 'contiene(:)': True, 'contiene(two)': True, 'contiene(teen)': False, 'contiene(couples)': False, 'contiene(go)': False, 'contiene(to)': True, 'contiene(a)': True, 'contiene(church)': False, 'contiene(party)': False, 'contiene(,)': True, 'contiene(drink)': False, 'contiene(and)': True, 'contiene(then)': True, 'contiene(drive)': False, 'contiene(.)': True, 'contiene(they)': True, 'contiene(get)': True, 'contiene(into)': True, 'contiene(an)': True, 'contiene(accident)': False, 'contiene(one)': True, 'contiene(of)': True, 'contiene(the)': True, 'contiene(guys)': False, 'contiene(dies)': False, 'contiene(but)': True, 'contiene(his)': True, 'contiene(girlfriend)': True, 'contiene(continues)': False, 'contiene(see)': False, 'contiene(him)': True, 'contiene(in)': True, 'contiene(her)': False, 'contiene(life)': False, 'contiene(has)': True, 'contiene(nightmares)': False, 'contiene(what)': True, \"contiene(')\": True, 'contiene(s)': True, 'contiene(deal)': False, 'contiene(?)': False, 'contiene(watch)': True, 'contiene(movie)': True, 'contiene(\")': True, 'contiene(sorta)': False, 'contiene(find)': False, 'contiene(out)': True, 'contiene(critique)': False, 'contiene(mind)': False, 'contiene(-)': True, 'contiene(fuck)': False, 'contiene(for)': True, 'contiene(generation)': False, 'contiene(that)': True, 'contiene(touches)': False, 'contiene(on)': True, 'contiene(very)': True, 'contiene(cool)': False, 'contiene(idea)': True, 'contiene(presents)': False, 'contiene(it)': True, 'contiene(bad)': False, 'contiene(package)': False, 'contiene(which)': True, 'contiene(is)': True, 'contiene(makes)': False, 'contiene(this)': True, 'contiene(review)': False, 'contiene(even)': False, 'contiene(harder)': False, 'contiene(write)': False, 'contiene(since)': False, 'contiene(i)': False, 'contiene(generally)': False, 'contiene(applaud)': False, 'contiene(films)': False, 'contiene(attempt)': False, 'contiene(break)': False, 'contiene(mold)': False, 'contiene(mess)': False, 'contiene(with)': True, 'contiene(your)': False, 'contiene(head)': False, 'contiene(such)': False, 'contiene(()': True, 'contiene(lost)': False, 'contiene(highway)': False, 'contiene(&)': False, 'contiene(memento)': False, 'contiene())': True, 'contiene(there)': True, 'contiene(are)': True, 'contiene(good)': False, 'contiene(ways)': False, 'contiene(making)': True, 'contiene(all)': True, 'contiene(types)': False, 'contiene(these)': False, 'contiene(folks)': False, 'contiene(just)': True, 'contiene(didn)': False, 'contiene(t)': False, 'contiene(snag)': False, 'contiene(correctly)': False, 'contiene(seem)': False, 'contiene(have)': True, 'contiene(taken)': False, 'contiene(pretty)': False, 'contiene(neat)': False, 'contiene(concept)': False, 'contiene(executed)': False, 'contiene(terribly)': False, 'contiene(so)': False, 'contiene(problems)': True, 'contiene(well)': True, 'contiene(its)': False, 'contiene(main)': False, 'contiene(problem)': False, 'contiene(simply)': False, 'contiene(too)': False, 'contiene(jumbled)': False, 'contiene(starts)': False, 'contiene(off)': False, 'contiene(normal)': False, 'contiene(downshifts)': False, 'contiene(fantasy)': False, 'contiene(world)': True, 'contiene(you)': True, 'contiene(as)': True, 'contiene(audience)': False, 'contiene(member)': False, 'contiene(no)': False, 'contiene(going)': False, 'contiene(dreams)': False, 'contiene(characters)': False, 'contiene(coming)': False, 'contiene(back)': False, 'contiene(from)': True, 'contiene(dead)': False, 'contiene(others)': True, 'contiene(who)': True, 'contiene(look)': True, 'contiene(like)': True, 'contiene(strange)': False, 'contiene(apparitions)': False, 'contiene(disappearances)': False, 'contiene(looooot)': False, 'contiene(chase)': True, 'contiene(scenes)': False, 'contiene(tons)': False, 'contiene(weird)': False, 'contiene(things)': True, 'contiene(happen)': False, 'contiene(most)': True, 'contiene(not)': True, 'contiene(explained)': False, 'contiene(now)': False, 'contiene(personally)': False, 'contiene(don)': False, 'contiene(trying)': False, 'contiene(unravel)': False, 'contiene(film)': False, 'contiene(every)': False, 'contiene(when)': True, 'contiene(does)': False, 'contiene(give)': False, 'contiene(me)': True, 'contiene(same)': True, 'contiene(clue)': False, 'contiene(over)': False, 'contiene(again)': False, 'contiene(kind)': True, 'contiene(fed)': False, 'contiene(up)': False, 'contiene(after)': False, 'contiene(while)': True, 'contiene(biggest)': False, 'contiene(obviously)': False, 'contiene(got)': True, 'contiene(big)': False, 'contiene(secret)': False, 'contiene(hide)': False, 'contiene(seems)': False, 'contiene(want)': False, 'contiene(completely)': False, 'contiene(until)': False, 'contiene(final)': False, 'contiene(five)': False, 'contiene(minutes)': False, 'contiene(do)': True, 'contiene(make)': True, 'contiene(entertaining)': False, 'contiene(thrilling)': False, 'contiene(or)': False, 'contiene(engaging)': False, 'contiene(meantime)': False, 'contiene(really)': False, 'contiene(sad)': False, 'contiene(part)': False, 'contiene(arrow)': False, 'contiene(both)': False, 'contiene(dig)': False, 'contiene(flicks)': False, 'contiene(we)': False, 'contiene(actually)': True, 'contiene(figured)': False, 'contiene(by)': True, 'contiene(half)': False, 'contiene(way)': True, 'contiene(point)': False, 'contiene(strangeness)': False, 'contiene(did)': False, 'contiene(start)': True, 'contiene(little)': True, 'contiene(bit)': False, 'contiene(sense)': False, 'contiene(still)': False, 'contiene(more)': False, 'contiene(guess)': False, 'contiene(bottom)': False, 'contiene(line)': False, 'contiene(movies)': True, 'contiene(should)': False, 'contiene(always)': False, 'contiene(sure)': False, 'contiene(before)': False, 'contiene(given)': False, 'contiene(password)': False, 'contiene(enter)': False, 'contiene(understanding)': False, 'contiene(mean)': False, 'contiene(showing)': False, 'contiene(melissa)': False, 'contiene(sagemiller)': False, 'contiene(running)': False, 'contiene(away)': False, 'contiene(visions)': False, 'contiene(about)': True, 'contiene(20)': False, 'contiene(throughout)': False, 'contiene(plain)': False, 'contiene(lazy)': False, 'contiene(!)': True, 'contiene(okay)': False, 'contiene(people)': False, 'contiene(chasing)': False, 'contiene(know)': False, 'contiene(need)': False, 'contiene(how)': True, 'contiene(giving)': False, 'contiene(us)': True, 'contiene(different)': False, 'contiene(offering)': False, 'contiene(further)': False, 'contiene(insight)': False, 'contiene(down)': False, 'contiene(apparently)': False, 'contiene(studio)': False, 'contiene(took)': False, 'contiene(director)': False, 'contiene(chopped)': False, 'contiene(themselves)': False, 'contiene(shows)': False, 'contiene(might)': False, 'contiene(ve)': False, 'contiene(been)': False, 'contiene(decent)': False, 'contiene(here)': True, 'contiene(somewhere)': False, 'contiene(suits)': False, 'contiene(decided)': False, 'contiene(turning)': False, 'contiene(music)': False, 'contiene(video)': False, 'contiene(edge)': False, 'contiene(would)': False, 'contiene(actors)': False, 'contiene(although)': False, 'contiene(wes)': False, 'contiene(bentley)': False, 'contiene(seemed)': False, 'contiene(be)': True, 'contiene(playing)': True, 'contiene(exact)': False, 'contiene(character)': False, 'contiene(he)': True, 'contiene(american)': False, 'contiene(beauty)': False, 'contiene(only)': True, 'contiene(new)': False, 'contiene(neighborhood)': False, 'contiene(my)': False, 'contiene(kudos)': False, 'contiene(holds)': False, 'contiene(own)': True, 'contiene(entire)': False, 'contiene(feeling)': False, 'contiene(unraveling)': False, 'contiene(overall)': False, 'contiene(doesn)': False, 'contiene(stick)': False, 'contiene(because)': False, 'contiene(entertain)': False, 'contiene(confusing)': False, 'contiene(rarely)': False, 'contiene(excites)': False, 'contiene(feels)': False, 'contiene(redundant)': False, 'contiene(runtime)': False, 'contiene(despite)': False, 'contiene(ending)': False, 'contiene(explanation)': False, 'contiene(craziness)': False, 'contiene(came)': False, 'contiene(oh)': False, 'contiene(horror)': False, 'contiene(slasher)': False, 'contiene(flick)': False, 'contiene(packaged)': False, 'contiene(someone)': False, 'contiene(assuming)': False, 'contiene(genre)': False, 'contiene(hot)': False, 'contiene(kids)': False, 'contiene(also)': True, 'contiene(wrapped)': False, 'contiene(production)': False, 'contiene(years)': False, 'contiene(ago)': False, 'contiene(sitting)': False, 'contiene(shelves)': False, 'contiene(ever)': True, 'contiene(whatever)': False, 'contiene(skip)': False, 'contiene(where)': True, 'contiene(joblo)': False, 'contiene(nightmare)': False, 'contiene(elm)': False, 'contiene(street)': False, 'contiene(3)': False, 'contiene(7)': False, 'contiene(/)': False, 'contiene(10)': False, 'contiene(blair)': False, 'contiene(witch)': False, 'contiene(2)': False, 'contiene(crow)': False, 'contiene(9)': False, 'contiene(salvation)': False, 'contiene(4)': False, 'contiene(stir)': False, 'contiene(echoes)': False, 'contiene(8)': False, 'contiene(happy)': False, 'contiene(bastard)': False, 'contiene(quick)': True, 'contiene(damn)': False, 'contiene(y2k)': False, 'contiene(bug)': False, 'contiene(starring)': False, 'contiene(jamie)': False, 'contiene(lee)': False, 'contiene(curtis)': False, 'contiene(another)': False, 'contiene(baldwin)': False, 'contiene(brother)': False, 'contiene(william)': False, 'contiene(time)': False, 'contiene(story)': False, 'contiene(regarding)': False, 'contiene(crew)': False, 'contiene(tugboat)': False, 'contiene(comes)': False, 'contiene(across)': False, 'contiene(deserted)': False, 'contiene(russian)': False, 'contiene(tech)': False, 'contiene(ship)': False, 'contiene(kick)': False, 'contiene(power)': False, 'contiene(within)': False, 'contiene(gore)': False, 'contiene(bringing)': False, 'contiene(few)': False, 'contiene(action)': True, 'contiene(sequences)': False, 'contiene(virus)': False, 'contiene(empty)': False, 'contiene(flash)': False, 'contiene(substance)': False, 'contiene(why)': False, 'contiene(was)': False, 'contiene(middle)': False, 'contiene(nowhere)': False, 'contiene(origin)': False, 'contiene(pink)': False, 'contiene(flashy)': False, 'contiene(thing)': False, 'contiene(hit)': False, 'contiene(mir)': False, 'contiene(course)': True, 'contiene(donald)': False, 'contiene(sutherland)': False, 'contiene(stumbling)': False, 'contiene(around)': False, 'contiene(drunkenly)': False, 'contiene(hey)': False, 'contiene(let)': False, 'contiene(some)': False, 'contiene(robots)': False, 'contiene(acting)': False, 'contiene(below)': False, 'contiene(average)': False, 'contiene(likes)': False, 'contiene(re)': True, 'contiene(likely)': False, 'contiene(work)': False, 'contiene(halloween)': False, 'contiene(h20)': False, 'contiene(wasted)': False, 'contiene(real)': False, 'contiene(star)': False, 'contiene(stan)': False, 'contiene(winston)': False, 'contiene(robot)': False, 'contiene(design)': False, 'contiene(schnazzy)': False, 'contiene(cgi)': False, 'contiene(occasional)': False, 'contiene(shot)': False, 'contiene(picking)': False, 'contiene(brain)': False, 'contiene(if)': True, 'contiene(body)': False, 'contiene(parts)': False, 'contiene(turn)': False, 'contiene(otherwise)': False, 'contiene(much)': False, 'contiene(sunken)': False, 'contiene(jaded)': False, 'contiene(viewer)': False, 'contiene(thankful)': False, 'contiene(invention)': False, 'contiene(timex)': False, 'contiene(indiglo)': False, 'contiene(based)': False, 'contiene(late)': False, 'contiene(1960)': False, 'contiene(television)': False, 'contiene(show)': False, 'contiene(name)': False, 'contiene(mod)': False, 'contiene(squad)': False, 'contiene(tells)': False, 'contiene(tale)': False, 'contiene(three)': False, 'contiene(reformed)': False, 'contiene(criminals)': False, 'contiene(under)': False, 'contiene(employ)': False, 'contiene(police)': False, 'contiene(undercover)': True, 'contiene(however)': True, 'contiene(wrong)': True, 'contiene(evidence)': False, 'contiene(gets)': True, 'contiene(stolen)': False, 'contiene(immediately)': False, 'contiene(suspicion)': False, 'contiene(ads)': False, 'contiene(cuts)': False, 'contiene(claire)': False, 'contiene(dane)': False, 'contiene(nice)': False, 'contiene(hair)': False, 'contiene(cute)': False, 'contiene(outfits)': False, 'contiene(car)': False, 'contiene(chases)': False, 'contiene(stuff)': False, 'contiene(blowing)': False, 'contiene(sounds)': False, 'contiene(first)': False, 'contiene(fifteen)': False, 'contiene(quickly)': False, 'contiene(becomes)': False, 'contiene(apparent)': False, 'contiene(certainly)': False, 'contiene(slick)': False, 'contiene(looking)': False, 'contiene(complete)': False, 'contiene(costumes)': False, 'contiene(isn)': False, 'contiene(enough)': False, 'contiene(best)': True, 'contiene(described)': False, 'contiene(cross)': False, 'contiene(between)': True, 'contiene(hour)': False, 'contiene(long)': False, 'contiene(cop)': False, 'contiene(stretched)': False, 'contiene(span)': False, 'contiene(single)': False, 'contiene(clich)': False, 'contiene(matter)': False, 'contiene(elements)': False, 'contiene(recycled)': False, 'contiene(everything)': True, 'contiene(already)': False, 'contiene(seen)': False, 'contiene(nothing)': False, 'contiene(spectacular)': False, 'contiene(sometimes)': False, 'contiene(bordering)': False, 'contiene(wooden)': False, 'contiene(danes)': False, 'contiene(omar)': False, 'contiene(epps)': False, 'contiene(deliver)': False, 'contiene(their)': False, 'contiene(lines)': False, 'contiene(bored)': False, 'contiene(transfers)': False, 'contiene(onto)': False, 'contiene(escape)': False, 'contiene(relatively)': False, 'contiene(unscathed)': False, 'contiene(giovanni)': False, 'contiene(ribisi)': False, 'contiene(plays)': False, 'contiene(resident)': False, 'contiene(crazy)': False, 'contiene(man)': False, 'contiene(ultimately)': False, 'contiene(being)': False, 'contiene(worth)': True, 'contiene(watching)': False, 'contiene(unfortunately)': False, 'contiene(save)': False, 'contiene(convoluted)': False, 'contiene(apart)': False, 'contiene(occupying)': False, 'contiene(screen)': True, 'contiene(young)': False, 'contiene(cast)': False, 'contiene(clothes)': False, 'contiene(hip)': False, 'contiene(soundtrack)': False, 'contiene(appears)': False, 'contiene(geared)': False, 'contiene(towards)': False, 'contiene(teenage)': False, 'contiene(mindset)': False, 'contiene(r)': False, 'contiene(rating)': False, 'contiene(content)': False, 'contiene(justify)': False, 'contiene(juvenile)': False, 'contiene(older)': False, 'contiene(information)': False, 'contiene(literally)': False, 'contiene(spoon)': False, 'contiene(hard)': False, 'contiene(instead)': False, 'contiene(telling)': False, 'contiene(dialogue)': False, 'contiene(poorly)': False, 'contiene(written)': False, 'contiene(extremely)': False, 'contiene(predictable)': False, 'contiene(progresses)': False, 'contiene(won)': False, 'contiene(care)': False, 'contiene(heroes)': False, 'contiene(any)': False, 'contiene(jeopardy)': False, 'contiene(ll)': False, 'contiene(aren)': False, 'contiene(basing)': False, 'contiene(nobody)': False, 'contiene(remembers)': False, 'contiene(questionable)': False, 'contiene(wisdom)': False, 'contiene(especially)': True, 'contiene(considers)': False, 'contiene(target)': False, 'contiene(fact)': False, 'contiene(number)': False, 'contiene(memorable)': False, 'contiene(can)': False, 'contiene(counted)': False, 'contiene(hand)': False, 'contiene(missing)': False, 'contiene(finger)': False, 'contiene(times)': False, 'contiene(checked)': False, 'contiene(six)': False, 'contiene(clear)': False, 'contiene(indication)': False, 'contiene(them)': True, 'contiene(than)': False, 'contiene(cash)': False, 'contiene(spending)': False, 'contiene(dollar)': False, 'contiene(judging)': False, 'contiene(rash)': False, 'contiene(awful)': False, 'contiene(seeing)': True, 'contiene(avoid)': False, 'contiene(at)': False, 'contiene(costs)': False, 'contiene(quest)': False, 'contiene(camelot)': False, 'contiene(warner)': False, 'contiene(bros)': False, 'contiene(feature)': False, 'contiene(length)': False, 'contiene(fully)': False, 'contiene(animated)': False, 'contiene(steal)': False, 'contiene(clout)': False, 'contiene(disney)': False, 'contiene(cartoon)': False, 'contiene(empire)': False, 'contiene(mouse)': False, 'contiene(reason)': False, 'contiene(worried)': False, 'contiene(other)': True, 'contiene(recent)': False, 'contiene(challenger)': False, 'contiene(throne)': False, 'contiene(last)': False, 'contiene(fall)': False, 'contiene(promising)': False, 'contiene(flawed)': False, 'contiene(20th)': False, 'contiene(century)': False, 'contiene(fox)': False, 'contiene(anastasia)': False, 'contiene(hercules)': False, 'contiene(lively)': False, 'contiene(colorful)': False, 'contiene(palate)': False, 'contiene(had)': False, 'contiene(beat)': False, 'contiene(hands)': False, 'contiene(crown)': False, 'contiene(1997)': False, 'contiene(piece)': False, 'contiene(animation)': False, 'contiene(year)': False, 'contiene(contest)': False, 'contiene(arrival)': False, 'contiene(magic)': False, 'contiene(kingdom)': False, 'contiene(mediocre)': False, 'contiene(--)': True, 'contiene(d)': False, 'contiene(pocahontas)': False, 'contiene(those)': False, 'contiene(keeping)': False, 'contiene(score)': False, 'contiene(nearly)': False, 'contiene(dull)': False, 'contiene(revolves)': False, 'contiene(adventures)': False, 'contiene(free)': False, 'contiene(spirited)': False, 'contiene(kayley)': False, 'contiene(voiced)': False, 'contiene(jessalyn)': False, 'contiene(gilsig)': False, 'contiene(early)': True, 'contiene(daughter)': False, 'contiene(belated)': False, 'contiene(knight)': False, 'contiene(king)': False, 'contiene(arthur)': False, 'contiene(round)': False, 'contiene(table)': False, 'contiene(dream)': False, 'contiene(follow)': False, 'contiene(father)': False, 'contiene(footsteps)': False, 'contiene(she)': True, 'contiene(chance)': False, 'contiene(evil)': False, 'contiene(warlord)': False, 'contiene(ruber)': False, 'contiene(gary)': False, 'contiene(oldman)': False, 'contiene(ex)': False, 'contiene(gone)': False, 'contiene(steals)': False, 'contiene(magical)': False, 'contiene(sword)': False, 'contiene(excalibur)': False, 'contiene(accidentally)': False, 'contiene(loses)': False, 'contiene(dangerous)': True, 'contiene(booby)': False, 'contiene(trapped)': False, 'contiene(forest)': False, 'contiene(help)': True, 'contiene(hunky)': False, 'contiene(blind)': False, 'contiene(timberland)': False, 'contiene(dweller)': False, 'contiene(garrett)': False, 'contiene(carey)': False, 'contiene(elwes)': False, 'contiene(headed)': False, 'contiene(dragon)': False, 'contiene(eric)': False, 'contiene(idle)': False, 'contiene(rickles)': False, 'contiene(arguing)': False, 'contiene(itself)': False, 'contiene(able)': False, 'contiene(medieval)': False, 'contiene(sexist)': False, 'contiene(prove)': False, 'contiene(fighter)': False, 'contiene(side)': False, 'contiene(pure)': False, 'contiene(showmanship)': False, 'contiene(essential)': False, 'contiene(element)': False, 'contiene(expected)': False, 'contiene(climb)': False, 'contiene(high)': False, 'contiene(ranks)': False, 'contiene(differentiates)': False, 'contiene(something)': False, 'contiene(saturday)': False, 'contiene(morning)': False, 'contiene(subpar)': False, 'contiene(instantly)': False, 'contiene(forgettable)': False, 'contiene(songs)': False, 'contiene(integrated)': False, 'contiene(computerized)': False, 'contiene(footage)': False, 'contiene(compare)': False, 'contiene(run)': False, 'contiene(angry)': False, 'contiene(ogre)': False, 'contiene(herc)': False, 'contiene(battle)': False, 'contiene(hydra)': False, 'contiene(rest)': False, 'contiene(case)': False, 'contiene(stink)': False, 'contiene(none)': False, 'contiene(remotely)': False, 'contiene(interesting)': False, 'contiene(race)': False, 'contiene(bland)': False, 'contiene(end)': False, 'contiene(tie)': False, 'contiene(win)': False, 'contiene(comedy)': True, 'contiene(shtick)': False, 'contiene(awfully)': False, 'contiene(cloying)': False, 'contiene(least)': True, 'contiene(signs)': False, 'contiene(pulse)': False, 'contiene(fans)': False, \"contiene(-')\": False, 'contiene(90s)': False, 'contiene(tgif)': False, 'contiene(will)': True, 'contiene(thrilled)': False, 'contiene(jaleel)': False, 'contiene(urkel)': False, 'contiene(white)': False, 'contiene(bronson)': False, 'contiene(balki)': False, 'contiene(pinchot)': False, 'contiene(sharing)': False, 'contiene(nicely)': False, 'contiene(realized)': False, 'contiene(though)': False, 'contiene(m)': False, 'contiene(loss)': False, 'contiene(recall)': False, 'contiene(specific)': False, 'contiene(providing)': False, 'contiene(voice)': False, 'contiene(talent)': False, 'contiene(enthusiastic)': False, 'contiene(paired)': False, 'contiene(singers)': False, 'contiene(sound)': False, 'contiene(musical)': False, 'contiene(moments)': False, 'contiene(jane)': False, 'contiene(seymour)': False, 'contiene(celine)': False, 'contiene(dion)': False, 'contiene(must)': False, 'contiene(strain)': False, 'contiene(through)': False, 'contiene(aside)': False, 'contiene(children)': False, 'contiene(probably)': False, 'contiene(adults)': False, 'contiene(grievous)': False, 'contiene(error)': False, 'contiene(lack)': False, 'contiene(personality)': False, 'contiene(learn)': False, 'contiene(goes)': False, 'contiene(synopsis)': False, 'contiene(mentally)': False, 'contiene(unstable)': False, 'contiene(undergoing)': False, 'contiene(psychotherapy)': False, 'contiene(saves)': False, 'contiene(boy)': False, 'contiene(potentially)': False, 'contiene(fatal)': False, 'contiene(falls)': False, 'contiene(love)': False, 'contiene(mother)': False, 'contiene(fledgling)': False, 'contiene(restauranteur)': False, 'contiene(unsuccessfully)': False, 'contiene(attempting)': False, 'contiene(gain)': False, 'contiene(woman)': True, 'contiene(favor)': False, 'contiene(takes)': False, 'contiene(pictures)': False, 'contiene(kills)': False, 'contiene(comments)': True, 'contiene(stalked)': False, 'contiene(yet)': False, 'contiene(seemingly)': False, 'contiene(endless)': True, 'contiene(string)': False, 'contiene(spurned)': False, 'contiene(psychos)': False, 'contiene(getting)': True, 'contiene(revenge)': False, 'contiene(type)': False, 'contiene(stable)': False, 'contiene(category)': False, 'contiene(1990s)': False, 'contiene(industry)': False, 'contiene(theatrical)': False, 'contiene(direct)': False, 'contiene(proliferation)': False, 'contiene(may)': False, 'contiene(due)': False, 'contiene(typically)': False, 'contiene(inexpensive)': False, 'contiene(produce)': False, 'contiene(special)': False, 'contiene(effects)': False, 'contiene(stars)': False, 'contiene(serve)': False, 'contiene(vehicles)': False, 'contiene(nudity)': False, 'contiene(allowing)': False, 'contiene(frequent)': False, 'contiene(night)': False, 'contiene(cable)': False, 'contiene(wavers)': False, 'contiene(slightly)': False, 'contiene(norm)': False, 'contiene(respect)': False, 'contiene(psycho)': False, 'contiene(never)': True, 'contiene(affair)': False, 'contiene(;)': False, 'contiene(contrary)': False, 'contiene(rejected)': False, 'contiene(rather)': False, 'contiene(lover)': False, 'contiene(wife)': True, 'contiene(husband)': False, 'contiene(entry)': False, 'contiene(doomed)': False, 'contiene(collect)': False, 'contiene(dust)': False, 'contiene(viewed)': False, 'contiene(midnight)': False, 'contiene(provide)': False, 'contiene(suspense)': False, 'contiene(sets)': False, 'contiene(interspersed)': False, 'contiene(opening)': False, 'contiene(credits)': False, 'contiene(instance)': False, 'contiene(serious)': False, 'contiene(sounding)': False, 'contiene(narrator)': False, 'contiene(spouts)': False, 'contiene(statistics)': False, 'contiene(stalkers)': False, 'contiene(ponders)': False, 'contiene(cause)': False, 'contiene(stalk)': False, 'contiene(implicitly)': False, 'contiene(implied)': False, 'contiene(men)': False, 'contiene(shown)': False, 'contiene(snapshot)': False, 'contiene(actor)': False, 'contiene(jay)': False, 'contiene(underwood)': False, 'contiene(states)': False, 'contiene(daryl)': False, 'contiene(gleason)': False, 'contiene(stalker)': False, 'contiene(brooke)': False, 'contiene(daniels)': False, 'contiene(meant)': False, 'contiene(called)': False, 'contiene(guesswork)': False, 'contiene(required)': False, 'contiene(proceeds)': False, 'contiene(begins)': False, 'contiene(obvious)': False, 'contiene(sequence)': False, 'contiene(contrived)': False, 'contiene(quite)': False, 'contiene(brings)': False, 'contiene(victim)': False, 'contiene(together)': False, 'contiene(obsesses)': False, 'contiene(follows)': False, 'contiene(tries)': True, 'contiene(woo)': False, 'contiene(plans)': False, 'contiene(become)': False, 'contiene(desperate)': False, 'contiene(elaborate)': False, 'contiene(include)': False, 'contiene(cliche)': False, 'contiene(murdered)': False, 'contiene(pet)': False, 'contiene(require)': False, 'contiene(found)': False, 'contiene(exception)': False, 'contiene(cat)': False, 'contiene(shower)': False, 'contiene(events)': False, 'contiene(lead)': True, 'contiene(inevitable)': False, 'contiene(showdown)': False, 'contiene(survives)': False, 'contiene(invariably)': False, 'contiene(conclusion)': False, 'contiene(turkey)': False, 'contiene(uniformly)': False, 'contiene(adequate)': False, 'contiene(anything)': False, 'contiene(home)': False, 'contiene(either)': False, 'contiene(turns)': False, 'contiene(toward)': False, 'contiene(melodrama)': False, 'contiene(overdoes)': False, 'contiene(words)': False, 'contiene(manages)': False, 'contiene(creepy)': False, 'contiene(pass)': False, 'contiene(demands)': False, 'contiene(maryam)': False, 'contiene(abo)': False, 'contiene(close)': False, 'contiene(played)': True, 'contiene(bond)': False, 'contiene(chick)': False, 'contiene(living)': False, 'contiene(daylights)': False, 'contiene(equally)': False, 'contiene(title)': False, 'contiene(ditzy)': False, 'contiene(strong)': False, 'contiene(independent)': False, 'contiene(business)': False, 'contiene(owner)': False, 'contiene(needs)': False, 'contiene(proceed)': False, 'contiene(example)': False, 'contiene(suspicions)': False, 'contiene(ensure)': False, 'contiene(use)': False, 'contiene(excuse)': False, 'contiene(decides)': False, 'contiene(return)': False, 'contiene(toolbox)': False, 'contiene(left)': False, 'contiene(place)': True, 'contiene(house)': False, 'contiene(leave)': False, 'contiene(door)': False, 'contiene(answers)': False, 'contiene(opens)': False, 'contiene(wanders)': False, 'contiene(returns)': False, 'contiene(enters)': False, 'contiene(our)': False, 'contiene(heroine)': False, 'contiene(danger)': False, 'contiene(somehow)': False, 'contiene(parked)': False, 'contiene(front)': False, 'contiene(right)': False, 'contiene(oblivious)': False, 'contiene(presence)': False, 'contiene(inside)': False, 'contiene(whole)': False, 'contiene(episode)': False, 'contiene(places)': False, 'contiene(incredible)': False, 'contiene(suspension)': False, 'contiene(disbelief)': False, 'contiene(questions)': False, 'contiene(validity)': False, 'contiene(intelligence)': False, 'contiene(receives)': False, 'contiene(highly)': False, 'contiene(derivative)': False, 'contiene(somewhat)': False, 'contiene(boring)': False, 'contiene(cannot)': False, 'contiene(watched)': False, 'contiene(rated)': False, 'contiene(mostly)': False, 'contiene(several)': False, 'contiene(murder)': False, 'contiene(brief)': True, 'contiene(strip)': False, 'contiene(bar)': False, 'contiene(offensive)': False, 'contiene(many)': True, 'contiene(thrillers)': False, 'contiene(mood)': False, 'contiene(stake)': False, 'contiene(else)': False, 'contiene(capsule)': True, 'contiene(2176)': False, 'contiene(planet)': False, 'contiene(mars)': False, 'contiene(taking)': False, 'contiene(custody)': False, 'contiene(accused)': False, 'contiene(murderer)': False, 'contiene(face)': False, 'contiene(menace)': False, 'contiene(lot)': False, 'contiene(fighting)': False, 'contiene(john)': False, 'contiene(carpenter)': False, 'contiene(reprises)': False, 'contiene(ideas)': False, 'contiene(previous)': False, 'contiene(assault)': False, 'contiene(precinct)': False, 'contiene(13)': False, 'contiene(homage)': False, 'contiene(himself)': False, 'contiene(0)': False, 'contiene(+)': False, 'contiene(believes)': False, 'contiene(fight)': True, 'contiene(horrible)': False, 'contiene(writer)': False, 'contiene(supposedly)': False, 'contiene(expert)': False, 'contiene(mistake)': False, 'contiene(ghosts)': False, 'contiene(drawn)': False, 'contiene(humans)': False, 'contiene(surprisingly)': False, 'contiene(low)': False, 'contiene(powered)': False, 'contiene(alien)': False, 'contiene(addition)': False, 'contiene(anybody)': False, 'contiene(made)': False, 'contiene(grounds)': False, 'contiene(sue)': False, 'contiene(chock)': False, 'contiene(full)': False, 'contiene(pieces)': False, 'contiene(prince)': False, 'contiene(darkness)': False, 'contiene(surprising)': False, 'contiene(managed)': False, 'contiene(fit)': False, 'contiene(admittedly)': False, 'contiene(novel)': False, 'contiene(science)': False, 'contiene(fiction)': False, 'contiene(experience)': False, 'contiene(terraformed)': False, 'contiene(walk)': False, 'contiene(surface)': False, 'contiene(without)': False, 'contiene(breathing)': False, 'contiene(gear)': False, 'contiene(budget)': False, 'contiene(mentioned)': False, 'contiene(gravity)': False, 'contiene(increased)': False, 'contiene(earth)': False, 'contiene(easier)': False, 'contiene(society)': False, 'contiene(changed)': False, 'contiene(advanced)': False, 'contiene(culture)': False, 'contiene(women)': False, 'contiene(positions)': False, 'contiene(control)': False, 'contiene(view)': False, 'contiene(stagnated)': False, 'contiene(female)': False, 'contiene(beyond)': False, 'contiene(minor)': False, 'contiene(technological)': False, 'contiene(advances)': False, 'contiene(less)': False, 'contiene(175)': False, 'contiene(expect)': False, 'contiene(change)': False, 'contiene(ten)': False, 'contiene(basic)': False, 'contiene(common)': False, 'contiene(except)': False, 'contiene(yes)': False, 'contiene(replaced)': False, 'contiene(tacky)': False, 'contiene(rundown)': False, 'contiene(martian)': False, 'contiene(mining)': False, 'contiene(colony)': False, 'contiene(having)': False, 'contiene(criminal)': False, 'contiene(napolean)': False, 'contiene(wilson)': False, 'contiene(desolation)': False, 'contiene(williams)': False, 'contiene(facing)': False, 'contiene(hoodlums)': False, 'contiene(automatic)': False, 'contiene(weapons)': False, 'contiene(nature)': False, 'contiene(behave)': False, 'contiene(manner)': False, 'contiene(essentially)': False, 'contiene(human)': False, 'contiene(savages)': False, 'contiene(lapse)': False, 'contiene(imagination)': False, 'contiene(told)': False, 'contiene(flashback)': False, 'contiene(entirely)': False, 'contiene(filmed)': False, 'contiene(almost)': False, 'contiene(tones)': False, 'contiene(red)': False, 'contiene(yellow)': False, 'contiene(black)': False, 'contiene(powerful)': False, 'contiene(scene)': True, 'contiene(train)': True, 'contiene(rushing)': False, 'contiene(heavy)': False, 'contiene(sadly)': False, 'contiene(buildup)': False, 'contiene(terror)': False, 'contiene(creates)': False, 'contiene(looks)': True, 'contiene(fugitive)': False, 'contiene(wannabes)': False, 'contiene(rock)': False, 'contiene(band)': False, 'contiene(kiss)': False, 'contiene(building)': False, 'contiene(bunch)': False, 'contiene(sudden)': False, 'contiene(jump)': False, 'contiene(sucker)': False, 'contiene(thinking)': False, 'contiene(scary)': False, 'contiene(happening)': False, 'contiene(standard)': False, 'contiene(haunted)': False, 'contiene(shock)': False, 'contiene(great)': True, 'contiene(newer)': False, 'contiene(unimpressive)': False, 'contiene(digital)': False, 'contiene(decapitations)': False, 'contiene(fights)': False, 'contiene(short)': False, 'contiene(stretch)': False, 'contiene(release)': False, 'contiene(mission)': False, 'contiene(panned)': False, 'contiene(reviewers)': False, 'contiene(better)': False, 'contiene(rate)': False, 'contiene(scale)': False, 'contiene(following)': False, 'contiene(showed)': False, 'contiene(liked)': False, 'contiene(moderately)': False, 'contiene(classic)': False, 'contiene(comment)': False, 'contiene(twice)': False, 'contiene(ask)': False, 'contiene(yourself)': False, 'contiene(8mm)': False, 'contiene(eight)': True, 'contiene(millimeter)': False, 'contiene(wholesome)': False, 'contiene(surveillance)': False, 'contiene(sight)': False, 'contiene(values)': False, 'contiene(becoming)': False, 'contiene(enmeshed)': False, 'contiene(seedy)': False, 'contiene(sleazy)': False, 'contiene(underworld)': False, 'contiene(hardcore)': False, 'contiene(pornography)': False, 'contiene(bubbling)': False, 'contiene(beneath)': False, 'contiene(town)': False, 'contiene(americana)': False, 'contiene(sordid)': False, 'contiene(sick)': False, 'contiene(depraved)': False, 'contiene(necessarily)': False, 'contiene(stop)': True, 'contiene(order)': False, 'contiene(satisfy)': False, 'contiene(twisted)': False, 'contiene(desires)': False, 'contiene(position)': False, 'contiene(influence)': False, 'contiene(kinds)': False, 'contiene(demented)': False, 'contiene(talking)': False, 'contiene(snuff)': False, 'contiene(supposed)': False, 'contiene(documentaries)': False, 'contiene(victims)': False, 'contiene(brutalized)': False, 'contiene(killed)': False, 'contiene(camera)': False, 'contiene(joel)': False, 'contiene(schumacher)': False, 'contiene(credit)': False, 'contiene(batman)': False, 'contiene(robin)': False, 'contiene(kill)': False, 'contiene(forever)': False, 'contiene(client)': False, 'contiene(thirds)': False, 'contiene(unwind)': False, 'contiene(fairly)': True, 'contiene(conventional)': False, 'contiene(persons)': False, 'contiene(drama)': False, 'contiene(albeit)': False, 'contiene(particularly)': False, 'contiene(unsavory)': False, 'contiene(core)': False, 'contiene(threatening)': False, 'contiene(along)': True, 'contiene(explodes)': False, 'contiene(violence)': False, 'contiene(think)': False, 'contiene(finally)': False, 'contiene(tags)': False, 'contiene(ridiculous)': False, 'contiene(self)': False, 'contiene(righteous)': False, 'contiene(finale)': False, 'contiene(drags)': False, 'contiene(unpleasant)': False, 'contiene(trust)': False, 'contiene(waste)': False, 'contiene(hours)': False, 'contiene(nicolas)': False, 'contiene(snake)': False, 'contiene(eyes)': False, 'contiene(cage)': False, 'contiene(private)': False, 'contiene(investigator)': False, 'contiene(tom)': False, 'contiene(welles)': False, 'contiene(hired)': False, 'contiene(wealthy)': False, 'contiene(philadelphia)': False, 'contiene(widow)': False, 'contiene(determine)': False, 'contiene(whether)': False, 'contiene(reel)': False, 'contiene(safe)': False, 'contiene(documents)': False, 'contiene(girl)': False, 'contiene(assignment)': True, 'contiene(factly)': False, 'contiene(puzzle)': False, 'contiene(neatly)': False, 'contiene(specialized)': False, 'contiene(skills)': False, 'contiene(training)': False, 'contiene(easy)': False, 'contiene(cops)': False, 'contiene(toilet)': False, 'contiene(tanks)': False, 'contiene(clues)': False, 'contiene(deeper)': False, 'contiene(digs)': False, 'contiene(investigation)': False, 'contiene(obsessed)': False, 'contiene(george)': False, 'contiene(c)': False, 'contiene(scott)': False, 'contiene(paul)': False, 'contiene(schrader)': False, 'contiene(occasionally)': False, 'contiene(flickering)': False, 'contiene(whirs)': False, 'contiene(sprockets)': False, 'contiene(winding)': False, 'contiene(projector)': False, 'contiene(reminding)': False, 'contiene(task)': False, 'contiene(hints)': False, 'contiene(toll)': False, 'contiene(lovely)': False, 'contiene(catherine)': False, 'contiene(keener)': False, 'contiene(frustrated)': False, 'contiene(cleveland)': False, 'contiene(ugly)': False, 'contiene(split)': False, 'contiene(level)': False, 'contiene(harrisburg)': False, 'contiene(pa)': False, 'contiene(condemn)': False, 'contiene(condone)': False, 'contiene(subject)': False, 'contiene(exploits)': False, 'contiene(irony)': False, 'contiene(seven)': False, 'contiene(scribe)': False, 'contiene(andrew)': False, 'contiene(kevin)': True, 'contiene(walker)': False, 'contiene(vision)': False, 'contiene(lane)': False, 'contiene(limited)': False, 'contiene(hollywood)': False, 'contiene(product)': False, 'contiene(snippets)': False, 'contiene(covering)': False, 'contiene(later)': False, 'contiene(joaquin)': False, 'contiene(phoenix)': False, 'contiene(far)': False, 'contiene(adult)': False, 'contiene(bookstore)': False, 'contiene(flunky)': False, 'contiene(max)': False, 'contiene(california)': False, 'contiene(cover)': False, 'contiene(horrid)': False, 'contiene(screened)': False, 'contiene(familiar)': False, 'contiene(revelation)': False, 'contiene(sexual)': False, 'contiene(deviants)': False, 'contiene(indeed)': False, 'contiene(monsters)': False, 'contiene(everyday)': False, 'contiene(neither)': False, 'contiene(super)': False, 'contiene(nor)': False, 'contiene(shocking)': False, 'contiene(banality)': False, 'contiene(exactly)': False, 'contiene(felt)': False, 'contiene(weren)': False, 'contiene(nine)': False, 'contiene(laughs)': False, 'contiene(months)': False, 'contiene(terrible)': False, 'contiene(mr)': False, 'contiene(hugh)': False, 'contiene(grant)': False, 'contiene(huge)': False, 'contiene(dork)': False, 'contiene(oral)': False, 'contiene(sex)': False, 'contiene(prostitution)': False, 'contiene(referring)': False, 'contiene(bugs)': False, 'contiene(annoying)': False, 'contiene(adam)': False, 'contiene(sandler)': False, 'contiene(jim)': False, 'contiene(carrey)': False, 'contiene(eye)': False, 'contiene(flutters)': False, 'contiene(nervous)': False, 'contiene(smiles)': False, 'contiene(slapstick)': False, 'contiene(fistfight)': False, 'contiene(delivery)': False, 'contiene(room)': False, 'contiene(culminating)': False, 'contiene(joan)': False, 'contiene(cusack)': False, 'contiene(lap)': False, 'contiene(paid)': False, 'contiene($)': False, 'contiene(60)': False, 'contiene(included)': False, 'contiene(obscene)': False, 'contiene(double)': False, 'contiene(entendres)': False, 'contiene(obstetrician)': False, 'contiene(pregnant)': False, 'contiene(pussy)': False, 'contiene(size)': False, 'contiene(hairs)': False, 'contiene(coat)': False, 'contiene(nonetheless)': False, 'contiene(exchange)': False, 'contiene(cookie)': False, 'contiene(cutter)': False, 'contiene(originality)': False, 'contiene(humor)': False, 'contiene(successful)': False, 'contiene(child)': False, 'contiene(psychiatrist)': False, 'contiene(psychologist)': False, 'contiene(scriptwriters)': False, 'contiene(could)': False, 'contiene(inject)': False, 'contiene(unfunny)': False, 'contiene(kid)': False, 'contiene(dad)': False, 'contiene(asshole)': False, 'contiene(eyelashes)': False, 'contiene(offers)': False, 'contiene(smile)': False, 'contiene(responds)': False, 'contiene(english)': False, 'contiene(accent)': False, 'contiene(attitude)': False, 'contiene(possibly)': False, 'contiene(_huge_)': False, 'contiene(beside)': False, 'contiene(includes)': False, 'contiene(needlessly)': False, 'contiene(stupid)': False, 'contiene(jokes)': False, 'contiene(olds)': False, 'contiene(everyone)': False, 'contiene(shakes)': False, 'contiene(anyway)': False, 'contiene(finds)': False, 'contiene(usual)': False, 'contiene(reaction)': False, 'contiene(fluttered)': False, 'contiene(paves)': False, 'contiene(possible)': False, 'contiene(pregnancy)': False, 'contiene(birth)': False, 'contiene(gag)': False, 'contiene(book)': False, 'contiene(friend)': False, 'contiene(arnold)': True, 'contiene(provides)': False, 'contiene(cacophonous)': False, 'contiene(funny)': True, 'contiene(beats)': False, 'contiene(costumed)': False, 'contiene(arnie)': False, 'contiene(dinosaur)': False, 'contiene(draw)': False, 'contiene(parallels)': False, 'contiene(toy)': False, 'contiene(store)': False, 'contiene(jeff)': False, 'contiene(goldblum)': False, 'contiene(hid)': False, 'contiene(dreadful)': False, 'contiene(hideaway)': False, 'contiene(artist)': False, 'contiene(fear)': False, 'contiene(simultaneous)': False, 'contiene(longing)': False, 'contiene(commitment)': False, 'contiene(doctor)': False, 'contiene(recently)': False, 'contiene(switch)': False, 'contiene(veterinary)': False, 'contiene(medicine)': False, 'contiene(obstetrics)': False, 'contiene(joke)': False, 'contiene(old)': False, 'contiene(foreign)': False, 'contiene(guy)': True, 'contiene(mispronounces)': False, 'contiene(stereotype)': False, 'contiene(say)': False, 'contiene(yakov)': False, 'contiene(smirnov)': False, 'contiene(favorite)': False, 'contiene(vodka)': False, 'contiene(hence)': False, 'contiene(take)': False, 'contiene(volvo)': False, 'contiene(nasty)': False, 'contiene(unamusing)': False, 'contiene(heads)': False, 'contiene(simultaneously)': False, 'contiene(groan)': False, 'contiene(failure)': False, 'contiene(loud)': False, 'contiene(failed)': False, 'contiene(uninspired)': False, 'contiene(lunacy)': False, 'contiene(sunset)': False, 'contiene(boulevard)': False, 'contiene(arrest)': False, 'contiene(please)': False, 'contiene(caught)': False, 'contiene(pants)': False, 'contiene(bring)': False, 'contiene(theaters)': False, 'contiene(faces)': False, 'contiene(90)': False, 'contiene(forced)': False, 'contiene(unauthentic)': False, 'contiene(anyone)': False, 'contiene(q)': False, 'contiene(80)': False, 'contiene(sorry)': False, 'contiene(money)': False, 'contiene(unfulfilled)': False, 'contiene(desire)': False, 'contiene(spend)': False, 'contiene(bucks)': False, 'contiene(call)': False, 'contiene(road)': False, 'contiene(trip)': False, 'contiene(walking)': False, 'contiene(wounded)': False, 'contiene(stellan)': False, 'contiene(skarsg)': False, 'contiene(rd)': False, 'contiene(convincingly)': False, 'contiene(zombified)': False, 'contiene(drunken)': False, 'contiene(loser)': False, 'contiene(difficult)': True, 'contiene(smelly)': False, 'contiene(boozed)': False, 'contiene(reliable)': False, 'contiene(swedish)': False, 'contiene(adds)': False, 'contiene(depth)': False, 'contiene(significance)': False, 'contiene(plodding)': False, 'contiene(aberdeen)': False, 'contiene(sentimental)': False, 'contiene(painfully)': False, 'contiene(mundane)': False, 'contiene(european)': False, 'contiene(playwright)': False, 'contiene(august)': False, 'contiene(strindberg)': False, 'contiene(built)': False, 'contiene(career)': False, 'contiene(families)': False, 'contiene(relationships)': False, 'contiene(paralyzed)': False, 'contiene(secrets)': False, 'contiene(unable)': False, 'contiene(express)': False, 'contiene(longings)': False, 'contiene(accurate)': False, 'contiene(reflection)': False, 'contiene(strives)': False, 'contiene(focusing)': False, 'contiene(pairing)': False, 'contiene(alcoholic)': False, 'contiene(tomas)': False, 'contiene(alienated)': False, 'contiene(openly)': False, 'contiene(hostile)': False, 'contiene(yuppie)': False, 'contiene(kaisa)': False, 'contiene(lena)': False, 'contiene(headey)': False, 'contiene(gossip)': False, 'contiene(haven)': False, 'contiene(spoken)': False, 'contiene(wouldn)': False, 'contiene(norway)': False, 'contiene(scotland)': False, 'contiene(automobile)': False, 'contiene(charlotte)': False, 'contiene(rampling)': False, 'contiene(sand)': False, 'contiene(rotting)': False, 'contiene(hospital)': False, 'contiene(bed)': False, 'contiene(cancer)': False, 'contiene(soap)': False, 'contiene(opera)': False, 'contiene(twist)': False, 'contiene(days)': False, 'contiene(live)': False, 'contiene(blitzed)': False, 'contiene(step)': False, 'contiene(foot)': False, 'contiene(plane)': False, 'contiene(hits)': False, 'contiene(open)': False, 'contiene(loathing)': False, 'contiene(each)': True, 'contiene(periodic)': False, 'contiene(stops)': True, 'contiene(puke)': False, 'contiene(dashboard)': False, 'contiene(whenever)': False, 'contiene(muttering)': False, 'contiene(rotten)': False, 'contiene(turned)': False, 'contiene(sloshed)': False, 'contiene(viewpoint)': False, 'contiene(recognizes)': False, 'contiene(apple)': False, 'contiene(hasn)': False, 'contiene(fallen)': False, 'contiene(tree)': False, 'contiene(nosebleeds)': False, 'contiene(snorting)': False, 'contiene(coke)': False, 'contiene(sabotages)': False, 'contiene(personal)': False, 'contiene(indifference)': False, 'contiene(restrain)': False, 'contiene(vindictive)': False, 'contiene(temper)': False, 'contiene(ain)': False, 'contiene(pair)': False, 'contiene(true)': False, 'contiene(notes)': False, 'contiene(unspoken)': False, 'contiene(familial)': False, 'contiene(empathy)': False, 'contiene(note)': False, 'contiene(repetitively)': False, 'contiene(bitchy)': False, 'contiene(screenwriters)': False, 'contiene(kristin)': False, 'contiene(amundsen)': False, 'contiene(hans)': False, 'contiene(petter)': False, 'contiene(moland)': False, 'contiene(fabricate)': False, 'contiene(series)': True, 'contiene(contrivances)': False, 'contiene(propel)': False, 'contiene(forward)': False, 'contiene(roving)': False, 'contiene(hooligans)': False, 'contiene(drunks)': False, 'contiene(nosy)': False, 'contiene(flat)': False, 'contiene(tires)': False, 'contiene(figure)': False, 'contiene(schematic)': False, 'contiene(convenient)': False, 'contiene(narrative)': False, 'contiene(reach)': False, 'contiene(unveil)': False, 'contiene(dark)': False, 'contiene(past)': False, 'contiene(simplistic)': False, 'contiene(devices)': False, 'contiene(trivialize)': False, 'contiene(conflict)': False, 'contiene(mainstays)': False, 'contiene(wannabe)': False, 'contiene(exists)': False, 'contiene(purely)': False, 'contiene(sake)': False, 'contiene(weak)': False, 'contiene(unimaginative)': False, 'contiene(casting)': False, 'contiene(thwarts)': False, 'contiene(pivotal)': False, 'contiene(role)': False, 'contiene(were)': False, 'contiene(stronger)': False, 'contiene(actress)': False, 'contiene(perhaps)': False, 'contiene(coast)': True, 'contiene(performances)': False, 'contiene(moody)': False, 'contiene(haunting)': False, 'contiene(cinematography)': False, 'contiene(rendering)': False, 'contiene(pastoral)': False, 'contiene(ghost)': False, 'contiene(reference)': False, 'contiene(certain)': False, 'contiene(superior)': False, 'contiene(indie)': False, 'contiene(intentional)': False, 'contiene(busy)': False, 'contiene(using)': False, 'contiene(furrowed)': False, 'contiene(brow)': False, 'contiene(convey)': False, 'contiene(twitch)': False, 'contiene(insouciance)': False, 'contiene(paying)': False, 'contiene(attention)': False, 'contiene(maybe)': False, 'contiene(doing)': False, 'contiene(reveal)': False, 'contiene(worthwhile)': False, 'contiene(earlier)': False, 'contiene(released)': False, 'contiene(2001)': False, 'contiene(jonathan)': False, 'contiene(nossiter)': False, 'contiene(captivating)': False, 'contiene(wonders)': False, 'contiene(disturbed)': False, 'contiene(parental)': False, 'contiene(figures)': False, 'contiene(bound)': False, 'contiene(ceremonial)': False, 'contiene(wedlock)': False, 'contiene(differences)': False, 'contiene(presented)': False, 'contiene(significant)': False, 'contiene(luminous)': False, 'contiene(diva)': False, 'contiene(preening)': False, 'contiene(static)': False, 'contiene(solid)': False, 'contiene(performance)': False, 'contiene(pathetic)': False, 'contiene(drunk)': False, 'contiene(emote)': False, 'contiene(besides)': False, 'contiene(catatonic)': False, 'contiene(sorrow)': False, 'contiene(genuine)': False, 'contiene(ferocity)': False, 'contiene(sexually)': False, 'contiene(charged)': False, 'contiene(frisson)': False, 'contiene(during)': False, 'contiene(understated)': False, 'contiene(confrontations)': False, 'contiene(suggest)': False, 'contiene(gray)': False, 'contiene(zone)': False, 'contiene(complications)': False, 'contiene(accompany)': False, 'contiene(torn)': False, 'contiene(romance)': False, 'contiene(stifled)': False, 'contiene(curiosity)': False, 'contiene(thoroughly)': False, 'contiene(explores)': False, 'contiene(neurotic)': False, 'contiene(territory)': False, 'contiene(delving)': False, 'contiene(americanization)': False, 'contiene(greece)': False, 'contiene(mysticism)': False, 'contiene(illusion)': False, 'contiene(deflect)': False, 'contiene(pain)': False, 'contiene(overloaded)': False, 'contiene(willing)': False, 'contiene(come)': False, 'contiene(traditional)': False, 'contiene(ambitious)': False, 'contiene(sleepwalk)': False, 'contiene(rhythms)': False, 'contiene(timing)': False, 'contiene(driven)': False, 'contiene(stories)': False, 'contiene(complexities)': False, 'contiene(depressing)': False, 'contiene(answer)': False, 'contiene(lawrence)': False, 'contiene(kasdan)': False, 'contiene(trite)': False, 'contiene(useful)': False, 'contiene(grand)': False, 'contiene(canyon)': False, 'contiene(steve)': False, 'contiene(martin)': False, 'contiene(mogul)': False, 'contiene(pronounces)': False, 'contiene(riddles)': False, 'contiene(answered)': False, 'contiene(advice)': False, 'contiene(heart)': False, 'contiene(french)': False, 'contiene(sees)': True, 'contiene(parents)': False, 'contiene(tim)': False, 'contiene(roth)': False, 'contiene(oops)': False, 'contiene(vows)': False, 'contiene(taught)': False, 'contiene(musketeer)': False, 'contiene(dude)': False, 'contiene(used)': True, 'contiene(fourteen)': False, 'contiene(arrgh)': False, 'contiene(swish)': False, 'contiene(zzzzzzz)': False, 'contiene(original)': False, 'contiene(lacks)': False, 'contiene(energy)': False, 'contiene(next)': False, 'contiene(hmmmm)': False, 'contiene(justin)': False, 'contiene(chambers)': False, 'contiene(basically)': False, 'contiene(uncharismatic)': False, 'contiene(version)': False, 'contiene(chris)': False, 'contiene(o)': False, 'contiene(donnell)': False, 'contiene(range)': False, 'contiene(mena)': False, 'contiene(suvari)': False, 'contiene(thora)': False, 'contiene(birch)': False, 'contiene(dungeons)': False, 'contiene(dragons)': False, 'contiene(miscast)': False, 'contiene(deliveries)': False, 'contiene(piss)': False, 'contiene(poor)': False, 'contiene(ms)': False, 'contiene(fault)': False, 'contiene(definitely)': False, 'contiene(higher)': False, 'contiene(semi)': False, 'contiene(saving)': False, 'contiene(grace)': False, 'contiene(wise)': False, 'contiene(irrepressible)': False, 'contiene(once)': True, 'contiene(thousand)': False, 'contiene(god)': False, 'contiene(beg)': False, 'contiene(agent)': False, 'contiene(marketplace)': False, 'contiene(modern)': False, 'contiene(day)': True, 'contiene(roles)': False, 'contiene(romantic)': False, 'contiene(gunk)': False, 'contiene(alright)': False, 'contiene(yeah)': False, 'contiene(yikes)': False, 'contiene(notches)': False, 'contiene(fellas)': False, 'contiene(blares)': False, 'contiene(ear)': False, 'contiene(accentuate)': False, 'contiene(annoy)': False, 'contiene(important)': False, 'contiene(behind)': False, 'contiene(recognize)': False, 'contiene(epic)': False, 'contiene(fluffy)': False, 'contiene(rehashed)': False, 'contiene(cake)': False, 'contiene(created)': False, 'contiene(shrewd)': False, 'contiene(advantage)': False, 'contiene(kung)': True, 'contiene(fu)': True, 'contiene(phenomenon)': False, 'contiene(test)': False, 'contiene(dudes)': False, 'contiene(keep)': False, 'contiene(reading)': False, 'contiene(editing)': False, 'contiene(shoddy)': False, 'contiene(banal)': False, 'contiene(stilted)': False, 'contiene(plentiful)': False, 'contiene(top)': True, 'contiene(horse)': False, 'contiene(carriage)': False, 'contiene(stand)': False, 'contiene(opponent)': False, 'contiene(scampering)': False, 'contiene(cut)': False, 'contiene(mouseketeer)': False, 'contiene(rope)': False, 'contiene(tower)': False, 'contiene(jumping)': False, 'contiene(chords)': False, 'contiene(hanging)': False, 'contiene(says)': False, 'contiene(14)': False, 'contiene(shirt)': False, 'contiene(strayed)': False, 'contiene(championing)': False, 'contiene(fun)': True, 'contiene(stretches)': False, 'contiene(atrocious)': False, 'contiene(lake)': False, 'contiene(reminded)': False, 'contiene(school)': False, 'contiene(cringe)': False, 'contiene(musketeers)': False, 'contiene(fat)': False, 'contiene(raison)': False, 'contiene(etre)': False, 'contiene(numbers)': False, 'contiene(hoping)': False, 'contiene(packed)': False, 'contiene(stuntwork)': False, 'contiene(promoted)': False, 'contiene(trailer)': False, 'contiene(major)': False, 'contiene(swashbuckling)': False, 'contiene(beginning)': False, 'contiene(finishes)': False, 'contiene(juggling)': False, 'contiene(ladders)': False, 'contiene(ladder)': True, 'contiene(definite)': False, 'contiene(keeper)': False, 'contiene(regurgitated)': False, 'contiene(crap)': False, 'contiene(tell)': False, 'contiene(deneuve)': False, 'contiene(placed)': False, 'contiene(hullo)': False, 'contiene(barely)': False, 'contiene(ugh)': False, 'contiene(small)': False, 'contiene(annoyed)': False, 'contiene(trash)': False, 'contiene(gang)': False, 'contiene(vow)': False, 'contiene(stay)': False, 'contiene(thank)': False, 'contiene(outlaws)': False, 'contiene(5)': False, 'contiene(crouching)': False, 'contiene(tiger)': False, 'contiene(hidden)': False, 'contiene(matrix)': False, 'contiene(replacement)': False, 'contiene(killers)': False, 'contiene(6)': False, 'contiene(romeo)': False, 'contiene(die)': False, 'contiene(shanghai)': False, 'contiene(noon)': False, 'contiene(remembered)': False, 'contiene(dr)': False, 'contiene(hannibal)': False, 'contiene(lecter)': False, 'contiene(michael)': False, 'contiene(mann)': False, 'contiene(forensics)': False, 'contiene(thriller)': False, 'contiene(manhunter)': False, 'contiene(scottish)': False, 'contiene(brian)': False, 'contiene(cox)': False}\n"
          ]
        }
      ]
    },
    {
      "cell_type": "markdown",
      "source": [
        "El resultado del entrenamiento arroja que el clasificador tiene una exactitud del 84% y de las características más relevantes se puede notar que aquellas críticas que contienen la palabra “unimaginative” se asociaron 8.4 veces más a una crítica negativa que a una positiva en el conjunto de entrenamiento, tal como se muestra a continuación."
      ],
      "metadata": {
        "id": "XJHxvU5kRoEx"
      }
    },
    {
      "cell_type": "code",
      "source": [
        "featuresets = [(caract_revision(d),c) for (d,c) in documentos]\n",
        "train_set, test_set = featuresets[100:],featuresets[:100]\n",
        "classifier = nltk.NaiveBayesClassifier.train(train_set)"
      ],
      "metadata": {
        "id": "cjT5416qEHJf"
      },
      "execution_count": null,
      "outputs": []
    },
    {
      "cell_type": "code",
      "source": [
        "print(nltk.classify.accuracy(classifier, test_set))"
      ],
      "metadata": {
        "colab": {
          "base_uri": "https://localhost:8080/"
        },
        "id": "U-RrQ-SBEoWj",
        "outputId": "188f7dd6-2fae-4491-b45d-908470b8c888"
      },
      "execution_count": null,
      "outputs": [
        {
          "output_type": "stream",
          "name": "stdout",
          "text": [
            "0.8\n"
          ]
        }
      ]
    },
    {
      "cell_type": "code",
      "source": [
        "classifier.show_most_informative_features(5)"
      ],
      "metadata": {
        "colab": {
          "base_uri": "https://localhost:8080/"
        },
        "id": "r6QnP2xdEveQ",
        "outputId": "e4056317-da1d-460a-b91f-8b688d8e54b6"
      },
      "execution_count": null,
      "outputs": [
        {
          "output_type": "stream",
          "name": "stdout",
          "text": [
            "Most Informative Features\n",
            " contiene(unimaginative) = True              neg : pos    =      8.3 : 1.0\n",
            "    contiene(schumacher) = True              neg : pos    =      7.4 : 1.0\n",
            "          contiene(mena) = True              neg : pos    =      7.0 : 1.0\n",
            "        contiene(shoddy) = True              neg : pos    =      7.0 : 1.0\n",
            "        contiene(suvari) = True              neg : pos    =      7.0 : 1.0\n"
          ]
        }
      ]
    },
    {
      "cell_type": "markdown",
      "source": [
        "Asegúrate de:\n",
        "\n",
        "Realizar ejercicios prácticos que incluyan el proceso de clasificación de textos.\n",
        "\n",
        "Comprender la diferencia entre conjunto de entrenamiento y de pruebas.\n",
        "\n",
        "Diferenciar los pasos del proceso de clasificación.\n"
      ],
      "metadata": {
        "id": "rc5ZVmkDRuqR"
      }
    },
    {
      "cell_type": "markdown",
      "source": [
        "# Lecturas\n",
        "\n",
        "Collins, M. (s.f.). The Naive Bayes Model, Maximum-Likelihood Estimation, and the EM Algorithm. Recuperado de https://www.cs.cornell.edu/courses/cs5740/2016sp/resources/collins_em.pdf\n",
        "\n",
        "Eisenstein, J. (2018). Natural Language Processing. Recuperado de https://github.com/jacobeisenstein/gt-nlp-class/blob/master/notes/eisenstein-nlp-notes.pdf\n",
        "\n",
        "Scikit-learn.org. (2020). User Guide. Recuperado de https://scikit-learn.org/stable/user_guide.html\n",
        "\n",
        "Yoon, S., Byun, S., y Jung, K. (2018). Multimodal Speech Emotion Recognition Using Audio and Text. Recuperado de https://arxiv.org/abs/1810.04635\n",
        "\n",
        "# Recursos adicionales\n",
        "\n",
        "edureka! (2020, 30 de julio). What is Text Classification in NLP | NLP Tutorial for Beginners | Edureka | NLP Live – 4 [Archivo de video]. Recuperado de https://www.youtube.com/watch?v=N3Ep7ndcLNE\n",
        "\n",
        "Simplilearn. (2020, 5 de octubre). Text Classification Using Naive Bayes | Naive Bayes Algorithm In Machine Learning | Simplilearn [Archivo de video]. Recuperado de https://www.youtube.com/watch?v=60pqgfT5tZM"
      ],
      "metadata": {
        "id": "6dv75vfrSAo2"
      }
    }
  ]
}