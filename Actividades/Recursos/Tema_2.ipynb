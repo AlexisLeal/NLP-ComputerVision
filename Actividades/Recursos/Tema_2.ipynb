{
  "nbformat": 4,
  "nbformat_minor": 0,
  "metadata": {
    "colab": {
      "provenance": []
    },
    "kernelspec": {
      "name": "python3",
      "display_name": "Python 3"
    },
    "language_info": {
      "name": "python"
    }
  },
  "cells": [
    {
      "cell_type": "markdown",
      "source": [
        "Nombre: Jessica Méndez\n",
        "\n",
        "Materia: PLN y Visión Computacional\n",
        "\n",
        "29 de Enero de 2023\n",
        "\n",
        "\n",
        "---\n",
        "\n",
        "\n",
        "\n",
        "---\n",
        "\n"
      ],
      "metadata": {
        "id": "gTFC5Jz-gbuD"
      }
    },
    {
      "cell_type": "markdown",
      "source": [
        "**Tecmilenio y la creadora del presente notebook, no guarda relación alguna con las marcas mencionadas como ejemplo. Las marcas son propiedad de sus titulares conforme a la legislación aplicable, se utilizan con fines académicos y didácticos, por lo que no existen fines de lucro, relación publicitaria o de patrocinio.\n",
        "\n",
        "---\n",
        "\n"
      ],
      "metadata": {
        "id": "p-Ekx4PrpMt4"
      }
    },
    {
      "cell_type": "markdown",
      "source": [
        "# Instalación de Paquetes"
      ],
      "metadata": {
        "id": "dg3RrKt8cRR_"
      }
    },
    {
      "cell_type": "markdown",
      "source": [
        "Una vez se instale la librería NLTK, es posible acceder fácilmente a recursos léxicos y comenzar con el procesamiento de textos. NLTK incluye una pequeña selección de textos del Proyecto Gutenberg, que contiene unos 60,000 libros electrónicos gratuitos."
      ],
      "metadata": {
        "id": "HGF9vAAbc0Op"
      }
    },
    {
      "cell_type": "code",
      "execution_count": null,
      "metadata": {
        "colab": {
          "base_uri": "https://localhost:8080/"
        },
        "id": "dAG88P1nbfjI",
        "outputId": "a3817b65-ccb9-46b1-95a1-cab2401372c0"
      },
      "outputs": [
        {
          "output_type": "stream",
          "name": "stdout",
          "text": [
            "Looking in indexes: https://pypi.org/simple, https://us-python.pkg.dev/colab-wheels/public/simple/\n",
            "Requirement already satisfied: NLTK in /usr/local/lib/python3.8/dist-packages (3.7)\n",
            "Requirement already satisfied: tqdm in /usr/local/lib/python3.8/dist-packages (from NLTK) (4.64.1)\n",
            "Requirement already satisfied: regex>=2021.8.3 in /usr/local/lib/python3.8/dist-packages (from NLTK) (2022.6.2)\n",
            "Requirement already satisfied: joblib in /usr/local/lib/python3.8/dist-packages (from NLTK) (1.2.0)\n",
            "Requirement already satisfied: click in /usr/local/lib/python3.8/dist-packages (from NLTK) (7.1.2)\n"
          ]
        }
      ],
      "source": [
        "pip install NLTK"
      ]
    },
    {
      "cell_type": "markdown",
      "source": [
        "# Librerías que usaremos"
      ],
      "metadata": {
        "id": "LaRlTHvEcWSZ"
      }
    },
    {
      "cell_type": "markdown",
      "source": [
        "Para acceder a este corpus, se debe cargar la librería NLTK previamente instalada y descargar el corpus del Proyecto Gutenberg. Adicional a ello, es posible enlistar los archivos incluidos en el corpus."
      ],
      "metadata": {
        "id": "xcn41r_nc3DT"
      }
    },
    {
      "cell_type": "code",
      "source": [
        "import nltk\n",
        "from nltk.corpus import gutenberg\n",
        "from nltk.corpus import stopwords\n"
      ],
      "metadata": {
        "id": "6-l7QaaWcWQy"
      },
      "execution_count": null,
      "outputs": []
    },
    {
      "cell_type": "code",
      "source": [
        "nltk.download('gutenberg')"
      ],
      "metadata": {
        "colab": {
          "base_uri": "https://localhost:8080/"
        },
        "id": "-HjYXP1ViHjv",
        "outputId": "392a4f04-9959-4e56-b8d9-6d287b60d145"
      },
      "execution_count": null,
      "outputs": [
        {
          "output_type": "stream",
          "name": "stderr",
          "text": [
            "[nltk_data] Downloading package gutenberg to /root/nltk_data...\n",
            "[nltk_data]   Package gutenberg is already up-to-date!\n"
          ]
        },
        {
          "output_type": "execute_result",
          "data": {
            "text/plain": [
              "True"
            ]
          },
          "metadata": {},
          "execution_count": 3
        }
      ]
    },
    {
      "cell_type": "code",
      "source": [
        "nltk.corpus.gutenberg.fileids()"
      ],
      "metadata": {
        "colab": {
          "base_uri": "https://localhost:8080/"
        },
        "id": "_QCbrgb2c6CQ",
        "outputId": "19bfde08-af63-4abb-b15f-67706c75722f"
      },
      "execution_count": null,
      "outputs": [
        {
          "output_type": "execute_result",
          "data": {
            "text/plain": [
              "['austen-emma.txt',\n",
              " 'austen-persuasion.txt',\n",
              " 'austen-sense.txt',\n",
              " 'bible-kjv.txt',\n",
              " 'blake-poems.txt',\n",
              " 'bryant-stories.txt',\n",
              " 'burgess-busterbrown.txt',\n",
              " 'carroll-alice.txt',\n",
              " 'chesterton-ball.txt',\n",
              " 'chesterton-brown.txt',\n",
              " 'chesterton-thursday.txt',\n",
              " 'edgeworth-parents.txt',\n",
              " 'melville-moby_dick.txt',\n",
              " 'milton-paradise.txt',\n",
              " 'shakespeare-caesar.txt',\n",
              " 'shakespeare-hamlet.txt',\n",
              " 'shakespeare-macbeth.txt',\n",
              " 'whitman-leaves.txt']"
            ]
          },
          "metadata": {},
          "execution_count": 4
        }
      ]
    },
    {
      "cell_type": "markdown",
      "source": [
        "Al utilizar la función words() del objeto gutenberg en el paquete corpus del NLTK, se podrá tener acceso al recurso que se desee, por ejemplo “La tragedia de Hamlet, príncipe de Dinamarca” de William Shakespeare y así, obtener información estadística sobre el texto."
      ],
      "metadata": {
        "id": "4_CvhNxOdOUc"
      }
    },
    {
      "cell_type": "code",
      "source": [
        "hamlet = nltk.corpus.gutenberg.words('shakespeare-hamlet.txt')"
      ],
      "metadata": {
        "id": "gIzepO07dLVE"
      },
      "execution_count": null,
      "outputs": []
    },
    {
      "cell_type": "markdown",
      "source": [
        "Se puede observar la cantidad de caracteres, palabras y oraciones del texto, así como la longitud promedio de una palabra, de una oración y la cantidad de veces que cada elemento del vocabulario aparece en el texto en promedio, es decir, la diversidad léxica del texto. Es importante notar que con estos estadísticos se obtiene información sobre características del idioma (longitud de la palabra) o características particulares del autor (longitud de oración promedio y diversidad léxica)."
      ],
      "metadata": {
        "id": "UIfQWxUXdZzD"
      }
    },
    {
      "cell_type": "code",
      "source": [
        "nltk.download('punkt')"
      ],
      "metadata": {
        "colab": {
          "base_uri": "https://localhost:8080/"
        },
        "id": "9cRz9FgxdVQT",
        "outputId": "9e6fb7d2-fe77-4e63-924d-263be1af001a"
      },
      "execution_count": null,
      "outputs": [
        {
          "output_type": "stream",
          "name": "stderr",
          "text": [
            "[nltk_data] Downloading package punkt to /root/nltk_data...\n",
            "[nltk_data]   Package punkt is already up-to-date!\n"
          ]
        },
        {
          "output_type": "execute_result",
          "data": {
            "text/plain": [
              "True"
            ]
          },
          "metadata": {},
          "execution_count": 6
        }
      ]
    },
    {
      "cell_type": "markdown",
      "source": [
        "El uso de la función **raw()** permite acceder al texto tal cual, sin algún tipo de procesamiento lingüístico. Por ejemplo, **len(gutenberg.raw('shakespeare-hamlet.txt'))** devuelve la cantidad de letras en el texto, incluyendo los espacios en blanco entre las palabras. \n",
        "\n",
        "La función **sents()** separa al texto en oraciones que se construyen a partir de una lista de palabras.\n",
        "\n"
      ],
      "metadata": {
        "id": "JnyZXPGLeDlX"
      }
    },
    {
      "cell_type": "code",
      "source": [
        "\n",
        "num_caracteres = len(gutenberg.raw('shakespeare-hamlet.txt'))\n",
        "num_palabras = len(gutenberg.words('shakespeare-hamlet.txt'))\n",
        "num_oraciones = len(gutenberg.sents('shakespeare-hamlet.txt'))\n",
        "num_vocab = len(set([w.lower() for w in gutenberg.words('shakespeare-hamlet.txt')]))\n",
        "\n",
        "print('Cantidad de caracteres: ',num_caracteres )\n",
        "print('Cantidad de palabras: ',num_palabras )\n",
        "print('Cantidad de oraciones: ',num_oraciones )\n",
        "print('Longitud promedio de una palabra: ',int(num_caracteres/num_palabras) )\n",
        "print('Longitud promedio de una oracion: ',int(num_palabras/num_oraciones) )\n",
        "print('Diversidad léxica: ',int(num_palabras/num_vocab) ) "
      ],
      "metadata": {
        "colab": {
          "base_uri": "https://localhost:8080/"
        },
        "id": "O5dayswrdb8d",
        "outputId": "7133ea02-8390-4687-ff82-6a62ce385fc7"
      },
      "execution_count": null,
      "outputs": [
        {
          "output_type": "stream",
          "name": "stdout",
          "text": [
            "Cantidad de caracteres:  162881\n",
            "Cantidad de palabras:  37360\n",
            "Cantidad de oraciones:  3106\n",
            "Longitud promedio de una palabra:  4\n",
            "Longitud promedio de una oracion:  12\n",
            "Diversidad léxica:  7\n"
          ]
        }
      ]
    },
    {
      "cell_type": "markdown",
      "source": [
        "El Corpus Brown fue el primer corpus electrónico de un millón de palabras en inglés, creado en 1961 en la Universidad de Brown. Contiene textos de 500 fuentes y las fuentes se han categorizado por género, como noticias, editoriales, etc."
      ],
      "metadata": {
        "id": "htDp3pzhew0a"
      }
    },
    {
      "cell_type": "code",
      "source": [
        "oraciones_macbeth = gutenberg.sents('shakespeare-hamlet.txt')\n",
        "oraciones_macbeth[1037]"
      ],
      "metadata": {
        "colab": {
          "base_uri": "https://localhost:8080/"
        },
        "id": "mX4mY3ivemzU",
        "outputId": "a3911dff-cf99-4196-bfe1-df1f186f2cfa"
      },
      "execution_count": null,
      "outputs": [
        {
          "output_type": "execute_result",
          "data": {
            "text/plain": [
              "['the',\n",
              " 'beauty',\n",
              " 'of',\n",
              " 'the',\n",
              " 'world',\n",
              " ',',\n",
              " 'the',\n",
              " 'Parragon',\n",
              " 'of',\n",
              " 'Animals',\n",
              " ';',\n",
              " 'and',\n",
              " 'yet',\n",
              " 'to',\n",
              " 'me',\n",
              " ',',\n",
              " 'what',\n",
              " 'is',\n",
              " 'this',\n",
              " 'Quintessence',\n",
              " 'of',\n",
              " 'Dust',\n",
              " '?']"
            ]
          },
          "metadata": {},
          "execution_count": 8
        }
      ]
    },
    {
      "cell_type": "markdown",
      "source": [
        "Es posible acceder al corpus ya sea como una lista de palabras o una lista de oraciones (donde cada oración es, en sí misma, una lista de palabras). Opcionalmente, se puede especificar categorías o archivos particulares para leer.\n",
        "\n",
        "\n"
      ],
      "metadata": {
        "id": "egVWmoFlfKoQ"
      }
    },
    {
      "cell_type": "code",
      "source": [
        "nltk.download('brown')\n",
        "from nltk.corpus import brown"
      ],
      "metadata": {
        "id": "I6iSMdo9j-E-",
        "colab": {
          "base_uri": "https://localhost:8080/"
        },
        "outputId": "6483b059-700d-42f2-88ac-e0c59e38a2b7"
      },
      "execution_count": null,
      "outputs": [
        {
          "output_type": "stream",
          "name": "stderr",
          "text": [
            "[nltk_data] Downloading package brown to /root/nltk_data...\n",
            "[nltk_data]   Unzipping corpora/brown.zip.\n"
          ]
        }
      ]
    },
    {
      "cell_type": "code",
      "source": [
        "brown.categories()"
      ],
      "metadata": {
        "colab": {
          "base_uri": "https://localhost:8080/"
        },
        "id": "VARYcK-4fMpm",
        "outputId": "cfe9d2f0-3d9d-4113-f128-b91752a95577"
      },
      "execution_count": null,
      "outputs": [
        {
          "output_type": "execute_result",
          "data": {
            "text/plain": [
              "['adventure',\n",
              " 'belles_lettres',\n",
              " 'editorial',\n",
              " 'fiction',\n",
              " 'government',\n",
              " 'hobbies',\n",
              " 'humor',\n",
              " 'learned',\n",
              " 'lore',\n",
              " 'mystery',\n",
              " 'news',\n",
              " 'religion',\n",
              " 'reviews',\n",
              " 'romance',\n",
              " 'science_fiction']"
            ]
          },
          "metadata": {},
          "execution_count": 10
        }
      ]
    },
    {
      "cell_type": "markdown",
      "source": [
        "Esta pantalla se obtuvo directamente del software que se está explicando en la computadora, para fines educativos.\n",
        "\n",
        "El Corpus Brown es un recurso útil para estudiar las diferencias sistemáticas entre géneros, conocida como estilística o estudio del estilo. A continuación puedes notar la diferencia en el uso de los verbos modales en textos de noticias y de romance."
      ],
      "metadata": {
        "id": "rU_4QMfyfTuA"
      }
    },
    {
      "cell_type": "code",
      "source": [
        "noticias = brown.words(categories='news')\n",
        "dist_frec = nltk.FreqDist([w.lower() for w in noticias])\n",
        "verbo_modal = ['can','could','may','migth','must','will']\n",
        "for m in verbo_modal:\n",
        "  print(m + \":\", dist_frec[m],)"
      ],
      "metadata": {
        "colab": {
          "base_uri": "https://localhost:8080/"
        },
        "id": "LHfbKs8HfVPK",
        "outputId": "b4851e89-5976-4e33-8042-93ed3b6c7d08"
      },
      "execution_count": null,
      "outputs": [
        {
          "output_type": "stream",
          "name": "stdout",
          "text": [
            "can: 94\n",
            "could: 87\n",
            "may: 93\n",
            "migth: 0\n",
            "must: 53\n",
            "will: 389\n"
          ]
        }
      ]
    },
    {
      "cell_type": "code",
      "source": [
        "noticias = brown.words(categories='romance')\n",
        "dist_frec = nltk.FreqDist([w.lower() for w in noticias])\n",
        "verbo_modal = ['can','could','may','migth','must','will']\n",
        "for m in verbo_modal:\n",
        "  print(m + \":\", dist_frec[m],)"
      ],
      "metadata": {
        "colab": {
          "base_uri": "https://localhost:8080/"
        },
        "id": "61AmPY14gZld",
        "outputId": "631dfeeb-0ec5-4081-c1a6-18aeaaa2cad1"
      },
      "execution_count": null,
      "outputs": [
        {
          "output_type": "stream",
          "name": "stdout",
          "text": [
            "can: 79\n",
            "could: 195\n",
            "may: 11\n",
            "migth: 0\n",
            "must: 46\n",
            "will: 49\n"
          ]
        }
      ]
    },
    {
      "cell_type": "markdown",
      "source": [
        "Los verbos modales son verbos auxiliares que expresan una opinión sobre si algo es posible o probable, también son utilizados para pedir permiso o hacer algún tipo de petición ohablar de habildiad, orden, obligación o consejo. \n",
        "\n",
        "En los resultados anteriores se observa que el verbo modal más utilizado en textos de noticias es will y en textos de romance es colud y este tipo de información puede ser utilizada para establecer distinciones entre géneros en un texto escrito."
      ],
      "metadata": {
        "id": "JXFLxkJqgsUV"
      }
    },
    {
      "cell_type": "markdown",
      "source": [
        "# Procesamiento de texto puro"
      ],
      "metadata": {
        "id": "crBcT1KmhLGv"
      }
    },
    {
      "cell_type": "markdown",
      "source": [
        "En está sección se identificará que hace que un texto sea distinto, utilizando métodos automáticos para encontrar palbaras y espresiones características de un texto.\n",
        "\n",
        "Una forma de identificar cuáles son las palabras que proporcionan más información sobre un texto es contando las veces que la palabra se utiliza dentro dle texto. \n",
        "\n",
        "La distribución de frecuencias, indica la periodicidad de cada elemento de un vocabulario en un texto. El término distribución indica como se reparte el número total de palabras en el texto.\n",
        "\n",
        "A continuación se pueden observar las 20 palabras más frecuentes en la novela \"Emma\" de Jane Austen y también un fragmento de aquellas palabras que solo aparecen una sola vez, conocidas como hapax o hápax legómenon."
      ],
      "metadata": {
        "id": "FXhohg2yh4Rw"
      }
    },
    {
      "cell_type": "code",
      "source": [
        "palabras = gutenberg.words('austen-emma.txt')\n",
        "dist_frec = nltk.FreqDist([w.lower() for w in palabras])\n",
        "dist_frec.most_common(20)"
      ],
      "metadata": {
        "colab": {
          "base_uri": "https://localhost:8080/"
        },
        "id": "UYgus-s3hHWK",
        "outputId": "e30172ac-2dd4-4886-9974-af0f1d96e750"
      },
      "execution_count": null,
      "outputs": [
        {
          "output_type": "execute_result",
          "data": {
            "text/plain": [
              "[(',', 11454),\n",
              " ('.', 6928),\n",
              " ('to', 5239),\n",
              " ('the', 5201),\n",
              " ('and', 4896),\n",
              " ('of', 4291),\n",
              " ('i', 3178),\n",
              " ('a', 3129),\n",
              " ('it', 2528),\n",
              " ('her', 2469),\n",
              " ('was', 2398),\n",
              " ('she', 2340),\n",
              " (';', 2199),\n",
              " ('in', 2188),\n",
              " ('not', 2140),\n",
              " ('\"', 2004),\n",
              " ('you', 1980),\n",
              " ('be', 1975),\n",
              " ('that', 1806),\n",
              " ('he', 1806)]"
            ]
          },
          "metadata": {},
          "execution_count": 17
        }
      ]
    },
    {
      "cell_type": "code",
      "source": [
        "dist_frec.hapaxes()"
      ],
      "metadata": {
        "colab": {
          "base_uri": "https://localhost:8080/"
        },
        "id": "Fyzb4v5tipiP",
        "outputId": "54414aca-94fc-41ca-c06c-f91c48c805ab"
      },
      "execution_count": null,
      "outputs": [
        {
          "output_type": "execute_result",
          "data": {
            "text/plain": [
              "['austen',\n",
              " '1816',\n",
              " ']',\n",
              " 'vex',\n",
              " 'indistinct',\n",
              " 'caresses',\n",
              " 'nominal',\n",
              " 'mildness',\n",
              " 'impose',\n",
              " 'esteeming',\n",
              " 'disadvantages',\n",
              " 'misfortunes',\n",
              " 'mournful',\n",
              " 'debt',\n",
              " 'tenderer',\n",
              " 'valetudinarian',\n",
              " 'amounting',\n",
              " 'equals',\n",
              " 'lieu',\n",
              " 'awoke',\n",
              " 'chatted',\n",
              " 'housemaid',\n",
              " 'curtseys',\n",
              " 'needlework',\n",
              " 'lock',\n",
              " 'bangs',\n",
              " 'speck',\n",
              " 'rained',\n",
              " 'gainer',\n",
              " 'punctual',\n",
              " 'deathbed',\n",
              " 'broadway',\n",
              " 'drizzle',\n",
              " 'mitchell',\n",
              " ',\\'\"',\n",
              " 'supposes',\n",
              " 'delicately',\n",
              " 'encouragements',\n",
              " 'grievously',\n",
              " 'fitted',\n",
              " 'homely',\n",
              " 'embodied',\n",
              " 'military',\n",
              " 'dissuaded',\n",
              " 'pursue',\n",
              " 'luxuries',\n",
              " 'poorer',\n",
              " 'lingering',\n",
              " 'kindred',\n",
              " 'competence',\n",
              " 'portionless',\n",
              " 'tyrannic',\n",
              " 'choose',\n",
              " 'avowed',\n",
              " 'adoption',\n",
              " 'assume',\n",
              " 'capricious',\n",
              " 'boasts',\n",
              " 'dissentient',\n",
              " 'prized',\n",
              " 'ennui',\n",
              " 'companionableness',\n",
              " 'feeble',\n",
              " 'hindrance',\n",
              " 'ceasing',\n",
              " 'teased',\n",
              " 'apothecary',\n",
              " 'bias',\n",
              " 'newly',\n",
              " 'unfrequently',\n",
              " 'exchanging',\n",
              " 'quadrille',\n",
              " 'untoward',\n",
              " 'predicament',\n",
              " 'frighten',\n",
              " 'cleverness',\n",
              " 'universal',\n",
              " 'quicksighted',\n",
              " 'gossip',\n",
              " 'seminary',\n",
              " 'combine',\n",
              " 'morality',\n",
              " 'systems',\n",
              " 'enormous',\n",
              " 'screwed',\n",
              " 'boarding',\n",
              " 'accomplishments',\n",
              " 'prodigies',\n",
              " 'repute',\n",
              " 'chilblains',\n",
              " 'win',\n",
              " 'sixpences',\n",
              " 'remedy',\n",
              " 'prosings',\n",
              " 'requesting',\n",
              " 'mansion',\n",
              " 'scholar',\n",
              " 'plump',\n",
              " 'inconveniently',\n",
              " 'shy',\n",
              " 'artlessly',\n",
              " 'wasted',\n",
              " 'renting',\n",
              " 'creditably',\n",
              " 'unpolished',\n",
              " 'detach',\n",
              " 'betweens',\n",
              " 'impulse',\n",
              " 'honours',\n",
              " 'minced',\n",
              " 'scalloped',\n",
              " 'oysters',\n",
              " 'cloth',\n",
              " 'constrain',\n",
              " 'nicer',\n",
              " 'boiling',\n",
              " 'tarts',\n",
              " 'preserves',\n",
              " 'custard',\n",
              " '_half_',\n",
              " '_small_',\n",
              " 'tumbler',\n",
              " 'personage',\n",
              " 'affability',\n",
              " 'privileges',\n",
              " 'docile',\n",
              " 'appreciating',\n",
              " 'usefulness',\n",
              " 'talkativeness',\n",
              " '_two_',\n",
              " 'cows',\n",
              " 'alderneys',\n",
              " 'narrative',\n",
              " 'forever',\n",
              " 'inspiriting',\n",
              " 'games',\n",
              " 'shepherd',\n",
              " 'flock',\n",
              " 'wool',\n",
              " '_wanted_',\n",
              " 'prince',\n",
              " 'richardson',\n",
              " 'sup',\n",
              " 'agricultural',\n",
              " 'wakefield',\n",
              " 'yeomanry',\n",
              " 'creditable',\n",
              " '8th',\n",
              " 'birthday',\n",
              " '23rd',\n",
              " 'afloat',\n",
              " 'diligence',\n",
              " 'indoors',\n",
              " 'fluctuations',\n",
              " 'respectfully',\n",
              " 'unfeigned',\n",
              " 'survey',\n",
              " 'contrasted',\n",
              " 'noticed',\n",
              " 'uncouthness',\n",
              " 'unmodulated',\n",
              " '_gentleman_',\n",
              " 'loudness',\n",
              " 'coarseness',\n",
              " 'detestable',\n",
              " 'solemnly',\n",
              " 'gross',\n",
              " 'inattentive',\n",
              " 'engrosses',\n",
              " 'market',\n",
              " 'thriving',\n",
              " 'thrive',\n",
              " 'bluntness',\n",
              " 'commanding',\n",
              " 'copying',\n",
              " 'sufferable',\n",
              " 'ingratiating',\n",
              " 'efficacy',\n",
              " 'fastidious',\n",
              " 'riding',\n",
              " 'quarrels',\n",
              " 'fight',\n",
              " 'battle',\n",
              " 'neatly',\n",
              " 'alphabetically',\n",
              " 'industry',\n",
              " 'stimulate',\n",
              " 'affirm',\n",
              " 'omitting',\n",
              " 'cleverest',\n",
              " 'cope',\n",
              " 'inherits',\n",
              " 'wantonness',\n",
              " 'possibilities',\n",
              " 'foretelling',\n",
              " 'undesigned',\n",
              " 'hourly',\n",
              " 'doctrines',\n",
              " 'tend',\n",
              " 'polish',\n",
              " 'personally',\n",
              " 'errs',\n",
              " 'spleen',\n",
              " 'unkind',\n",
              " 'hinting',\n",
              " 'accountable',\n",
              " 'approves',\n",
              " 'province',\n",
              " 'outcry',\n",
              " 'gently',\n",
              " 'attractions',\n",
              " 'artlessness',\n",
              " 'superadded',\n",
              " 'skilful',\n",
              " 'seconded',\n",
              " 'landscapes',\n",
              " 'flowers',\n",
              " 'pieces',\n",
              " 'peculiarity',\n",
              " 'portfolio',\n",
              " 'portraits',\n",
              " 'beginnings',\n",
              " 'miniatures',\n",
              " 'crayon',\n",
              " 'reputation',\n",
              " 'ecstasies',\n",
              " 'performances',\n",
              " 'stealth',\n",
              " 'sheet',\n",
              " 'coarser',\n",
              " 'featured',\n",
              " 'fourth',\n",
              " 'cockade',\n",
              " 'nestled',\n",
              " 'unclosing',\n",
              " 'pet',\n",
              " 'vowed',\n",
              " 'apologised',\n",
              " 'forswear',\n",
              " '_present_',\n",
              " 'portrait',\n",
              " 'fidgeting',\n",
              " 'stationing',\n",
              " 'irksomeness',\n",
              " 'intermission',\n",
              " 'charmed',\n",
              " 'encourager',\n",
              " 'filling',\n",
              " 'memorial',\n",
              " 'associations',\n",
              " 'permission',\n",
              " 'courtesies',\n",
              " 'defended',\n",
              " 'criticism',\n",
              " 'eyelashes',\n",
              " 'fore',\n",
              " 'shortening',\n",
              " 'doer',\n",
              " 'commissions',\n",
              " 'stirring',\n",
              " 'fogs',\n",
              " 'executing',\n",
              " 'pack',\n",
              " 'incommoding',\n",
              " 'mostly',\n",
              " 'deposit',\n",
              " 'languish',\n",
              " 'services',\n",
              " 'songs',\n",
              " 'copy',\n",
              " 'grammatical',\n",
              " 'composition',\n",
              " 'diffuse',\n",
              " 'pen',\n",
              " 'vigorous',\n",
              " 'unequivocal',\n",
              " 'demurs',\n",
              " 'inflicting',\n",
              " 'unbidden',\n",
              " 'misunderstanding',\n",
              " '_purport_',\n",
              " 'wording',\n",
              " 'contemplating',\n",
              " '_doubts_',\n",
              " 'thoughtfully',\n",
              " 'mechanically',\n",
              " 'twisted',\n",
              " 'aghast',\n",
              " 'offending',\n",
              " 'formation',\n",
              " 'brace',\n",
              " 'sealed',\n",
              " 'tittle',\n",
              " 'tattle',\n",
              " 'softly',\n",
              " 'mounts',\n",
              " 'opens',\n",
              " 'introduces',\n",
              " 'diffuses',\n",
              " 'prepossession',\n",
              " 'slept',\n",
              " 'invalids',\n",
              " 'substitute',\n",
              " 'walker',\n",
              " 'tedious',\n",
              " 'greatcoat',\n",
              " 'giggle',\n",
              " 'gossips',\n",
              " 'wretches',\n",
              " 'confidant',\n",
              " 'adviser',\n",
              " 'desperately',\n",
              " 'red',\n",
              " 'incomprehensible',\n",
              " 'imagines',\n",
              " 'asperity',\n",
              " 'blinds',\n",
              " 'deserts',\n",
              " 'helpmate',\n",
              " 'aright',\n",
              " 'cry',\n",
              " 'statement',\n",
              " 'estimated',\n",
              " 'richest',\n",
              " 'sphere',\n",
              " 'legal',\n",
              " 'grudged',\n",
              " 'distaste',\n",
              " 'disinclined',\n",
              " 'haphazard',\n",
              " 'assertion',\n",
              " 'represent',\n",
              " 'slightingly',\n",
              " 'waiving',\n",
              " 'possesses',\n",
              " 'misapply',\n",
              " 'bewitches',\n",
              " 'pick',\n",
              " 'puff',\n",
              " 'produces',\n",
              " 'connecting',\n",
              " 'canvassing',\n",
              " '_letting_',\n",
              " 'abide',\n",
              " 'assistant',\n",
              " 'errant',\n",
              " 'habitual',\n",
              " 'projects',\n",
              " 'disclaimed',\n",
              " 'unreserved',\n",
              " 'apiece',\n",
              " 'doings',\n",
              " 'promoting',\n",
              " 'indistinctness',\n",
              " 'adversary',\n",
              " 'adequate',\n",
              " 'restoratives',\n",
              " 'resentfully',\n",
              " 'war',\n",
              " 'overcoming',\n",
              " 'originally',\n",
              " 'clayton',\n",
              " 'remonstrated',\n",
              " '_particular_',\n",
              " 'enviable',\n",
              " 'bearer',\n",
              " 'endeared',\n",
              " 'improving',\n",
              " 'chapters',\n",
              " 'labouring',\n",
              " 'enlarge',\n",
              " 'facts',\n",
              " 'literary',\n",
              " 'transcribing',\n",
              " 'quarto',\n",
              " 'ornamented',\n",
              " 'ciphers',\n",
              " 'trophies',\n",
              " 'literature',\n",
              " 'collections',\n",
              " 'requisition',\n",
              " 'contribute',\n",
              " 'enigmas',\n",
              " 'conundrums',\n",
              " 'ungallant',\n",
              " 'politest',\n",
              " 'puzzles',\n",
              " 'recited',\n",
              " 'doth',\n",
              " 'destin',\n",
              " 'antidote',\n",
              " 'soften',\n",
              " 'inspire',\n",
              " 'inspiration',\n",
              " 'tremor',\n",
              " 'loth',\n",
              " 'puzzling',\n",
              " 'epithets',\n",
              " 'justest',\n",
              " 'neptune',\n",
              " 'trident',\n",
              " 'mermaids',\n",
              " 'sharks',\n",
              " '----------,',\n",
              " '_court_',\n",
              " '_ship_',\n",
              " 'cream',\n",
              " 'follows',\n",
              " 'completest',\n",
              " 'eligibility',\n",
              " 'confirm',\n",
              " 'embraces',\n",
              " 'articulate',\n",
              " \"--------.'\",\n",
              " 'prologue',\n",
              " 'motto',\n",
              " 'strangest',\n",
              " 'smiths',\n",
              " 'courts',\n",
              " 'pre',\n",
              " 'respective',\n",
              " 'channel',\n",
              " 'edition',\n",
              " 'shakespeare',\n",
              " 'michaelmas',\n",
              " 'texts',\n",
              " 'preached',\n",
              " 'abbots',\n",
              " 'peeped',\n",
              " '_happily_',\n",
              " 'comparisons',\n",
              " 'rejection',\n",
              " 'beaming',\n",
              " 'couplet',\n",
              " '_appropriation_',\n",
              " 'capacities',\n",
              " 'publicity',\n",
              " 'affix',\n",
              " 'affixed',\n",
              " 'souls',\n",
              " 'nodded',\n",
              " 'stanza',\n",
              " 'kindled',\n",
              " 'flame',\n",
              " 'hood',\n",
              " 'wink',\n",
              " 'fatal',\n",
              " 'garrick',\n",
              " 'christened',\n",
              " 'catherine',\n",
              " 'knife',\n",
              " 'knives',\n",
              " 'grandpapas',\n",
              " 'papas',\n",
              " 'hardy',\n",
              " 'misbehave',\n",
              " 'tosses',\n",
              " 'ceiling',\n",
              " 'whichever',\n",
              " 'push',\n",
              " 'conditionally',\n",
              " 'rubber',\n",
              " 'smilingly',\n",
              " 'replacing',\n",
              " 'proudest',\n",
              " 'sublime',\n",
              " 'detached',\n",
              " 'angles',\n",
              " 'abode',\n",
              " 'dwellings',\n",
              " 'smartened',\n",
              " 'slackened',\n",
              " 'curtains',\n",
              " 'admires',\n",
              " 'intimately',\n",
              " 'pools',\n",
              " 'pollards',\n",
              " 'exteriors',\n",
              " 'inducements',\n",
              " 'image',\n",
              " 'prosing',\n",
              " 'undistinguishing',\n",
              " 'unfastidious',\n",
              " 'unmarried',\n",
              " 'celibacy',\n",
              " 'contract',\n",
              " 'sour',\n",
              " 'perforce',\n",
              " 'illiberal',\n",
              " 'contracted',\n",
              " 'sixpence',\n",
              " 'occupations',\n",
              " 'carpet',\n",
              " 'blinder',\n",
              " 'stomacher',\n",
              " 'knit',\n",
              " 'garters',\n",
              " 'tires',\n",
              " 'distresses',\n",
              " 'temptations',\n",
              " 'romantic',\n",
              " 'vanish',\n",
              " 'tottering',\n",
              " 'slippery',\n",
              " 'sufferers',\n",
              " 'empty',\n",
              " 'imitation',\n",
              " 'lacing',\n",
              " 'orders',\n",
              " 'pitcher',\n",
              " 'broth',\n",
              " 'ahead',\n",
              " 'theirs',\n",
              " 'experienced',\n",
              " 'stilton',\n",
              " 'cheese',\n",
              " 'wiltshire',\n",
              " 'cellery',\n",
              " 'beet',\n",
              " 'root',\n",
              " 'pales',\n",
              " 'broke',\n",
              " 'dexterously',\n",
              " 'throwing',\n",
              " 'ditch',\n",
              " 'inability',\n",
              " 'equipped',\n",
              " 'ribband',\n",
              " 'conducting',\n",
              " 'aspect',\n",
              " 'schemed',\n",
              " 'gallantries',\n",
              " 'allusions',\n",
              " 'believes',\n",
              " 'superintend',\n",
              " 'quicken',\n",
              " 'henceforth',\n",
              " 'prime',\n",
              " 'fortuitous',\n",
              " 'vacation',\n",
              " 'holidays',\n",
              " 'nervously',\n",
              " 'apprehensively',\n",
              " 'forestalling',\n",
              " 'maids',\n",
              " 'maternal',\n",
              " 'tenderly',\n",
              " 'ties',\n",
              " 'worshipping',\n",
              " 'defects',\n",
              " 'injuries',\n",
              " 'peculiarities',\n",
              " 'fidgetiness',\n",
              " 'retort',\n",
              " 'properest',\n",
              " 'unsullied',\n",
              " 'grievous',\n",
              " 'existed',\n",
              " 'flying',\n",
              " 'kite',\n",
              " 'scarlet',\n",
              " 'cobham',\n",
              " 'exceeding',\n",
              " 'dated',\n",
              " 'sept',\n",
              " 'finds',\n",
              " 'depending',\n",
              " 'affords',\n",
              " 'sufficiency',\n",
              " 'resulted',\n",
              " 'restoration',\n",
              " 'unceremoniousness',\n",
              " 'sauciness',\n",
              " 'whim',\n",
              " 'discordancies',\n",
              " 'lapse',\n",
              " 'understandings',\n",
              " '_nearer_',\n",
              " 'grievances',\n",
              " '_both_',\n",
              " 'burying',\n",
              " 'mixing',\n",
              " 'magistrate',\n",
              " 'anecdote',\n",
              " 'attachments',\n",
              " 'drain',\n",
              " 'fence',\n",
              " 'felling',\n",
              " 'acre',\n",
              " 'wheat',\n",
              " 'turnips',\n",
              " 'corn',\n",
              " 'interrupting',\n",
              " 'labours',\n",
              " 'basins',\n",
              " 'strenuously',\n",
              " 'unsafe',\n",
              " 'prohibited',\n",
              " 'forgets',\n",
              " 'attributed',\n",
              " 'prevalent',\n",
              " 'influenza',\n",
              " 'confound',\n",
              " 'vicinity',\n",
              " 'aches',\n",
              " 'palpitations',\n",
              " 'middling',\n",
              " 'doctoring',\n",
              " 'coddling',\n",
              " 'graham',\n",
              " 'bailiff',\n",
              " 'scotland',\n",
              " 'praising',\n",
              " 'discussed',\n",
              " 'comments',\n",
              " 'undoubting',\n",
              " 'wholesomeness',\n",
              " 'philippics',\n",
              " 'failures',\n",
              " 'cook',\n",
              " 'hired',\n",
              " 'fixing',\n",
              " 'ejaculation',\n",
              " 'rumination',\n",
              " 'suffice',\n",
              " 'relish',\n",
              " 'mud',\n",
              " 'pure',\n",
              " 'lodgings',\n",
              " 'coast',\n",
              " 'drugs',\n",
              " 'sarcastic',\n",
              " 'dryness',\n",
              " 'interposition',\n",
              " 'langham',\n",
              " 'maps',\n",
              " 'harsh',\n",
              " 'attributing',\n",
              " 'swiftly',\n",
              " 'mornings',\n",
              " 'amounted',\n",
              " 'especial',\n",
              " '24th',\n",
              " 'doom',\n",
              " 'feverish',\n",
              " 'unavoidable',\n",
              " 'absences',\n",
              " 'comfortless',\n",
              " 'rice',\n",
              " 'pudding',\n",
              " 'hastening',\n",
              " 'inflamed',\n",
              " 'throats',\n",
              " 'putrid',\n",
              " 'excess',\n",
              " 'feed',\n",
              " 'demand',\n",
              " 'conceptions',\n",
              " 'impartially',\n",
              " 'vision',\n",
              " 'rejoicing',\n",
              " 'extricated',\n",
              " 'employments',\n",
              " 'dignities',\n",
              " 'balance',\n",
              " 'works',\n",
              " 'slyness',\n",
              " 'regulate',\n",
              " 'mistakes',\n",
              " 'shrinking',\n",
              " 'sky',\n",
              " 'milder',\n",
              " 'disagreeables',\n",
              " 'discontent',\n",
              " 'thinner',\n",
              " 'clothing',\n",
              " 'dismal',\n",
              " 'shivering',\n",
              " 'colder',\n",
              " 'emulate',\n",
              " 'administered',\n",
              " 'quarrelsome',\n",
              " 'wrapped',\n",
              " 'dressing',\n",
              " 'lengthened',\n",
              " 'estimable',\n",
              " 'dismay',\n",
              " 'sheepskin',\n",
              " 'precautions',\n",
              " 'contrivances',\n",
              " 'fenced',\n",
              " 'unpermitted',\n",
              " 'snows',\n",
              " 'seasonable',\n",
              " 'invites',\n",
              " 'se',\n",
              " 'nnight',\n",
              " 'values',\n",
              " 'hospitable',\n",
              " 'select',\n",
              " 'slavery',\n",
              " 'disperse',\n",
              " 'uninterrupted',\n",
              " 'gratifications',\n",
              " 'oddities',\n",
              " 'enjoyable',\n",
              " 'elbow',\n",
              " 'obtruding',\n",
              " 'solicitously',\n",
              " 'internal',\n",
              " 'absurd',\n",
              " 'overpowering',\n",
              " 'syllables',\n",
              " 'reviving',\n",
              " '_were_',\n",
              " 'coupled',\n",
              " 'timed',\n",
              " 'released',\n",
              " 'saddle',\n",
              " 'assented',\n",
              " 'secrets',\n",
              " 'vagaries',\n",
              " 'caprices',\n",
              " 'devil',\n",
              " 'undergoing',\n",
              " 'stands',\n",
              " 'instinctive',\n",
              " 'braithwaites',\n",
              " '_woman_',\n",
              " 'teazed',\n",
              " '_man_',\n",
              " 'decides',\n",
              " 'exercises',\n",
              " '_when_',\n",
              " 'lateness',\n",
              " 'convivial',\n",
              " 'separations',\n",
              " 'augmentation',\n",
              " 'improprieties',\n",
              " '_promise_',\n",
              " 'implore',\n",
              " 'persuasions',\n",
              " 'ulcerated',\n",
              " 'drifting',\n",
              " 'unfeelingly',\n",
              " 'blown',\n",
              " 'bleak',\n",
              " 'midnight',\n",
              " 'contrivance',\n",
              " 'blocked',\n",
              " 'adventurous',\n",
              " 'accumulations',\n",
              " 'drifted',\n",
              " 'shod',\n",
              " 'discussing',\n",
              " 'whiten',\n",
              " 'coachmen',\n",
              " 'ring',\n",
              " 'rung',\n",
              " 'deposited',\n",
              " 'lawfully',\n",
              " 'demanded',\n",
              " 'availing',\n",
              " 'declaring',\n",
              " 'fearing',\n",
              " 'adoring',\n",
              " 'unequalled',\n",
              " 'unexampled',\n",
              " 'professing',\n",
              " 'vainly',\n",
              " 'drunkenness',\n",
              " 'deliver',\n",
              " 'boastful',\n",
              " 'drunk',\n",
              " 'confuse',\n",
              " 'inebriety',\n",
              " 'struggles',\n",
              " 'insinuating',\n",
              " 'uppermost',\n",
              " 'joyously',\n",
              " 'interpret',\n",
              " 'respectably',\n",
              " 'ends',\n",
              " 'misconception',\n",
              " 'supplication',\n",
              " 'zigzags',\n",
              " 'coldly',\n",
              " 'proudly',\n",
              " 'separating',\n",
              " 'curled',\n",
              " 'overthrow',\n",
              " 'doubled',\n",
              " 'unmarked',\n",
              " 'dubious',\n",
              " 'jumble',\n",
              " 'indiscreetly',\n",
              " 'insulted',\n",
              " 'pretended',\n",
              " 'sighs',\n",
              " 'devise',\n",
              " 'allied',\n",
              " 'aggrandise',\n",
              " 'heiress',\n",
              " 'gradations',\n",
              " 'ancient',\n",
              " 'landed',\n",
              " 'notch',\n",
              " 'alliances',\n",
              " 'raving',\n",
              " 'incongruity',\n",
              " 'honesty',\n",
              " 'complaisant',\n",
              " 'adventuring',\n",
              " 'relapse',\n",
              " 'dispiriting',\n",
              " 'cogitation',\n",
              " 'discontinuing',\n",
              " 'eclat',\n",
              " 'unmirthful',\n",
              " 'blundered',\n",
              " 'analogy',\n",
              " 'unclosed',\n",
              " 'retentive',\n",
              " 'further',\n",
              " 'atmosphere',\n",
              " 'unsettled',\n",
              " 'frost',\n",
              " 'thaw',\n",
              " 'unfriendly',\n",
              " 'freeze',\n",
              " 'prisoner',\n",
              " 'confine',\n",
              " 'amiableness',\n",
              " 'lamentations',\n",
              " 'feminine',\n",
              " 'retain',\n",
              " 'commands',\n",
              " 'solemnity',\n",
              " 'acknowledgments',\n",
              " 'lonely',\n",
              " 'promptitude',\n",
              " 'undergo',\n",
              " 'feeding',\n",
              " 'grossly',\n",
              " 'prophecies',\n",
              " 'blaming',\n",
              " 'testifying',\n",
              " 'ingenuousness',\n",
              " 'lowly',\n",
              " 'modesty',\n",
              " 'attaching',\n",
              " 'abundantly',\n",
              " 'console',\n",
              " 'resemble',\n",
              " 'repressing',\n",
              " 'unvarying',\n",
              " 'sympathise',\n",
              " 'extinction',\n",
              " 'routine',\n",
              " 'non',\n",
              " 'strive',\n",
              " '_unrequited_',\n",
              " 'effecting',\n",
              " 'cooling',\n",
              " 'repellent',\n",
              " 'occurs',\n",
              " 'proportionate',\n",
              " 'depression',\n",
              " 'gala',\n",
              " 'tempers',\n",
              " 'limb',\n",
              " 'idlest',\n",
              " 'haunts',\n",
              " 'proves',\n",
              " 'interior',\n",
              " 'manoeuvring',\n",
              " 'finessing',\n",
              " 'vigour',\n",
              " 'messages',\n",
              " 'shifts',\n",
              " 'expedients',\n",
              " 'meanly',\n",
              " 'hearts',\n",
              " 'consistently',\n",
              " 'bending',\n",
              " 'knack',\n",
              " 'transported',\n",
              " 'nought',\n",
              " 'yielding',\n",
              " 'flourishing',\n",
              " 'falsehoods',\n",
              " 'singular',\n",
              " 'french',\n",
              " 'aimable',\n",
              " 'plausible',\n",
              " '_sensation_',\n",
              " 'chattering',\n",
              " 'politician',\n",
              " 'dispensing',\n",
              " 'flatteries',\n",
              " 'contributing',\n",
              " 'beaufet',\n",
              " 'ceremonies',\n",
              " 'mistresses',\n",
              " 'misses',\n",
              " 'usher',\n",
              " 'hunting',\n",
              " 'hid',\n",
              " 'fills',\n",
              " 'crosses',\n",
              " 'checker',\n",
              " 'pore',\n",
              " 'deafness',\n",
              " 'deafer',\n",
              " 'kingdoms',\n",
              " 'countries',\n",
              " 'dublin',\n",
              " 'baly',\n",
              " 'craig',\n",
              " '_joint_',\n",
              " 'backward',\n",
              " 'whirling',\n",
              " 'sails',\n",
              " '!)--',\n",
              " 'prefers',\n",
              " '_wish_',\n",
              " 'wisely',\n",
              " '7th',\n",
              " 'hang',\n",
              " 'holyhead',\n",
              " 'flurry',\n",
              " 'regained',\n",
              " 'orphan',\n",
              " 'lieut',\n",
              " '_______',\n",
              " 'regiment',\n",
              " 'infantry',\n",
              " 'dying',\n",
              " 'fondling',\n",
              " 'engrafted',\n",
              " 'officer',\n",
              " 'camp',\n",
              " 'educating',\n",
              " 'appointments',\n",
              " 'subsistence',\n",
              " 'lighter',\n",
              " 'masters',\n",
              " 'nineteen',\n",
              " 'instruction',\n",
              " 'sobering',\n",
              " 'unfelt',\n",
              " 'unabated',\n",
              " 'defies',\n",
              " 'eligibly',\n",
              " 'novitiate',\n",
              " 'retire',\n",
              " 'retained',\n",
              " 'relinquished',\n",
              " 'compatible',\n",
              " 'weakened',\n",
              " 'varying',\n",
              " 'discharged',\n",
              " 'treble',\n",
              " 'recovery',\n",
              " 'accusation',\n",
              " 'refuted',\n",
              " 'fuss',\n",
              " 'magnified',\n",
              " 'depreciating',\n",
              " 'fat',\n",
              " 'likeliest',\n",
              " 'grey',\n",
              " 'cavil',\n",
              " 'reigning',\n",
              " 'twofold',\n",
              " 'rendering',\n",
              " 'determining',\n",
              " 'entitling',\n",
              " 'seduced',\n",
              " 'actions',\n",
              " 'mischievous',\n",
              " 'successless',\n",
              " 'sucking',\n",
              " 'sharer',\n",
              " 'purest',\n",
              " 'career',\n",
              " 'laborious',\n",
              " 'recantation',\n",
              " 'prejudices',\n",
              " 'relapsing',\n",
              " 'provocations',\n",
              " 'exhibitions',\n",
              " 'workbags',\n",
              " 'greatness',\n",
              " 'cloak',\n",
              " 'insight',\n",
              " 'suitableness',\n",
              " 'delineated',\n",
              " 'surmises',\n",
              " 'provocation',\n",
              " ...]"
            ]
          },
          "metadata": {},
          "execution_count": 21
        }
      ]
    },
    {
      "cell_type": "markdown",
      "source": [
        "Es posible que de las 20 palabras más frecuentes se pueda inferir algo sobre el texto, por ejemplo, las palabras her y she aparecen cerca de 2500 veces cada una y eso puede sugerir que en el texto se habla de una persona del sexo femenino.\n",
        "\n",
        "Si se grafica la distribución de frecuencias acumulada, se observa que tan solo esas 20 palabras más frecuentes son casi la mitad del libro (figura 8)."
      ],
      "metadata": {
        "id": "WN2TWi7VjPUu"
      }
    },
    {
      "cell_type": "code",
      "source": [
        "dist_frec.plot(20, cumulative=True)"
      ],
      "metadata": {
        "id": "7gt9H-rBi-ZT",
        "colab": {
          "base_uri": "https://localhost:8080/",
          "height": 307
        },
        "outputId": "f3bda6d4-ede4-43ff-e412-3d96ffb16e40"
      },
      "execution_count": null,
      "outputs": [
        {
          "output_type": "display_data",
          "data": {
            "text/plain": [
              "<Figure size 432x288 with 1 Axes>"
            ],
            "image/png": "[encoded data removed]"
          },
          "metadata": {
            "needs_background": "light"
          }
        },
        {
          "output_type": "execute_result",
          "data": {
            "text/plain": [
              "<matplotlib.axes._subplots.AxesSubplot at 0x7f69cf4575b0>"
            ]
          },
          "metadata": {},
          "execution_count": 22
        }
      ]
    },
    {
      "cell_type": "code",
      "source": [
        "int(len(palabras)/2)"
      ],
      "metadata": {
        "colab": {
          "base_uri": "https://localhost:8080/"
        },
        "id": "n6faUcrBnnyG",
        "outputId": "3510a6ac-334b-467c-ee2c-543d55928cca"
      },
      "execution_count": null,
      "outputs": [
        {
          "output_type": "execute_result",
          "data": {
            "text/plain": [
              "96213"
            ]
          },
          "metadata": {},
          "execution_count": 23
        }
      ]
    },
    {
      "cell_type": "markdown",
      "source": [
        "En un texto, una colocación es una secuencia de dos o más palabras que ocurren juntas con una frecuencia inusual, por ejemplo, agua dulce, día festivo, juego de mesa u ojo morado. En tal sentido, una colocación es la combinación frecuente de palabras en la que una palabra requiere la presencia de otra para expresar una idea específica.\n",
        "\n",
        "Una característica de las colocaciones es que son resistentes a la sustitución con palabras que tienen acepciones similares, por ejemplo, ojo negro es rarísimo que se utilice.\n",
        "\n",
        "El análisis de colocaciones evalúa las coocurrencias y la frecuencia de dos o más palabras en un contexto dado. Para identificar las colocaciones, se requiere extraer de un texto todos los pares de palabras, conocidos como bigramas. NLTK tiene la función **bigrams()** que construye una lista de pares de palabras consecutivas en un texto. "
      ],
      "metadata": {
        "id": "eTW6cVIwnyjy"
      }
    },
    {
      "cell_type": "code",
      "source": [
        "oracion=['Maestría','en','Inteligencia','Artificial','Procesamiento','de','Lenguaje','Natural','Universidad','Tecmilenio','.']"
      ],
      "metadata": {
        "id": "Dbnx6frtnsvL"
      },
      "execution_count": null,
      "outputs": []
    },
    {
      "cell_type": "code",
      "source": [
        "list(nltk.bigrams(oracion))"
      ],
      "metadata": {
        "colab": {
          "base_uri": "https://localhost:8080/"
        },
        "id": "I0elh-chobcr",
        "outputId": "908de0d2-500e-468c-dc02-70fd7df01143"
      },
      "execution_count": null,
      "outputs": [
        {
          "output_type": "execute_result",
          "data": {
            "text/plain": [
              "[('Maestría', 'en'),\n",
              " ('en', 'Inteligencia'),\n",
              " ('Inteligencia', 'Artificial'),\n",
              " ('Artificial', 'Procesamiento'),\n",
              " ('Procesamiento', 'de'),\n",
              " ('de', 'Lenguaje'),\n",
              " ('Lenguaje', 'Natural'),\n",
              " ('Natural', 'Universidad'),\n",
              " ('Universidad', 'Tecmilenio'),\n",
              " ('Tecmilenio', '.')]"
            ]
          },
          "metadata": {},
          "execution_count": 25
        }
      ]
    },
    {
      "cell_type": "markdown",
      "source": [
        "Adicionalmente, es posible utilizar distribuciones de frecuencia condicionales para determinar la cantidad de veces que una palabra aparece con otra en el texto. Por ejemplo, en “Emma” de Jean Austen, la palabra “Emma” aparece junto a was o could alrededor de 60 veces, así como had o felt aproximadamente 30 veces."
      ],
      "metadata": {
        "id": "VP7VBp1aoojO"
      }
    },
    {
      "cell_type": "code",
      "source": [
        "palabras = gutenberg.words('austen-emma.txt')\n",
        "bigramas = nltk.bigrams(palabras)\n",
        "cfd = nltk.ConditionalFreqDist(bigramas)"
      ],
      "metadata": {
        "id": "NHZP5SL0nyPu"
      },
      "execution_count": null,
      "outputs": []
    },
    {
      "cell_type": "code",
      "source": [
        "cfd['Emma']"
      ],
      "metadata": {
        "colab": {
          "base_uri": "https://localhost:8080/"
        },
        "id": "FQ0NOXOWpFkq",
        "outputId": "efd0b619-ccb3-4d67-89ed-1509ee9e7f75"
      },
      "execution_count": null,
      "outputs": [
        {
          "output_type": "execute_result",
          "data": {
            "text/plain": [
              "FreqDist({',': 173, \"'\": 80, 'was': 64, 'could': 61, '.': 44, 'had': 36, ';': 24, 'felt': 19, 'found': 12, 'and': 11, ...})"
            ]
          },
          "metadata": {},
          "execution_count": 27
        }
      ]
    },
    {
      "cell_type": "markdown",
      "source": [
        "Reflexiona:\n",
        "\n",
        "\n",
        "\n",
        "*   ¿Cuáles son los corpora y recursos léxicos que serían útiles para analizar la forma de escribir entre autores, los periodos en los que se escribieron ciertos textos o el género del autor que lo escribió?\n",
        "*   Te seleccionan para construir un analizador de sentimientos cuyo objetivo es predecir la opinión (negativa o positiva) expresada en un texto. ¿Qué información deberá tener el analizador para etiquetar un texto como positivo o negativo? \n",
        "\n",
        "*   ¿Cuál sería la entrada del analizador?\n",
        "*   ¿Cuál sería su salida?\n",
        "\n",
        "\n",
        "\n",
        "\n",
        "\n",
        "\n",
        "\n",
        "\n",
        "\n"
      ],
      "metadata": {
        "id": "mpQp_S8rpjU-"
      }
    }
  ]
}